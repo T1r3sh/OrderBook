{
 "cells": [
  {
   "cell_type": "code",
   "execution_count": 200,
   "metadata": {},
   "outputs": [],
   "source": [
    "from dataclasses import dataclass, field\n",
    "from datetime import datetime\n",
    "import time\n",
    "from functools import total_ordering\n",
    "import os\n",
    "from sortedcontainers import SortedList\n",
    "from enum import Enum, auto\n",
    "import random"
   ]
  },
  {
   "cell_type": "code",
   "execution_count": 2,
   "metadata": {},
   "outputs": [
    {
     "data": {
      "text/plain": [
       "0"
      ]
     },
     "execution_count": 2,
     "metadata": {},
     "output_type": "execute_result"
    }
   ],
   "source": [
    "class OrderIdGenerator:\n",
    "    def __init__(self):\n",
    "        self.filepath = os.path.join(os.getcwd(), \"current_state.txt\")\n",
    "        self.id_counter = self.load_state()\n",
    "        self.iterations_since_last_save = 0\n",
    "        self.save_frequency = 100\n",
    "\n",
    "    def __iter__(self):\n",
    "        return self\n",
    "\n",
    "    def __next__(self):\n",
    "        current_id = self.id_counter\n",
    "        self.id_counter += 1\n",
    "        self.iterations_since_last_save += 1\n",
    "        if self.iterations_since_last_save >= self.save_frequency:\n",
    "            self.save_state()\n",
    "            self.iterations_since_last_save = 0\n",
    "\n",
    "        return current_id\n",
    "\n",
    "    def save_state(self):\n",
    "        with open(self.filepath, \"w\") as f:\n",
    "            f.write(str(self.id_counter))\n",
    "\n",
    "    def load_state(self):\n",
    "        if not os.path.exists(self.filepath):\n",
    "            return 0\n",
    "        with open(self.filepath, \"r\") as f:\n",
    "            saved_state = f.read()\n",
    "            return int(saved_state)\n",
    "\n",
    "    def reset_state(self):\n",
    "        self.id_counter = 0\n",
    "        self.save_state()\n",
    "\n",
    "\n",
    "g_obj = OrderIdGenerator()\n",
    "next(g_obj)"
   ]
  },
  {
   "cell_type": "code",
   "execution_count": 3,
   "metadata": {},
   "outputs": [],
   "source": [
    "\n",
    "\n",
    "class OrderStatus(Enum):\n",
    "    CREATED = auto()\n",
    "    PARTIALLY_FILLED = auto()\n",
    "    FILLED = auto()\n",
    "    CANCELLED = auto()\n",
    "    "
   ]
  },
  {
   "cell_type": "code",
   "execution_count": 120,
   "metadata": {},
   "outputs": [],
   "source": [
    "@dataclass\n",
    "class Order:\n",
    "    order_type: str = field(compare=False)\n",
    "    security_name: str = field(compare=False)\n",
    "    price: float = field(compare=True)\n",
    "    volume: int = field(compare=False)\n",
    "    owner_id: int = field(compare=False)\n",
    "    status: int = field(compare=False, default=OrderStatus.CREATED)\n",
    "    id: int = field(compare=False, default_factory=g_obj.__next__)\n",
    "    created: float = field(compare=False, default_factory=time.time)\n",
    "    updated: float = field(compare=False, default_factory=time.time)\n",
    "    modified: float = field(compare=False, default_factory=time.time)\n",
    "\n",
    "    def __eq__(self, other):\n",
    "        if isinstance(other, (int, float)):\n",
    "            return self.price == other\n",
    "        if isinstance(other, Order):\n",
    "            return self.price == other.price\n",
    "        return NotImplemented\n",
    "\n",
    "    def __lt__(self, other):\n",
    "        if isinstance(other, (int, float)):\n",
    "            return self.price < other\n",
    "        if isinstance(other, Order):\n",
    "            return self.price < other.price\n",
    "        return NotImplemented\n",
    "\n",
    "    def __gt__(self, other):\n",
    "        if isinstance(other, (int, float)):\n",
    "            return self.price > other\n",
    "        if isinstance(other, Order):\n",
    "            return self.price > other.price\n",
    "        return NotImplemented\n",
    "\n",
    "    def __le__(self, other):\n",
    "        if isinstance(other, (int, float)):\n",
    "            return self.price <= other\n",
    "        if isinstance(other, Order):\n",
    "            return self.price <= other.price\n",
    "        return NotImplemented\n",
    "\n",
    "    def __ge__(self, other):\n",
    "        if isinstance(other, (int, float)):\n",
    "            return self.price >= other\n",
    "        if isinstance(other, Order):\n",
    "            return self.price >= other.price\n",
    "        return NotImplemented\n",
    "\n",
    "    def __repr__(self):\n",
    "        return (\n",
    "            f\"Order № {self.id} \\n\"\n",
    "            f\"Order Type {self.order_type} \\n\"\n",
    "            f\"Security: {self.security_name} \\n\"\n",
    "            f\"Price: {self.price} \\n\"\n",
    "            f\"Volume: {self.volume} \\n\"\n",
    "            f\"Owner: {self.owner_id} \\n\"\n",
    "            f\"Status: {self.status} \\n\"\n",
    "            f\"Created: {self.created} \\n\"\n",
    "            f\"Modified: {self.modified} \\n\"\n",
    "            f\"Last update: {self.updated} \\n\"\n",
    "        )\n",
    "\n",
    "    def __post_init__(self):\n",
    "        if self.volume <= 0:\n",
    "            raise ValueError(\"Volume must be positive\")\n",
    "        if self.price <= 0:\n",
    "            raise ValueError(\"Price must be positive\")\n",
    "        if self.order_type not in [\"ask\", \"bid\"]:\n",
    "            raise ValueError(\"Order type must be 'ask' or 'bid'\")\n",
    "        if self.status not in OrderStatus:\n",
    "            raise ValueError(\"Invalid order status\")\n",
    "\n",
    "    def __setattr__(self, key, value):\n",
    "        super().__setattr__(key, value)\n",
    "        if key == \"price\":\n",
    "            super().__setattr__(\"modified\", time.time())\n",
    "        if key != \"updated\":  # Избегаем рекурсивного вызова\n",
    "            super().__setattr__(\"updated\", time.time())\n",
    "\n",
    "    def json(self):\n",
    "        return {\n",
    "            \"order_type\": self.order_type,\n",
    "            \"security_name\": self.security_name,\n",
    "            \"price\": self.price,\n",
    "            \"volume\": self.volume,\n",
    "            \"owner_id\": self.owner_id,\n",
    "            \"status\": self.status,\n",
    "            \"id\": self.id,\n",
    "            \"created\": self.created,\n",
    "            \"modified\": self.modified,\n",
    "            \"updated\": self.updated,\n",
    "        }"
   ]
  },
  {
   "cell_type": "markdown",
   "metadata": {},
   "source": [
    "What functions I want to keep in Orderbook and what to outside the Book?\n",
    "\n",
    "We can create api wrapper that will keep all processes "
   ]
  },
  {
   "cell_type": "code",
   "execution_count": null,
   "metadata": {},
   "outputs": [],
   "source": [
    "import logging\n",
    "\n",
    "def logging_decorator(func):\n",
    "    def wrapper(*args, **kwargs):\n",
    "        # Logging setup\n",
    "        logger = logging.getLogger(func.__name__)\n",
    "        logger.setLevel(logging.INFO)\n",
    "        formatter = logging.Formatter('%(asctime)s - %(name)s - %(levelname)s - %(message)s')\n",
    "        stream_handler = logging.StreamHandler()\n",
    "        stream_handler.setFormatter(formatter)\n",
    "        logger.addHandler(stream_handler)\n",
    "        \n",
    "        # Logging before function execution\n",
    "        logger.info(f\"Calling function {func.__name__} with args: {args}, kwargs: {kwargs}\")\n",
    "        \n",
    "        # Function execution\n",
    "        result = func(*args, **kwargs)\n",
    "        \n",
    "        # Logging after function execution\n",
    "        logger.info(f\"Function {func.__name__} executed successfully. Result: {result}\")\n",
    "        \n",
    "        return result\n",
    "    \n",
    "    return wrapper\n"
   ]
  },
  {
   "cell_type": "code",
   "execution_count": 46,
   "metadata": {},
   "outputs": [
    {
     "data": {
      "text/plain": [
       "<OperationType.add: 1>"
      ]
     },
     "execution_count": 46,
     "metadata": {},
     "output_type": "execute_result"
    }
   ],
   "source": [
    "class OperationType(Enum):\n",
    "    add = auto()\n",
    "    fill = auto()\n",
    "    cancel = auto()"
   ]
  },
  {
   "cell_type": "code",
   "execution_count": 42,
   "metadata": {},
   "outputs": [
    {
     "name": "stdout",
     "output_type": "stream",
     "text": [
      "my_method\n",
      "5\n"
     ]
    },
    {
     "data": {
      "text/plain": [
       "5"
      ]
     },
     "execution_count": 42,
     "metadata": {},
     "output_type": "execute_result"
    }
   ],
   "source": [
    "def my_decorator(func):\n",
    "    def wrapper(self, *args, **kwargs):\n",
    "        print(func.__name__)\n",
    "        print(self.x)\n",
    "        result = func(self, *args, **kwargs)\n",
    "        # Действия после вызова функции\n",
    "        return result\n",
    "\n",
    "    return wrapper\n",
    "\n",
    "\n",
    "class MyClass:\n",
    "    def __init__(self):\n",
    "        self.x = 5\n",
    "    \n",
    "    \n",
    "    @my_decorator\n",
    "    def my_method(self):\n",
    "        return self.x\n",
    "\n",
    "c = MyClass()\n",
    "c.my_method()"
   ]
  },
  {
   "cell_type": "code",
   "execution_count": 169,
   "metadata": {},
   "outputs": [],
   "source": [
    "class OrderList:\n",
    "    def __init__(self, order_list=None):\n",
    "        self.__order_list = SortedList()\n",
    "        self.__ids = {}\n",
    "        if order_list:\n",
    "            for order in order_list:\n",
    "                self.add(order)\n",
    "\n",
    "    def add(self, order):\n",
    "        self.__order_list.add(order)\n",
    "        self.__ids[order.id] = order\n",
    "\n",
    "    def bisect_left(self, order, right = True):\n",
    "        cid = self.__order_list.bisect_left(order)\n",
    "        if right:\n",
    "            return self.__order_list[cid:]\n",
    "        else:\n",
    "            return self.__order_list[:cid]\n",
    "\n",
    "    def bisect_right(self, order, left = True):\n",
    "        cid = self.__order_list.bisect_right(order)\n",
    "        if left:\n",
    "            return self.__order_list[:cid]\n",
    "        else:\n",
    "            return self.__order_list[cid:]\n",
    "\n",
    "    def pop(self, index=-1):\n",
    "        order = self.__order_list.pop(index)\n",
    "        del self.__ids[order.id]\n",
    "        return order\n",
    "\n",
    "    def pop_by_id(self, order_id):\n",
    "        order = self.__ids[order_id]\n",
    "        self.remove(order)\n",
    "        return order\n",
    "\n",
    "    def remove(self, order):\n",
    "        self.__order_list.remove(order)\n",
    "        del self.__ids[order.id]\n",
    "\n",
    "    def clear(self):\n",
    "        self.__order_list.clear()\n",
    "        self.__ids.clear()\n",
    "\n",
    "    # def __getitem__(self, index):\n",
    "    #     return self.__order_list[index]\n",
    "    \n",
    "    \n",
    "    def __getitem__(self, order_id):\n",
    "        return self.__ids[order_id]\n",
    "\n",
    "    def __iter__(self):\n",
    "        return iter(self.__order_list)\n",
    "    \n",
    "    def __len__(self):\n",
    "        return len(self.__order_list)\n",
    "\n",
    "    def __repr__(self):\n",
    "        return str(self.__order_list)"
   ]
  },
  {
   "cell_type": "code",
   "execution_count": 170,
   "metadata": {},
   "outputs": [
    {
     "data": {
      "text/plain": [
       "172"
      ]
     },
     "execution_count": 170,
     "metadata": {},
     "output_type": "execute_result"
    }
   ],
   "source": [
    "a = Order(order_type=\"ask\", security_name=\"AAPL\", price=100, volume=10, owner_id=1)\n",
    "ol = OrderList([a])\n",
    "\n",
    "a.id"
   ]
  },
  {
   "cell_type": "code",
   "execution_count": 172,
   "metadata": {},
   "outputs": [],
   "source": [
    "b = Order(order_type=\"ask\", security_name=\"AAPL\", price=103, volume=10, owner_id=1)\n",
    "time.sleep(1)\n",
    "c = Order(order_type=\"ask\", security_name=\"AAPL\", price=99, volume=10, owner_id=1)\n",
    "ol.add(b)\n",
    "ol.add(c)\n"
   ]
  },
  {
   "cell_type": "code",
   "execution_count": 176,
   "metadata": {},
   "outputs": [
    {
     "data": {
      "text/plain": [
       "Order № 173 \n",
       "Order Type ask \n",
       "Security: AAPL \n",
       "Price: 103 \n",
       "Volume: 10 \n",
       "Owner: 1 \n",
       "Status: OrderStatus.CREATED \n",
       "Created: 1706795657.116274 \n",
       "Modified: 1706795657.116274 \n",
       "Last update: 1706795657.116274 "
      ]
     },
     "execution_count": 176,
     "metadata": {},
     "output_type": "execute_result"
    }
   ],
   "source": [
    "ol[173]"
   ]
  },
  {
   "cell_type": "code",
   "execution_count": null,
   "metadata": {},
   "outputs": [],
   "source": [
    "ol.price = 200 # Не работает, т.к. SortedList не поддерживает изменение элементов\n",
    "ol[0]"
   ]
  },
  {
   "cell_type": "code",
   "execution_count": 213,
   "metadata": {},
   "outputs": [
    {
     "name": "stdout",
     "output_type": "stream",
     "text": [
      "Order Tape:\n",
      "[{'contr_order': 535,\n",
      "  'order': 542,\n",
      "  'price': 102,\n",
      "  'time': 1706796799.5627055,\n",
      "  'volume': 93},\n",
      " {'contr_order': 521,\n",
      "  'order': 548,\n",
      "  'price': 100,\n",
      "  'time': 1706796799.5637028,\n",
      "  'volume': 12},\n",
      " {'contr_order': 532,\n",
      "  'order': 548,\n",
      "  'price': 97,\n",
      "  'time': 1706796799.5637028,\n",
      "  'volume': 37},\n",
      " {'contr_order': 531,\n",
      "  'order': 548,\n",
      "  'price': 99,\n",
      "  'time': 1706796799.5637028,\n",
      "  'volume': 35},\n",
      " {'contr_order': 531,\n",
      "  'order': 556,\n",
      "  'price': 99,\n",
      "  'time': 1706796799.5637028,\n",
      "  'volume': 64},\n",
      " {'contr_order': 523,\n",
      "  'order': 557,\n",
      "  'price': 91,\n",
      "  'time': 1706796799.5637028,\n",
      "  'volume': 1},\n",
      " {'contr_order': 537,\n",
      "  'order': 557,\n",
      "  'price': 97,\n",
      "  'time': 1706796799.5637028,\n",
      "  'volume': 55}]\n",
      "Ask Orders:\n",
      "['557 - 90',\n",
      " '560 - 94',\n",
      " '556 - 99',\n",
      " '559 - 99',\n",
      " '554 - 102',\n",
      " '545 - 103',\n",
      " '546 - 104',\n",
      " '551 - 105',\n",
      " '543 - 107',\n",
      " '549 - 107',\n",
      " '558 - 107',\n",
      " '555 - 110',\n",
      " '550 - 111',\n",
      " '544 - 113',\n",
      " '547 - 115',\n",
      " '552 - 117',\n",
      " '553 - 117',\n",
      " '541 - 118']\n",
      "Bid Orders:\n",
      "['534 - 50',\n",
      " '530 - 57',\n",
      " '540 - 58',\n",
      " '522 - 66',\n",
      " '526 - 68',\n",
      " '538 - 68',\n",
      " '536 - 69',\n",
      " '533 - 70',\n",
      " '539 - 74',\n",
      " '529 - 75',\n",
      " '525 - 77',\n",
      " '524 - 82',\n",
      " '528 - 82',\n",
      " '527 - 86']\n"
     ]
    }
   ],
   "source": [
    "import pprint\n",
    "\n",
    "\n",
    "class OrderBook:\n",
    "    def __init__(self):\n",
    "\n",
    "        self.ask = OrderList()\n",
    "\n",
    "        self.bid = OrderList()\n",
    "        self.tape = []\n",
    "\n",
    "\n",
    "    def add(self, order):\n",
    "        matched = []\n",
    "        if order.order_type == \"ask\":\n",
    "            matched = self.bid.bisect_left(order)\n",
    "        else:\n",
    "            matched = self.ask.bisect_right(order)\n",
    "        matched.sort(key=lambda x: x.modified)\n",
    "        while order.volume > 0 and matched:\n",
    "            current = matched.pop(0)\n",
    "            deal_price = current.price\n",
    "            self.fill(order, current, deal_price)\n",
    "        if order.volume > 0:\n",
    "            if order.order_type == \"ask\":\n",
    "                self.ask.add(order)\n",
    "            elif order.order_type == \"bid\":\n",
    "                self.bid.add(order)\n",
    "            else:\n",
    "                raise ValueError(\"Order type must be 'ask' or 'bid'\")\n",
    "\n",
    "\n",
    "    def fill(self, order, matched_order, price):\n",
    "        volume = 0\n",
    "        if matched_order.volume >= order.volume:\n",
    "            matched_order.volume -= order.volume\n",
    "            volume = order.volume\n",
    "            order.volume = 0\n",
    "            order.status = OrderStatus.FILLED\n",
    "            if matched_order.volume == 0:\n",
    "                self.remove_order(matched_order)\n",
    "            else:\n",
    "                self.get_order(matched_order).volume = matched_order.volume\n",
    "        else:\n",
    "            order.volume -= matched_order.volume\n",
    "            self.remove_order(matched_order)\n",
    "            volume = matched_order.volume\n",
    "        self.tape.append(\n",
    "            {\n",
    "                \"order\": order.id,\n",
    "                \"contr_order\": matched_order.id,\n",
    "                \"price\": price,\n",
    "                \"volume\": volume,\n",
    "                \"time\": time.time(),\n",
    "            }\n",
    "        )\n",
    "\n",
    "    def find_by_id(self, order_id):\n",
    "        if order_id in self.ask:\n",
    "            return self.ask[order_id]\n",
    "        elif order_id in self.bid:\n",
    "            return self.bid[order_id]\n",
    "        else:\n",
    "            raise ValueError(\"Order with such id doesn't exist\")\n",
    "\n",
    "    def get_order(self, order):\n",
    "        if order.order_type == \"ask\":\n",
    "            return self.ask[order.id]\n",
    "        elif order.order_type == \"bid\":\n",
    "            return self.bid[order.id]\n",
    "        else:\n",
    "            raise ValueError(\"Order type must be 'ask' or 'bid'\")\n",
    "\n",
    "    def remove_order(self, order):\n",
    "        if order.order_type == \"ask\":\n",
    "            self.ask.remove(order)\n",
    "        elif order.order_type == \"bid\":\n",
    "            self.bid.remove(order)\n",
    "        else:\n",
    "            raise ValueError(\"Order type must be 'ask' or 'bid'\")\n",
    "\n",
    "    def cancel(self, order):\n",
    "        self.get_order(order).status = OrderStatus.CANCELLED\n",
    "        self.remove_order(order)\n",
    "\n",
    "    def modify(self, order, price):\n",
    "        self.get_order(order).price = price\n",
    "\n",
    "    def proceede(self):\n",
    "        order_tape = self.order_tape.copy()\n",
    "        self.order_tape.clear()\n",
    "        return order_tape\n",
    "\n",
    "\n",
    "od = OrderBook()\n",
    "\n",
    "for _ in range(20):\n",
    "    tmp = Order(\n",
    "        order_type=\"bid\",\n",
    "        security_name=\"AAPL\",\n",
    "        price=random.randint(50, 105),\n",
    "        volume=random.randint(1, 100),\n",
    "        owner_id=random.randint(6, 11),\n",
    "    )\n",
    "\n",
    "    od.add(tmp)\n",
    "for _ in range(20):\n",
    "    tmp = Order(\n",
    "        order_type=\"ask\",\n",
    "        security_name=\"AAPL\",\n",
    "        price=random.randint(90, 120),\n",
    "        volume=random.randint(1, 100),\n",
    "        owner_id=random.randint(1, 5),\n",
    "    )\n",
    "\n",
    "    od.add(tmp)\n",
    "\n",
    "    # ...\n",
    "\n",
    "print(\"Order Tape:\")\n",
    "pprint.pprint(od.tape)\n",
    "\n",
    "print(\"Ask Orders:\")\n",
    "pprint.pprint([f\"{order.id} - {order.price}\" for order in od.ask])\n",
    "\n",
    "print(\"Bid Orders:\")\n",
    "pprint.pprint([f\"{order.id} - {order.price}\" for order in od.bid])\n",
    "\n",
    "# print(od.tape)\n",
    "# print([f\"{order.id} - {order.price}\" for order in od.ask])\n",
    "# print([f\"{order.id} - {order.price}\" for order in od.bid])"
   ]
  },
  {
   "cell_type": "code",
   "execution_count": 208,
   "metadata": {},
   "outputs": [
    {
     "name": "stdout",
     "output_type": "stream",
     "text": [
      "['id 266 volume 9', 'id 268 volume 9', 'id 270 volume 15', 'id 264 volume 2', 'id 269 volume 17', 'id 267 volume 24', 'id 265 volume 7', 'id 263 volume 9']\n",
      "['id 280 volume 50', 'id 273 volume 22', 'id 274 volume 24', 'id 275 volume 35', 'id 278 volume 46', 'id 279 volume 31', 'id 277 volume 28', 'id 276 volume 21', 'id 272 volume 5']\n"
     ]
    }
   ],
   "source": [
    "print([f\"id {order.id} volume {order.volume}\"for order in od.ask])\n",
    "print([f\"id {order.id} volume {order.volume}\"for order in od.bid])"
   ]
  },
  {
   "cell_type": "code",
   "execution_count": 209,
   "metadata": {},
   "outputs": [
    {
     "name": "stdout",
     "output_type": "stream",
     "text": [
      "['266 - 89', '268 - 92', '270 - 98', '264 - 101', '269 - 106', '267 - 113', '265 - 116', '263 - 122']\n",
      "['280 - 69', '273 - 70', '274 - 70', '275 - 70', '278 - 71', '279 - 72', '277 - 76', '276 - 79', '272 - 87']\n"
     ]
    }
   ],
   "source": [
    "print([f\"{order.id} - {order.price}\" for order in od.ask])\n",
    "print([f\"{order.id} - {order.price}\" for order in od.bid])"
   ]
  },
  {
   "cell_type": "code",
   "execution_count": 187,
   "metadata": {},
   "outputs": [
    {
     "name": "stdout",
     "output_type": "stream",
     "text": [
      "[(76, 5), (81, 14), (82, 13), (89, 18), (93, 10), (98, 24), (101, 11), (110, 3), (118, 15), (120, 16)]\n"
     ]
    }
   ],
   "source": [
    "for _ in range(10):\n",
    "    tmp = Order(order_type=\"ask\", security_name=\"AAPL\", price=random.randint(75, 125), volume=random.randint(1, 25), owner_id=random.randint(1, 5))\n",
    "    \n",
    "    od.add(tmp)"
   ]
  },
  {
   "cell_type": "code",
   "execution_count": 198,
   "metadata": {},
   "outputs": [
    {
     "ename": "ValueError",
     "evalue": "212 not in list",
     "output_type": "error",
     "traceback": [
      "\u001b[1;31m---------------------------------------------------------------------------\u001b[0m",
      "\u001b[1;31mValueError\u001b[0m                                Traceback (most recent call last)",
      "Cell \u001b[1;32mIn[198], line 10\u001b[0m\n\u001b[0;32m      1\u001b[0m \u001b[38;5;28;01mfor\u001b[39;00m _ \u001b[38;5;129;01min\u001b[39;00m \u001b[38;5;28mrange\u001b[39m(\u001b[38;5;241m10\u001b[39m):\n\u001b[0;32m      2\u001b[0m     tmp \u001b[38;5;241m=\u001b[39m Order(\n\u001b[0;32m      3\u001b[0m         order_type\u001b[38;5;241m=\u001b[39m\u001b[38;5;124m\"\u001b[39m\u001b[38;5;124mbid\u001b[39m\u001b[38;5;124m\"\u001b[39m,\n\u001b[0;32m      4\u001b[0m         security_name\u001b[38;5;241m=\u001b[39m\u001b[38;5;124m\"\u001b[39m\u001b[38;5;124mAAPL\u001b[39m\u001b[38;5;124m\"\u001b[39m,\n\u001b[1;32m   (...)\u001b[0m\n\u001b[0;32m      7\u001b[0m         owner_id\u001b[38;5;241m=\u001b[39mrandom\u001b[38;5;241m.\u001b[39mrandint(\u001b[38;5;241m6\u001b[39m, \u001b[38;5;241m10\u001b[39m),\n\u001b[0;32m      8\u001b[0m     )\n\u001b[1;32m---> 10\u001b[0m     \u001b[43mod\u001b[49m\u001b[38;5;241;43m.\u001b[39;49m\u001b[43madd\u001b[49m\u001b[43m(\u001b[49m\u001b[43mtmp\u001b[49m\u001b[43m)\u001b[49m\n",
      "Cell \u001b[1;32mIn[185], line 17\u001b[0m, in \u001b[0;36mOrderBook.add\u001b[1;34m(self, order)\u001b[0m\n\u001b[0;32m     15\u001b[0m     current \u001b[38;5;241m=\u001b[39m matched\u001b[38;5;241m.\u001b[39mpop(\u001b[38;5;241m0\u001b[39m)\n\u001b[0;32m     16\u001b[0m     deal_price \u001b[38;5;241m=\u001b[39m current\u001b[38;5;241m.\u001b[39mprice \n\u001b[1;32m---> 17\u001b[0m     \u001b[38;5;28;43mself\u001b[39;49m\u001b[38;5;241;43m.\u001b[39;49m\u001b[43mfill\u001b[49m\u001b[43m(\u001b[49m\u001b[43morder\u001b[49m\u001b[43m,\u001b[49m\u001b[43m \u001b[49m\u001b[43mcurrent\u001b[49m\u001b[43m,\u001b[49m\u001b[43m \u001b[49m\u001b[43mdeal_price\u001b[49m\u001b[43m)\u001b[49m\n\u001b[0;32m     18\u001b[0m \u001b[38;5;28;01mif\u001b[39;00m order\u001b[38;5;241m.\u001b[39mvolume \u001b[38;5;241m>\u001b[39m \u001b[38;5;241m0\u001b[39m:\n\u001b[0;32m     19\u001b[0m     \u001b[38;5;28;01mif\u001b[39;00m order\u001b[38;5;241m.\u001b[39morder_type \u001b[38;5;241m==\u001b[39m \u001b[38;5;124m\"\u001b[39m\u001b[38;5;124mask\u001b[39m\u001b[38;5;124m\"\u001b[39m:\n",
      "Cell \u001b[1;32mIn[185], line 40\u001b[0m, in \u001b[0;36mOrderBook.fill\u001b[1;34m(self, order, matched_order, price)\u001b[0m\n\u001b[0;32m     38\u001b[0m \u001b[38;5;28;01melse\u001b[39;00m:\n\u001b[0;32m     39\u001b[0m     order\u001b[38;5;241m.\u001b[39mvolume \u001b[38;5;241m-\u001b[39m\u001b[38;5;241m=\u001b[39m matched_order\u001b[38;5;241m.\u001b[39mvolume\n\u001b[1;32m---> 40\u001b[0m     \u001b[38;5;28;43mself\u001b[39;49m\u001b[38;5;241;43m.\u001b[39;49m\u001b[43mremove_order\u001b[49m\u001b[43m(\u001b[49m\u001b[43mmatched_order\u001b[49m\u001b[43m)\u001b[49m\n\u001b[0;32m     41\u001b[0m     volume \u001b[38;5;241m=\u001b[39m matched_order\u001b[38;5;241m.\u001b[39mvolume\n\u001b[0;32m     42\u001b[0m \u001b[38;5;28mself\u001b[39m\u001b[38;5;241m.\u001b[39mtape\u001b[38;5;241m.\u001b[39mappend(\n\u001b[0;32m     43\u001b[0m     {\n\u001b[0;32m     44\u001b[0m         \u001b[38;5;124m\"\u001b[39m\u001b[38;5;124morder\u001b[39m\u001b[38;5;124m\"\u001b[39m: order\u001b[38;5;241m.\u001b[39mid,\n\u001b[1;32m   (...)\u001b[0m\n\u001b[0;32m     49\u001b[0m     }\n\u001b[0;32m     50\u001b[0m )\n",
      "Cell \u001b[1;32mIn[185], line 69\u001b[0m, in \u001b[0;36mOrderBook.remove_order\u001b[1;34m(self, order)\u001b[0m\n\u001b[0;32m     67\u001b[0m \u001b[38;5;28;01mdef\u001b[39;00m \u001b[38;5;21mremove_order\u001b[39m(\u001b[38;5;28mself\u001b[39m, order):\n\u001b[0;32m     68\u001b[0m     \u001b[38;5;28;01mif\u001b[39;00m order\u001b[38;5;241m.\u001b[39morder_type \u001b[38;5;241m==\u001b[39m \u001b[38;5;124m\"\u001b[39m\u001b[38;5;124mask\u001b[39m\u001b[38;5;124m\"\u001b[39m:\n\u001b[1;32m---> 69\u001b[0m         \u001b[38;5;28;43mself\u001b[39;49m\u001b[38;5;241;43m.\u001b[39;49m\u001b[43mask\u001b[49m\u001b[38;5;241;43m.\u001b[39;49m\u001b[43mremove\u001b[49m\u001b[43m(\u001b[49m\u001b[43morder\u001b[49m\u001b[38;5;241;43m.\u001b[39;49m\u001b[43mid\u001b[49m\u001b[43m)\u001b[49m\n\u001b[0;32m     70\u001b[0m     \u001b[38;5;28;01melif\u001b[39;00m order\u001b[38;5;241m.\u001b[39morder_type \u001b[38;5;241m==\u001b[39m \u001b[38;5;124m\"\u001b[39m\u001b[38;5;124mbid\u001b[39m\u001b[38;5;124m\"\u001b[39m:\n\u001b[0;32m     71\u001b[0m         \u001b[38;5;28mself\u001b[39m\u001b[38;5;241m.\u001b[39mbid\u001b[38;5;241m.\u001b[39mremove(order\u001b[38;5;241m.\u001b[39mid)\n",
      "Cell \u001b[1;32mIn[169], line 38\u001b[0m, in \u001b[0;36mOrderList.remove\u001b[1;34m(self, order)\u001b[0m\n\u001b[0;32m     37\u001b[0m \u001b[38;5;28;01mdef\u001b[39;00m \u001b[38;5;21mremove\u001b[39m(\u001b[38;5;28mself\u001b[39m, order):\n\u001b[1;32m---> 38\u001b[0m     \u001b[38;5;28;43mself\u001b[39;49m\u001b[38;5;241;43m.\u001b[39;49m\u001b[43m__order_list\u001b[49m\u001b[38;5;241;43m.\u001b[39;49m\u001b[43mremove\u001b[49m\u001b[43m(\u001b[49m\u001b[43morder\u001b[49m\u001b[43m)\u001b[49m\n\u001b[0;32m     39\u001b[0m     \u001b[38;5;28;01mdel\u001b[39;00m \u001b[38;5;28mself\u001b[39m\u001b[38;5;241m.\u001b[39m__ids[order\u001b[38;5;241m.\u001b[39mid]\n",
      "File \u001b[1;32mc:\\Users\\Miqasa\\OneDrive\\Документы\\project_par_dir\\ds_projs\\orderbook_telegramm_webapp\\.venv\\Lib\\site-packages\\sortedcontainers\\sortedlist.py:454\u001b[0m, in \u001b[0;36mSortedList.remove\u001b[1;34m(self, value)\u001b[0m\n\u001b[0;32m    451\u001b[0m pos \u001b[38;5;241m=\u001b[39m bisect_left(_maxes, value)\n\u001b[0;32m    453\u001b[0m \u001b[38;5;28;01mif\u001b[39;00m pos \u001b[38;5;241m==\u001b[39m \u001b[38;5;28mlen\u001b[39m(_maxes):\n\u001b[1;32m--> 454\u001b[0m     \u001b[38;5;28;01mraise\u001b[39;00m \u001b[38;5;167;01mValueError\u001b[39;00m(\u001b[38;5;124m'\u001b[39m\u001b[38;5;132;01m{0!r}\u001b[39;00m\u001b[38;5;124m not in list\u001b[39m\u001b[38;5;124m'\u001b[39m\u001b[38;5;241m.\u001b[39mformat(value))\n\u001b[0;32m    456\u001b[0m _lists \u001b[38;5;241m=\u001b[39m \u001b[38;5;28mself\u001b[39m\u001b[38;5;241m.\u001b[39m_lists\n\u001b[0;32m    457\u001b[0m idx \u001b[38;5;241m=\u001b[39m bisect_left(_lists[pos], value)\n",
      "\u001b[1;31mValueError\u001b[0m: 212 not in list"
     ]
    }
   ],
   "source": []
  },
  {
   "cell_type": "code",
   "execution_count": 199,
   "metadata": {},
   "outputs": [
    {
     "data": {
      "text/plain": [
       "[]"
      ]
     },
     "execution_count": 199,
     "metadata": {},
     "output_type": "execute_result"
    }
   ],
   "source": [
    "od.tape"
   ]
  },
  {
   "cell_type": "code",
   "execution_count": 184,
   "metadata": {},
   "outputs": [
    {
     "ename": "AttributeError",
     "evalue": "'int' object has no attribute 'order_type'",
     "output_type": "error",
     "traceback": [
      "\u001b[1;31m---------------------------------------------------------------------------\u001b[0m",
      "\u001b[1;31mAttributeError\u001b[0m                            Traceback (most recent call last)",
      "Cell \u001b[1;32mIn[184], line 1\u001b[0m\n\u001b[1;32m----> 1\u001b[0m \u001b[43mod\u001b[49m\u001b[38;5;241;43m.\u001b[39;49m\u001b[43mget_order\u001b[49m\u001b[43m(\u001b[49m\u001b[38;5;241;43m200\u001b[39;49m\u001b[43m)\u001b[49m\n",
      "Cell \u001b[1;32mIn[177], line 53\u001b[0m, in \u001b[0;36mOrderBook.get_order\u001b[1;34m(self, order)\u001b[0m\n\u001b[0;32m     52\u001b[0m \u001b[38;5;28;01mdef\u001b[39;00m \u001b[38;5;21mget_order\u001b[39m(\u001b[38;5;28mself\u001b[39m, order):\n\u001b[1;32m---> 53\u001b[0m     \u001b[38;5;28;01mif\u001b[39;00m \u001b[43morder\u001b[49m\u001b[38;5;241;43m.\u001b[39;49m\u001b[43morder_type\u001b[49m \u001b[38;5;241m==\u001b[39m \u001b[38;5;124m\"\u001b[39m\u001b[38;5;124mask\u001b[39m\u001b[38;5;124m\"\u001b[39m:\n\u001b[0;32m     54\u001b[0m         \u001b[38;5;28;01mreturn\u001b[39;00m \u001b[38;5;28mself\u001b[39m\u001b[38;5;241m.\u001b[39mask[order\u001b[38;5;241m.\u001b[39mid]\n\u001b[0;32m     55\u001b[0m     \u001b[38;5;28;01melif\u001b[39;00m order\u001b[38;5;241m.\u001b[39morder_type \u001b[38;5;241m==\u001b[39m \u001b[38;5;124m\"\u001b[39m\u001b[38;5;124mbid\u001b[39m\u001b[38;5;124m\"\u001b[39m:\n",
      "\u001b[1;31mAttributeError\u001b[0m: 'int' object has no attribute 'order_type'"
     ]
    }
   ],
   "source": []
  },
  {
   "cell_type": "code",
   "execution_count": null,
   "metadata": {},
   "outputs": [],
   "source": [
    "import unittest\n",
    "\n",
    "class OrderBookTests(unittest.TestCase):\n",
    "    def setUp(self):\n",
    "        self.order_book = OrderBook()\n",
    "\n",
    "    def test_add_order(self):\n",
    "        order = Order(order_type=\"ask\", security_name=\"AAPL\", price=100, volume=10, owner_id=1)\n",
    "        self.order_book.add(order)\n",
    "        self.assertEqual(len(self.order_book.ask), 1)\n",
    "\n",
    "    def test_fill_order(self):\n",
    "        order1 = Order(order_type=\"ask\", security_name=\"AAPL\", price=100, volume=10, owner_id=1)\n",
    "        order2 = Order(order_type=\"bid\", security_name=\"AAPL\", price=100, volume=5, owner_id=2)\n",
    "        self.order_book.add(order1)\n",
    "        self.order_book.add(order2)\n",
    "        self.assertEqual(len(self.order_book.ask), 0)\n",
    "        self.assertEqual(len(self.order_book.bid), 0)\n",
    "        self.assertEqual(len(self.order_book.tape), 1)\n",
    "\n",
    "    def test_cancel_order(self):\n",
    "        order = Order(order_type=\"ask\", security_name=\"AAPL\", price=100, volume=10, owner_id=1)\n",
    "        self.order_book.add(order)\n",
    "        self.order_book.cancel(order.id)\n",
    "        self.assertEqual(order.status, OrderStatus.CANCELLED)\n",
    "        self.assertEqual(len(self.order_book.ask), 0)\n",
    "\n",
    "    def test_modify_order(self):\n",
    "        order = Order(order_type=\"ask\", security_name=\"AAPL\", price=100, volume=10, owner_id=1)\n",
    "        self.order_book.add(order)\n",
    "        self.order_book.modify(order.id, 200)\n",
    "        self.assertEqual(order.price, 200)\n",
    "\n",
    "    def tearDown(self):\n",
    "        self.order_book = None\n",
    "\n",
    "unittest.main()\n"
   ]
  },
  {
   "cell_type": "markdown",
   "metadata": {},
   "source": [
    "Order lifecycle\n",
    "\n",
    "Creation -> Added to Orderbook -> Matching -> Repeat till filled -> Every n-ish minutes are "
   ]
  },
  {
   "cell_type": "code",
   "execution_count": 54,
   "metadata": {},
   "outputs": [],
   "source": [
    "sl = SortedList()\n",
    "a = Order(order_type=\"ask\", security_name=\"AAPL\", price=100, volume=10, owner_id=1)\n",
    "time.sleep(1)\n",
    "b = Order(order_type=\"ask\", security_name=\"AAPL\", price=101, volume=50, owner_id=1)\n",
    "time.sleep(1)\n",
    "c = Order(order_type=\"ask\", security_name=\"AAPL\", price=102, volume=80, owner_id=1)"
   ]
  },
  {
   "cell_type": "code",
   "execution_count": 51,
   "metadata": {},
   "outputs": [
    {
     "name": "stdout",
     "output_type": "stream",
     "text": [
      "True\n"
     ]
    }
   ],
   "source": [
    "omap = {}\n",
    "sl = SortedList()\n",
    "omap[a.id] = a\n",
    "sl.add(omap[a.id])\n",
    "are_same = (omap[a.id] is sl[0])\n",
    "print(are_same)\n"
   ]
  },
  {
   "cell_type": "code",
   "execution_count": 77,
   "metadata": {},
   "outputs": [],
   "source": []
  },
  {
   "cell_type": "code",
   "execution_count": 78,
   "metadata": {},
   "outputs": [
    {
     "data": {
      "text/plain": [
       "SortedList([Order № 13 \n",
       "Order Type ask \n",
       "Security: AAPL \n",
       "Price: 100 \n",
       "Volume: 10 \n",
       "Owner: 1 \n",
       "Status: OrderStatus.CREATED \n",
       "Created: 1706783465.5706851 \n",
       "Last update: 1706783465.5706851 \n",
       ", Order № 14 \n",
       "Order Type ask \n",
       "Security: AAPL \n",
       "Price: 101 \n",
       "Volume: 50 \n",
       "Owner: 1 \n",
       "Status: OrderStatus.CREATED \n",
       "Created: 1706783466.5719347 \n",
       "Last update: 1706783466.5719347 \n",
       ", Order № 15 \n",
       "Order Type ask \n",
       "Security: AAPL \n",
       "Price: 102 \n",
       "Volume: 80 \n",
       "Owner: 1 \n",
       "Status: OrderStatus.CREATED \n",
       "Created: 1706783467.5725536 \n",
       "Last update: 1706783467.5725536 \n",
       "])"
      ]
     },
     "execution_count": 78,
     "metadata": {},
     "output_type": "execute_result"
    }
   ],
   "source": [
    "tl = OrderList([a, b])\n",
    "tl.add(c)\n",
    "tl"
   ]
  },
  {
   "cell_type": "code",
   "execution_count": 83,
   "metadata": {},
   "outputs": [
    {
     "data": {
      "text/plain": [
       "SortedList([Order № 13 \n",
       "Order Type ask \n",
       "Security: AAPL \n",
       "Price: 100 \n",
       "Volume: 10 \n",
       "Owner: 1 \n",
       "Status: OrderStatus.CREATED \n",
       "Created: 1706783465.5706851 \n",
       "Last update: 1706783465.5706851 \n",
       ", Order № 14 \n",
       "Order Type ask \n",
       "Security: AAPL \n",
       "Price: 101 \n",
       "Volume: 50 \n",
       "Owner: 1 \n",
       "Status: OrderStatus.CREATED \n",
       "Created: 1706783466.5719347 \n",
       "Last update: 1706783466.5719347 \n",
       "])"
      ]
     },
     "execution_count": 83,
     "metadata": {},
     "output_type": "execute_result"
    }
   ],
   "source": [
    "tl"
   ]
  },
  {
   "cell_type": "code",
   "execution_count": 49,
   "metadata": {},
   "outputs": [
    {
     "name": "stdout",
     "output_type": "stream",
     "text": [
      "Order № 7 \n",
      "Order Type ask \n",
      "Security: AAPL \n",
      "Price: 100 \n",
      "Volume: 10 \n",
      "Owner: 1 \n",
      "Status: OrderStatus.CREATED \n",
      "Created: 1706739080.7954504 \n",
      "Last update: 1706739080.7954504 \n",
      "\n",
      "Order № 7 \n",
      "Order Type ask \n",
      "Security: AAPL \n",
      "Price: 100 \n",
      "Volume: 10 \n",
      "Owner: 1 \n",
      "Status: OrderStatus.FILLED \n",
      "Created: 1706739080.7954504 \n",
      "Last update: 1706739108.0433347 \n",
      "\n"
     ]
    }
   ],
   "source": [
    "print(a)\n",
    "time.sleep(1)\n",
    "a.status = OrderStatus.FILLED\n",
    "print(a)"
   ]
  },
  {
   "cell_type": "code",
   "execution_count": 14,
   "metadata": {},
   "outputs": [
    {
     "data": {
      "text/plain": [
       "1"
      ]
     },
     "execution_count": 14,
     "metadata": {},
     "output_type": "execute_result"
    }
   ],
   "source": [
    "sl.clear()\n",
    "sl.add(a)\n",
    "sl.add(b)\n",
    "sl.add(c)\n",
    "sl.bisect_left(Order(order_type=\"ask\", security_name=\"AAPL\", price=101, volume=50, owner_id=1))"
   ]
  },
  {
   "cell_type": "code",
   "execution_count": 16,
   "metadata": {},
   "outputs": [],
   "source": [
    "sl.remove(b)"
   ]
  },
  {
   "cell_type": "code",
   "execution_count": 17,
   "metadata": {},
   "outputs": [
    {
     "data": {
      "text/plain": [
       "SortedList([Order № 1 \n",
       "Order Type ask \n",
       "Security: AAPL \n",
       "Price: 100 \n",
       "Volume: 10 \n",
       "Owner: 1 \n",
       "Status: OrderStatus.CREATED \n",
       "Created: 1706699471.7772381 \n",
       "Last update: 1706699471.7772381 \n",
       ", Order № 3 \n",
       "Order Type ask \n",
       "Security: AAPL \n",
       "Price: 102 \n",
       "Volume: 80 \n",
       "Owner: 1 \n",
       "Status: OrderStatus.CREATED \n",
       "Created: 1706699473.7799664 \n",
       "Last update: 1706699473.7799664 \n",
       "])"
      ]
     },
     "execution_count": 17,
     "metadata": {},
     "output_type": "execute_result"
    }
   ],
   "source": [
    "sl"
   ]
  },
  {
   "cell_type": "code",
   "execution_count": 15,
   "metadata": {},
   "outputs": [
    {
     "name": "stdout",
     "output_type": "stream",
     "text": [
      "[Order № 1 \n",
      "Order Type ask \n",
      "Security: AAPL \n",
      "Price: 100 \n",
      "Volume: 10 \n",
      "Owner: 1 \n",
      "Status: OrderStatus.CREATED \n",
      "Created: 1706699471.7772381 \n",
      "Last update: 1706699471.7772381 \n",
      ", Order № 2 \n",
      "Order Type ask \n",
      "Security: AAPL \n",
      "Price: 101 \n",
      "Volume: 50 \n",
      "Owner: 1 \n",
      "Status: OrderStatus.CREATED \n",
      "Created: 1706699472.7790332 \n",
      "Last update: 1706699472.7790332 \n",
      "]\n"
     ]
    }
   ],
   "source": [
    "kk = sl[:2]\n",
    "kk.sort(key=lambda x: x.last_update)\n",
    "print(kk)"
   ]
  },
  {
   "cell_type": "code",
   "execution_count": 29,
   "metadata": {},
   "outputs": [],
   "source": [
    "from bintrees import FastRBTree, RBTree"
   ]
  },
  {
   "cell_type": "code",
   "execution_count": 30,
   "metadata": {},
   "outputs": [
    {
     "data": {
      "text/plain": [
       "RBTree({1: Order № 7 \n",
       "Order Type ask \n",
       "Security: AAPL \n",
       "Price: 100 \n",
       "Volume: 10 \n",
       "Owner: 1 \n",
       "Status: OrderStatus.CREATED \n",
       "Created: 1706372748.6780784 \n",
       "Last update: 1706372748.6780784 \n",
       ", 2: Order № 8 \n",
       "Order Type ask \n",
       "Security: AAPL \n",
       "Price: 101 \n",
       "Volume: 50 \n",
       "Owner: 1 \n",
       "Status: OrderStatus.CREATED \n",
       "Created: 1706372749.68011 \n",
       "Last update: 1706372749.68011 \n",
       ", 3: Order № 9 \n",
       "Order Type ask \n",
       "Security: AAPL \n",
       "Price: 102 \n",
       "Volume: 80 \n",
       "Owner: 1 \n",
       "Status: OrderStatus.CREATED \n",
       "Created: 1706372750.6813135 \n",
       "Last update: 1706372750.6813135 \n",
       "})"
      ]
     },
     "execution_count": 30,
     "metadata": {},
     "output_type": "execute_result"
    }
   ],
   "source": [
    "tree = RBTree()\n",
    "tree.insert(1, a)\n",
    "tree.insert(2, b)\n",
    "tree.insert(3, c)\n",
    "\n",
    "tree"
   ]
  },
  {
   "cell_type": "code",
   "execution_count": 31,
   "metadata": {},
   "outputs": [
    {
     "ename": "AttributeError",
     "evalue": "'RBTree' object has no attribute 'bisect_left'",
     "output_type": "error",
     "traceback": [
      "\u001b[1;31m---------------------------------------------------------------------------\u001b[0m",
      "\u001b[1;31mAttributeError\u001b[0m                            Traceback (most recent call last)",
      "Cell \u001b[1;32mIn[31], line 1\u001b[0m\n\u001b[1;32m----> 1\u001b[0m \u001b[43mtree\u001b[49m\u001b[38;5;241;43m.\u001b[39;49m\u001b[43mbisect_left\u001b[49m(\u001b[38;5;241m101\u001b[39m)\n",
      "\u001b[1;31mAttributeError\u001b[0m: 'RBTree' object has no attribute 'bisect_left'"
     ]
    }
   ],
   "source": [
    "tree."
   ]
  },
  {
   "cell_type": "code",
   "execution_count": 14,
   "metadata": {},
   "outputs": [
    {
     "ename": "TypeError",
     "evalue": "'<' not supported between instances of 'Order' and 'Order'",
     "output_type": "error",
     "traceback": [
      "\u001b[1;31m---------------------------------------------------------------------------\u001b[0m",
      "\u001b[1;31mTypeError\u001b[0m                                 Traceback (most recent call last)",
      "Cell \u001b[1;32mIn[14], line 1\u001b[0m\n\u001b[1;32m----> 1\u001b[0m \u001b[43msl\u001b[49m\u001b[38;5;241;43m.\u001b[39;49m\u001b[43madd\u001b[49m\u001b[43m(\u001b[49m\u001b[43ma\u001b[49m\u001b[43m)\u001b[49m\n\u001b[0;32m      2\u001b[0m sl\u001b[38;5;241m.\u001b[39madd(b)\n\u001b[0;32m      3\u001b[0m sl\u001b[38;5;241m.\u001b[39madd(c)\n",
      "File \u001b[1;32mc:\\Users\\Miqasa\\OneDrive\\Документы\\project_par_dir\\ds_projs\\orderbook_telegramm_webapp\\.venv\\Lib\\site-packages\\sortedcontainers\\sortedlist.py:272\u001b[0m, in \u001b[0;36mSortedList.add\u001b[1;34m(self, value)\u001b[0m\n\u001b[0;32m    269\u001b[0m _maxes \u001b[38;5;241m=\u001b[39m \u001b[38;5;28mself\u001b[39m\u001b[38;5;241m.\u001b[39m_maxes\n\u001b[0;32m    271\u001b[0m \u001b[38;5;28;01mif\u001b[39;00m _maxes:\n\u001b[1;32m--> 272\u001b[0m     pos \u001b[38;5;241m=\u001b[39m \u001b[43mbisect_right\u001b[49m\u001b[43m(\u001b[49m\u001b[43m_maxes\u001b[49m\u001b[43m,\u001b[49m\u001b[43m \u001b[49m\u001b[43mvalue\u001b[49m\u001b[43m)\u001b[49m\n\u001b[0;32m    274\u001b[0m     \u001b[38;5;28;01mif\u001b[39;00m pos \u001b[38;5;241m==\u001b[39m \u001b[38;5;28mlen\u001b[39m(_maxes):\n\u001b[0;32m    275\u001b[0m         pos \u001b[38;5;241m-\u001b[39m\u001b[38;5;241m=\u001b[39m \u001b[38;5;241m1\u001b[39m\n",
      "\u001b[1;31mTypeError\u001b[0m: '<' not supported between instances of 'Order' and 'Order'"
     ]
    }
   ],
   "source": [
    "sl.add(a)\n",
    "sl.add(b)\n",
    "sl.add(c)\n",
    "sl"
   ]
  },
  {
   "cell_type": "code",
   "execution_count": null,
   "metadata": {},
   "outputs": [],
   "source": [
    "from enum import Enum\n",
    "\n",
    "class MarketSecurities(Enum):\n",
    "    APPLE = 1\n",
    "    GOOGLE = 2\n",
    "    MICROSOFT = 3\n",
    "    AMAZON = 4\n",
    "\n",
    "# Example usage\n",
    "security_id = MarketSecurities.APPLE.value\n",
    "print(security_id)  # Output: 1\n"
   ]
  },
  {
   "cell_type": "code",
   "execution_count": null,
   "metadata": {},
   "outputs": [],
   "source": [
    "from enum import Enum, auto\n",
    "\n",
    "id_dict = {\"AAPLE\": 1, \"GOOGLE\": 2, \"MICROSOFT\": 3, \"AMAZON\": 4}\n",
    "\n",
    "class MarketSecurities(Enum):\n",
    "    pass\n",
    "\n",
    "for name, value in id_dict.items():\n",
    "    setattr(MarketSecurities, name, value)\n",
    "\n",
    "# Example usage\n",
    "security_id = MarketSecurities.APPLE.value\n",
    "print(security_id)  # Output: 1\n"
   ]
  },
  {
   "cell_type": "code",
   "execution_count": 19,
   "metadata": {},
   "outputs": [
    {
     "name": "stdout",
     "output_type": "stream",
     "text": [
      "30\n"
     ]
    },
    {
     "data": {
      "text/plain": [
       "<OrderStatus.PARTIALLY_FILLED: 2>"
      ]
     },
     "execution_count": 19,
     "metadata": {},
     "output_type": "execute_result"
    }
   ],
   "source": [
    "a = Order(\"bid\", \"Microsoft\", 100, 10, 1)\n",
    "print(a.fill(15))\n",
    "a.status\n",
    "# b = Order(\"bid\", \"Microsoft\", 110, 10, 1)\n",
    "# c = Order(\"bid\", \"Microsoft\", 95, 10, 1)\n",
    "# print(a)\n",
    "# print(b)\n",
    "# print(c)"
   ]
  },
  {
   "cell_type": "code",
   "execution_count": 15,
   "metadata": {},
   "outputs": [
    {
     "data": {
      "text/plain": [
       "<OrderStatus.CANCELLED: 4>"
      ]
     },
     "execution_count": 15,
     "metadata": {},
     "output_type": "execute_result"
    }
   ],
   "source": []
  },
  {
   "cell_type": "code",
   "execution_count": 11,
   "metadata": {},
   "outputs": [],
   "source": [
    "from bintrees import AVLTree, RBTree"
   ]
  },
  {
   "cell_type": "code",
   "execution_count": 15,
   "metadata": {},
   "outputs": [],
   "source": [
    "from sortedcontainers import SortedList"
   ]
  },
  {
   "cell_type": "code",
   "execution_count": 40,
   "metadata": {},
   "outputs": [],
   "source": [
    "sl = SortedList([a, b, c])"
   ]
  },
  {
   "cell_type": "code",
   "execution_count": 42,
   "metadata": {},
   "outputs": [],
   "source": [
    "d= Order(\"bid\", \"Microsoft\", 80, 100, 1)"
   ]
  },
  {
   "cell_type": "code",
   "execution_count": 43,
   "metadata": {},
   "outputs": [
    {
     "name": "stdout",
     "output_type": "stream",
     "text": [
      "SortedList([Order № 16 \n",
      "Order Type bid \n",
      "Security: Microsoft \n",
      "Price: 95 \n",
      "Volume: 10 \n",
      "Owner: 1 \n",
      "Status: 0 \n",
      "Time: 1706132732.8304594 \n",
      ", Order № 14 \n",
      "Order Type bid \n",
      "Security: Microsoft \n",
      "Price: 100 \n",
      "Volume: 10 \n",
      "Owner: 1 \n",
      "Status: 0 \n",
      "Time: 1706132732.8304594 \n",
      ", Order № 15 \n",
      "Order Type bid \n",
      "Security: Microsoft \n",
      "Price: 110 \n",
      "Volume: 10 \n",
      "Owner: 1 \n",
      "Status: 0 \n",
      "Time: 1706132732.8304594 \n",
      "])\n"
     ]
    },
    {
     "data": {
      "text/plain": [
       "SortedList([Order № 17 \n",
       "Order Type bid \n",
       "Security: Microsoft \n",
       "Price: 80 \n",
       "Volume: 100 \n",
       "Owner: 1 \n",
       "Status: 0 \n",
       "Time: 1706133128.3177133 \n",
       ", Order № 16 \n",
       "Order Type bid \n",
       "Security: Microsoft \n",
       "Price: 95 \n",
       "Volume: 10 \n",
       "Owner: 1 \n",
       "Status: 0 \n",
       "Time: 1706132732.8304594 \n",
       ", Order № 14 \n",
       "Order Type bid \n",
       "Security: Microsoft \n",
       "Price: 100 \n",
       "Volume: 10 \n",
       "Owner: 1 \n",
       "Status: 0 \n",
       "Time: 1706132732.8304594 \n",
       ", Order № 15 \n",
       "Order Type bid \n",
       "Security: Microsoft \n",
       "Price: 110 \n",
       "Volume: 10 \n",
       "Owner: 1 \n",
       "Status: 0 \n",
       "Time: 1706132732.8304594 \n",
       "])"
      ]
     },
     "execution_count": 43,
     "metadata": {},
     "output_type": "execute_result"
    }
   ],
   "source": [
    "print(sl)\n",
    "sl.add(d)\n",
    "sl"
   ]
  },
  {
   "cell_type": "code",
   "execution_count": null,
   "metadata": {},
   "outputs": [],
   "source": [
    "class OrderTree(SortedList):\n",
    "    def __init__(self, *args, **kwargs):\n",
    "        super().__init__(*args, **kwargs)\n",
    "        self._max_id = 0\n",
    "\n",
    "    def insert(self, order):\n",
    "        super().insert(order.id, order)\n",
    "        self._max_id = max(self._max_id, order.id)\n",
    "\n",
    "    def remove(self, order):\n",
    "        super().remove(order.id)\n",
    "        if order.id == self._max_id:\n",
    "            self._max_id = max(self.keys())\n",
    "\n",
    "    def get_max_id(self):\n",
    "        return self._max_id"
   ]
  }
 ],
 "metadata": {
  "kernelspec": {
   "display_name": ".venv",
   "language": "python",
   "name": "python3"
  },
  "language_info": {
   "codemirror_mode": {
    "name": "ipython",
    "version": 3
   },
   "file_extension": ".py",
   "mimetype": "text/x-python",
   "name": "python",
   "nbconvert_exporter": "python",
   "pygments_lexer": "ipython3",
   "version": "3.11.3"
  }
 },
 "nbformat": 4,
 "nbformat_minor": 2
}
