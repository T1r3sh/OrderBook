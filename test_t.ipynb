{
 "cells": [
  {
   "cell_type": "code",
   "execution_count": 21,
   "metadata": {},
   "outputs": [],
   "source": [
    "from dataclasses import dataclass, field\n",
    "from datetime import datetime\n",
    "from time import time\n",
    "from functools import total_ordering\n",
    "import os\n",
    "from sortedcontainers import SortedList"
   ]
  },
  {
   "cell_type": "code",
   "execution_count": 1,
   "metadata": {},
   "outputs": [
    {
     "data": {
      "text/plain": [
       "0"
      ]
     },
     "execution_count": 1,
     "metadata": {},
     "output_type": "execute_result"
    }
   ],
   "source": [
    "class OrderIdGenerator:\n",
    "    def __init__(self):\n",
    "        self.filepath = os.path.join(os.getcwd(), \"current_state.txt\")\n",
    "        self.id_counter = self.load_state()\n",
    "        self.iterations_since_last_save = 0\n",
    "        self.save_frequency = 100\n",
    "\n",
    "    def __iter__(self):\n",
    "        return self\n",
    "\n",
    "    def __next__(self):\n",
    "        current_id = self.id_counter\n",
    "        self.id_counter += 1\n",
    "        self.iterations_since_last_save += 1\n",
    "        if self.iterations_since_last_save >= self.save_frequency:\n",
    "            self.save_state()\n",
    "            self.iterations_since_last_save = 0\n",
    "\n",
    "        return current_id\n",
    "\n",
    "    def save_state(self):\n",
    "        with open(self.filepath, \"w\") as f:\n",
    "            f.write(str(self.id_counter))\n",
    "\n",
    "    def load_state(self):\n",
    "        if not os.path.exists(self.filepath):\n",
    "            return 0\n",
    "        with open(self.filepath, \"r\") as f:\n",
    "            saved_state = f.read()\n",
    "            return int(saved_state)\n",
    "\n",
    "    def reset_state(self):\n",
    "        self.id_counter = 0\n",
    "        self.save_state()\n",
    "\n",
    "\n",
    "g_obj = OrderIdGenerator()\n",
    "next(g_obj)"
   ]
  },
  {
   "cell_type": "code",
   "execution_count": 8,
   "metadata": {},
   "outputs": [],
   "source": [
    "from enum import Enum, auto\n",
    "\n",
    "\n",
    "class OrderStatus(Enum):\n",
    "    CREATED = auto()\n",
    "    PARTIALLY_FILLED = auto()\n",
    "    FILLED = auto()\n",
    "    CANCELLED = auto()\n",
    "    "
   ]
  },
  {
   "cell_type": "code",
   "execution_count": 20,
   "metadata": {},
   "outputs": [],
   "source": [
    "@dataclass\n",
    "class Order:\n",
    "    order_type: str = field(compare=False)\n",
    "    security_name: str = field(compare=False)\n",
    "    price: float = field(compare=True)\n",
    "    volume: int = field(compare=False)\n",
    "    owner_id: int = field(compare=False)\n",
    "    status: int = field(compare=False, default=OrderStatus.CREATED)\n",
    "    id: int = field(compare=False, default_factory=g_obj.__next__)\n",
    "    time_created: float = field(compare=False, default_factory=time)\n",
    "    last_update: float = field(compare=False, default_factory=time)\n",
    "\n",
    "    def __eq__(self, other):\n",
    "        if isinstance(other, (int, float)):\n",
    "            return self.price == other\n",
    "        if isinstance(other, Order):\n",
    "            return self.price == other.price\n",
    "        return NotImplemented\n",
    "\n",
    "    def __lt__(self, other):\n",
    "        if isinstance(other, (int, float)):\n",
    "            return self.price < other\n",
    "        if isinstance(other, Order):\n",
    "            return self.price < other.price\n",
    "        return NotImplemented\n",
    "\n",
    "    def __gt__(self, other):\n",
    "        if isinstance(other, (int, float)):\n",
    "            return self.price > other\n",
    "        if isinstance(other, Order):\n",
    "            return self.price > other.price\n",
    "        return NotImplemented\n",
    "\n",
    "    def __le__(self, other):\n",
    "        if isinstance(other, (int, float)):\n",
    "            return self.price <= other\n",
    "        if isinstance(other, Order):\n",
    "            return self.price <= other.price\n",
    "        return NotImplemented\n",
    "\n",
    "    def __ge__(self, other):\n",
    "        if isinstance(other, (int, float)):\n",
    "            return self.price >= other\n",
    "        if isinstance(other, Order):\n",
    "            return self.price >= other.price\n",
    "        return NotImplemented\n",
    "\n",
    "    def __repr__(self):\n",
    "        return (\n",
    "            f\"Order № {self.id} \\n\"\n",
    "            f\"Order Type {self.order_type} \\n\"\n",
    "            f\"Security: {self.security_name} \\n\"\n",
    "            f\"Price: {self.price} \\n\"\n",
    "            f\"Volume: {self.volume} \\n\"\n",
    "            f\"Owner: {self.owner_id} \\n\"\n",
    "            f\"Status: {self.status} \\n\"\n",
    "            f\"Time: {self.timestamp} \\n\"\n",
    "        )\n",
    "\n",
    "    def __post_init__(self):\n",
    "        if self.volume <= 0:\n",
    "            raise ValueError(\"Volume must be positive\")\n",
    "        if self.price <= 0:\n",
    "            raise ValueError(\"Price must be positive\")\n",
    "        if self.order_type not in [\"ask\", \"bid\"]:\n",
    "            raise ValueError(\"Order type must be 'ask' or 'bid'\")\n",
    "        if self.status not in OrderStatus:\n",
    "            raise ValueError(\"Invalid order status\")\n",
    "    "
   ]
  },
  {
   "cell_type": "code",
   "execution_count": null,
   "metadata": {},
   "outputs": [],
   "source": [
    "class OrderBook:\n",
    "    \n",
    "    \n",
    "    def __init__(self):\n",
    "        self.ask = SortedList()\n",
    "        self.bid = SortedList()\n",
    "        self.order_map = {}\n",
    "        \n",
    "    def add_order(self, order):\n",
    "        if order.order_type == \"ask\":\n",
    "            self.ask.add(order)\n",
    "        else:\n",
    "            self.bid.add(order)\n",
    "        self.order_map[order.id] = order\n",
    "\n",
    "    def cancel_order(self, order_id):\n",
    "        for order in self.ask:\n",
    "            if order.id == order_id:\n",
    "                order.status = OrderStatus.CANCELLED\n",
    "                self.ask.remove(order)\n",
    "                return\n",
    "        for order in self.bid:\n",
    "            if order.id == order_id:\n",
    "                order.status = OrderStatus.CANCELLED\n",
    "                self.bid.remove(order)\n",
    "                return\n",
    "        raise ValueError(\"Order with such id not found\")\n",
    "    \n",
    "    def update_order(self, order_id, new_volume):\n",
    "        for order in self.ask:\n",
    "            if order.id == order_id:\n",
    "                order.volume = new_volume\n",
    "                return\n",
    "        for order in self.bid:\n",
    "            if order.id == order_id:\n",
    "                order.volume = new_volume\n",
    "                return\n",
    "        raise ValueError(\"Order with such id not found\")\n",
    "    "
   ]
  },
  {
   "cell_type": "code",
   "execution_count": null,
   "metadata": {},
   "outputs": [],
   "source": [
    "from enum import Enum\n",
    "\n",
    "class MarketSecurities(Enum):\n",
    "    APPLE = 1\n",
    "    GOOGLE = 2\n",
    "    MICROSOFT = 3\n",
    "    AMAZON = 4\n",
    "\n",
    "# Example usage\n",
    "security_id = MarketSecurities.APPLE.value\n",
    "print(security_id)  # Output: 1\n"
   ]
  },
  {
   "cell_type": "code",
   "execution_count": null,
   "metadata": {},
   "outputs": [],
   "source": [
    "from enum import Enum, auto\n",
    "\n",
    "id_dict = {\"AAPLE\": 1, \"GOOGLE\": 2, \"MICROSOFT\": 3, \"AMAZON\": 4}\n",
    "\n",
    "class MarketSecurities(Enum):\n",
    "    pass\n",
    "\n",
    "for name, value in id_dict.items():\n",
    "    setattr(MarketSecurities, name, value)\n",
    "\n",
    "# Example usage\n",
    "security_id = MarketSecurities.APPLE.value\n",
    "print(security_id)  # Output: 1\n"
   ]
  },
  {
   "cell_type": "code",
   "execution_count": 19,
   "metadata": {},
   "outputs": [
    {
     "name": "stdout",
     "output_type": "stream",
     "text": [
      "30\n"
     ]
    },
    {
     "data": {
      "text/plain": [
       "<OrderStatus.PARTIALLY_FILLED: 2>"
      ]
     },
     "execution_count": 19,
     "metadata": {},
     "output_type": "execute_result"
    }
   ],
   "source": [
    "a = Order(\"bid\", \"Microsoft\", 100, 10, 1)\n",
    "print(a.fill(15))\n",
    "a.status\n",
    "# b = Order(\"bid\", \"Microsoft\", 110, 10, 1)\n",
    "# c = Order(\"bid\", \"Microsoft\", 95, 10, 1)\n",
    "# print(a)\n",
    "# print(b)\n",
    "# print(c)"
   ]
  },
  {
   "cell_type": "code",
   "execution_count": 15,
   "metadata": {},
   "outputs": [
    {
     "data": {
      "text/plain": [
       "<OrderStatus.CANCELLED: 4>"
      ]
     },
     "execution_count": 15,
     "metadata": {},
     "output_type": "execute_result"
    }
   ],
   "source": []
  },
  {
   "cell_type": "code",
   "execution_count": 11,
   "metadata": {},
   "outputs": [],
   "source": [
    "from bintrees import AVLTree, RBTree"
   ]
  },
  {
   "cell_type": "code",
   "execution_count": 15,
   "metadata": {},
   "outputs": [],
   "source": [
    "from sortedcontainers import SortedList"
   ]
  },
  {
   "cell_type": "code",
   "execution_count": 40,
   "metadata": {},
   "outputs": [],
   "source": [
    "sl = SortedList([a, b, c])"
   ]
  },
  {
   "cell_type": "code",
   "execution_count": 42,
   "metadata": {},
   "outputs": [],
   "source": [
    "d= Order(\"bid\", \"Microsoft\", 80, 100, 1)"
   ]
  },
  {
   "cell_type": "code",
   "execution_count": 43,
   "metadata": {},
   "outputs": [
    {
     "name": "stdout",
     "output_type": "stream",
     "text": [
      "SortedList([Order № 16 \n",
      "Order Type bid \n",
      "Security: Microsoft \n",
      "Price: 95 \n",
      "Volume: 10 \n",
      "Owner: 1 \n",
      "Status: 0 \n",
      "Time: 1706132732.8304594 \n",
      ", Order № 14 \n",
      "Order Type bid \n",
      "Security: Microsoft \n",
      "Price: 100 \n",
      "Volume: 10 \n",
      "Owner: 1 \n",
      "Status: 0 \n",
      "Time: 1706132732.8304594 \n",
      ", Order № 15 \n",
      "Order Type bid \n",
      "Security: Microsoft \n",
      "Price: 110 \n",
      "Volume: 10 \n",
      "Owner: 1 \n",
      "Status: 0 \n",
      "Time: 1706132732.8304594 \n",
      "])\n"
     ]
    },
    {
     "data": {
      "text/plain": [
       "SortedList([Order № 17 \n",
       "Order Type bid \n",
       "Security: Microsoft \n",
       "Price: 80 \n",
       "Volume: 100 \n",
       "Owner: 1 \n",
       "Status: 0 \n",
       "Time: 1706133128.3177133 \n",
       ", Order № 16 \n",
       "Order Type bid \n",
       "Security: Microsoft \n",
       "Price: 95 \n",
       "Volume: 10 \n",
       "Owner: 1 \n",
       "Status: 0 \n",
       "Time: 1706132732.8304594 \n",
       ", Order № 14 \n",
       "Order Type bid \n",
       "Security: Microsoft \n",
       "Price: 100 \n",
       "Volume: 10 \n",
       "Owner: 1 \n",
       "Status: 0 \n",
       "Time: 1706132732.8304594 \n",
       ", Order № 15 \n",
       "Order Type bid \n",
       "Security: Microsoft \n",
       "Price: 110 \n",
       "Volume: 10 \n",
       "Owner: 1 \n",
       "Status: 0 \n",
       "Time: 1706132732.8304594 \n",
       "])"
      ]
     },
     "execution_count": 43,
     "metadata": {},
     "output_type": "execute_result"
    }
   ],
   "source": [
    "print(sl)\n",
    "sl.add(d)\n",
    "sl"
   ]
  },
  {
   "cell_type": "code",
   "execution_count": null,
   "metadata": {},
   "outputs": [],
   "source": [
    "class OrderTree(SortedList):\n",
    "    def __init__(self, *args, **kwargs):\n",
    "        super().__init__(*args, **kwargs)\n",
    "        self._max_id = 0\n",
    "\n",
    "    def insert(self, order):\n",
    "        super().insert(order.id, order)\n",
    "        self._max_id = max(self._max_id, order.id)\n",
    "\n",
    "    def remove(self, order):\n",
    "        super().remove(order.id)\n",
    "        if order.id == self._max_id:\n",
    "            self._max_id = max(self.keys())\n",
    "\n",
    "    def get_max_id(self):\n",
    "        return self._max_id"
   ]
  }
 ],
 "metadata": {
  "kernelspec": {
   "display_name": ".venv",
   "language": "python",
   "name": "python3"
  },
  "language_info": {
   "codemirror_mode": {
    "name": "ipython",
    "version": 3
   },
   "file_extension": ".py",
   "mimetype": "text/x-python",
   "name": "python",
   "nbconvert_exporter": "python",
   "pygments_lexer": "ipython3",
   "version": "3.11.3"
  }
 },
 "nbformat": 4,
 "nbformat_minor": 2
}
