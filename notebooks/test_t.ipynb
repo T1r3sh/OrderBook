{
 "cells": [
  {
   "cell_type": "code",
   "execution_count": 1,
   "metadata": {},
   "outputs": [],
   "source": [
    "from dataclasses import dataclass, field\n",
    "from datetime import datetime\n",
    "import time\n",
    "from functools import total_ordering\n",
    "import os\n",
    "from sortedcontainers import SortedList\n",
    "from enum import Enum, auto\n",
    "import random"
   ]
  },
  {
   "cell_type": "code",
   "execution_count": 2,
   "metadata": {},
   "outputs": [
    {
     "data": {
      "text/plain": [
       "500"
      ]
     },
     "execution_count": 2,
     "metadata": {},
     "output_type": "execute_result"
    }
   ],
   "source": [
    "class OrderIdGenerator:\n",
    "    def __init__(self):\n",
    "        self.filepath = os.path.join(os.getcwd(), \"current_state.txt\")\n",
    "        self.id_counter = self.load_state()\n",
    "        self.iterations_since_last_save = 0\n",
    "        self.save_frequency = 100\n",
    "\n",
    "    def __iter__(self):\n",
    "        return self\n",
    "\n",
    "    def __next__(self):\n",
    "        current_id = self.id_counter\n",
    "        self.id_counter += 1\n",
    "        self.iterations_since_last_save += 1\n",
    "        if self.iterations_since_last_save >= self.save_frequency:\n",
    "            self.save_state()\n",
    "            self.iterations_since_last_save = 0\n",
    "\n",
    "        return current_id\n",
    "\n",
    "    def save_state(self):\n",
    "        with open(self.filepath, \"w\") as f:\n",
    "            f.write(str(self.id_counter))\n",
    "\n",
    "    def load_state(self):\n",
    "        if not os.path.exists(self.filepath):\n",
    "            return 0\n",
    "        with open(self.filepath, \"r\") as f:\n",
    "            saved_state = f.read()\n",
    "            return int(saved_state)\n",
    "\n",
    "    def reset_state(self):\n",
    "        self.id_counter = 0\n",
    "        self.save_state()\n",
    "\n",
    "\n",
    "g_obj = OrderIdGenerator()\n",
    "next(g_obj)"
   ]
  },
  {
   "cell_type": "code",
   "execution_count": 20,
   "metadata": {},
   "outputs": [],
   "source": [
    "@dataclass(kw_only=True)\n",
    "class Order:\n",
    "    order_type: str = field(compare=False)\n",
    "    security_name: str = field(compare=False)\n",
    "    price: float = field(compare=True)\n",
    "    volume: int = field(compare=False)\n",
    "    owner_id: int = field(compare=False)\n",
    "    status: int = field(compare=False, default=OrderStatus.CREATED)\n",
    "    id: int = field(compare=False, default_factory=g_obj.__next__)\n",
    "    created: float = field(compare=False, default_factory=time.time)\n",
    "    updated: float = field(compare=False, default_factory=time.time)\n",
    "    listed: float = field(compare=False, default_factory=time.time)\n",
    "\n",
    "    def __eq__(self, other):\n",
    "        if isinstance(other, (int, float)):\n",
    "            return self.price == other\n",
    "        if isinstance(other, Order):\n",
    "            return self.price == other.price\n",
    "        return NotImplemented\n",
    "\n",
    "    def __lt__(self, other):\n",
    "        if isinstance(other, (int, float)):\n",
    "            return self.price < other\n",
    "        if isinstance(other, Order):\n",
    "            return self.price < other.price\n",
    "        return NotImplemented\n",
    "\n",
    "    def __gt__(self, other):\n",
    "        if isinstance(other, (int, float)):\n",
    "            return self.price > other\n",
    "        if isinstance(other, Order):\n",
    "            return self.price > other.price\n",
    "        return NotImplemented\n",
    "\n",
    "    def __le__(self, other):\n",
    "        if isinstance(other, (int, float)):\n",
    "            return self.price <= other\n",
    "        if isinstance(other, Order):\n",
    "            return self.price <= other.price\n",
    "        return NotImplemented\n",
    "\n",
    "    def __ge__(self, other):\n",
    "        if isinstance(other, (int, float)):\n",
    "            return self.price >= other\n",
    "        if isinstance(other, Order):\n",
    "            return self.price >= other.price\n",
    "        return NotImplemented\n",
    "\n",
    "    def __repr__(self):\n",
    "        return (\n",
    "            f\"Order № {self.id} \\n\"\n",
    "            f\"Order Type {self.order_type} \\n\"\n",
    "            f\"Security: {self.security_name} \\n\"\n",
    "            f\"Price: {self.price} \\n\"\n",
    "            f\"Volume: {self.volume} \\n\"\n",
    "            f\"Owner: {self.owner_id} \\n\"\n",
    "            f\"Status: {self.status} \\n\"\n",
    "            f\"Created: {self.created} \\n\"\n",
    "            f\"listed: {self.listed} \\n\"\n",
    "            f\"Last update: {self.updated} \\n\"\n",
    "        )\n",
    "\n",
    "    def __post_init__(self):\n",
    "        if self.volume <= 0:\n",
    "            raise ValueError(\"Volume must be positive\")\n",
    "        if self.price <= 0:\n",
    "            raise ValueError(\"Price must be positive\")\n",
    "        if self.order_type not in [\"ask\", \"bid\"]:\n",
    "            raise ValueError(\"Order type must be 'ask' or 'bid'\")\n",
    "        if self.status not in OrderStatus:\n",
    "            raise ValueError(\"Invalid order status\")\n",
    "        # self._initial_attrs = set(vars(self))\n",
    "        # super().__setattr__(\"_initial_attrs\", self._initial_attrs)\n",
    "\n",
    "    def __setattr__(self, key, value):\n",
    "        # if key not in self._initial_attrs:\n",
    "        #     raise AttributeError(\n",
    "        #         f\"Cannot add new attribute '{key}' to instance of {self.__class__.__name__}\"\n",
    "        #     )\n",
    "        super().__setattr__(key, value)\n",
    "        if key != \"updated\":  \n",
    "            super().__setattr__(\"updated\", time.time())\n",
    "\n",
    "    def json(self):\n",
    "        return {\n",
    "            \"order_type\": self.order_type,\n",
    "            \"security_name\": self.security_name,\n",
    "            \"price\": self.price,\n",
    "            \"volume\": self.volume,\n",
    "            \"owner_id\": self.owner_id,\n",
    "            \"status\": self.status,\n",
    "            \"id\": self.id,\n",
    "            \"created\": self.created,\n",
    "            \"listed\": self.listed,\n",
    "            \"updated\": self.updated,\n",
    "        }"
   ]
  },
  {
   "cell_type": "markdown",
   "metadata": {},
   "source": [
    "What functions I want to keep in Orderbook and what to outside the Book?\n",
    "\n",
    "We can create api wrapper that will keep all processes "
   ]
  },
  {
   "cell_type": "code",
   "execution_count": 3,
   "metadata": {},
   "outputs": [],
   "source": [
    "import logging\n",
    "\n",
    "def logging_decorator(func):\n",
    "    def wrapper(*args, **kwargs):\n",
    "        # Logging setup\n",
    "        logger = logging.getLogger(func.__name__)\n",
    "        logger.setLevel(logging.INFO)\n",
    "        formatter = logging.Formatter('%(asctime)s - %(name)s - %(levelname)s - %(message)s')\n",
    "        stream_handler = logging.StreamHandler()\n",
    "        stream_handler.setFormatter(formatter)\n",
    "        logger.addHandler(stream_handler)\n",
    "        \n",
    "        # Logging before function execution\n",
    "        logger.info(f\"Calling function {func.__name__} with args: {args}, kwargs: {kwargs}\")\n",
    "        \n",
    "        # Function execution\n",
    "        result = func(*args, **kwargs)\n",
    "        \n",
    "        # Logging after function execution\n",
    "        logger.info(f\"Function {func.__name__} executed successfully. Result: {result}\")\n",
    "        \n",
    "        return result\n",
    "    \n",
    "    return wrapper\n"
   ]
  },
  {
   "cell_type": "code",
   "execution_count": 4,
   "metadata": {},
   "outputs": [],
   "source": [
    "class OrderStatus(Enum):\n",
    "    CREATED = auto()\n",
    "    PARTIALLY_FILLED = auto()\n",
    "    FILLED = auto()\n",
    "    MODIFIED = auto()\n",
    "    CANCELLED = auto()\n",
    "    RESTORED = auto()\n",
    "    EXPIRED = auto()"
   ]
  },
  {
   "cell_type": "code",
   "execution_count": 24,
   "metadata": {},
   "outputs": [],
   "source": [
    "class OrderList:\n",
    "    def __init__(self, order_list=None, order_type = None):\n",
    "        self.__order_list = SortedList()\n",
    "        self.__ids = {}\n",
    "        self.otype = order_type\n",
    "        if order_list:\n",
    "            if not self.otype:\n",
    "                self.otype = order_list[0].order_type\n",
    "            for order in order_list:\n",
    "                self.add(order)\n",
    "\n",
    "    def add(self, order):\n",
    "        if order.order_type != self.otype:\n",
    "            raise ValueError(\"Order type must be the same as the list type\")\n",
    "        self.__order_list.add(order)\n",
    "        self.__ids[order.id] = order\n",
    "\n",
    "    def bisect_left(self, order, right = True):\n",
    "        cid = self.__order_list.bisect_left(order)\n",
    "        if right:\n",
    "            return self.__order_list[cid:]\n",
    "        else:\n",
    "            return self.__order_list[:cid]\n",
    "\n",
    "    def bisect_right(self, order, left = True):\n",
    "        cid = self.__order_list.bisect_right(order)\n",
    "        if left:\n",
    "            return self.__order_list[:cid]\n",
    "        else:\n",
    "            return self.__order_list[cid:]\n",
    "    \n",
    "    def relist(self, order=None, order_id=None):\n",
    "        if not order and not order_id:\n",
    "            raise ValueError(\"Order or order_id must be provided\")\n",
    "        if order_id and order:\n",
    "            print(\"Warning: both order and order_id are provided. Using order_id.\")\n",
    "        if order_id:\n",
    "            pass\n",
    "        elif order:\n",
    "            order_id = order.id\n",
    "        try:\n",
    "            order = self.__ids[order_id]\n",
    "        except KeyError:\n",
    "            raise ValueError(\"Order with provided id not found\")\n",
    "        if order.status == OrderStatus.CANCELLED or order.status == OrderStatus.EXPIRED:\n",
    "            order.listed = time.time()\n",
    "            self.__order_list.add(order)\n",
    "        else:\n",
    "            raise ValueError(\"Order is active.\")\n",
    "    \n",
    "    def remove(self, order = None , order_id = None):\n",
    "        if not order and not order_id:\n",
    "            raise ValueError(\"Order or order_id must be provided\")\n",
    "        if order_id and order:\n",
    "            print(\"Warning: both order and order_id are provided. Using order_id.\")\n",
    "        if order_id:\n",
    "            pass\n",
    "        elif order:\n",
    "            order_id = order.id\n",
    "        try:\n",
    "            self.__order_list.remove(order)\n",
    "        except ValueError:\n",
    "            pass\n",
    "        del self.__ids[order_id]\n",
    "        \n",
    "    def unlist(self, order = None, order_id = None, status = OrderStatus.EXPIRED):\n",
    "        if not order and not order_id:\n",
    "            raise ValueError(\"Order or order_id must be provided\")\n",
    "        if order_id and order:\n",
    "            print(\"Warning: both order and order_id are provided. Using order_id.\")\n",
    "        if order_id:\n",
    "            pass\n",
    "        elif order:\n",
    "            order_id = order.id\n",
    "        order = self.__ids[order_id]\n",
    "        if order.status == OrderStatus.CANCELLED or order.status == OrderStatus.EXPIRED or order.status == OrderStatus.FILLED:\n",
    "            raise ValueError(\"Order is not active.\")\n",
    "        else:\n",
    "            order.status = status\n",
    "            self.__order_list.remove(order)\n",
    "\n",
    "    def clear(self):\n",
    "        self.__order_list.clear()\n",
    "        self.__ids.clear()\n",
    "\n",
    "    def get(self, order_id):\n",
    "        return self.__ids[order_id]\n",
    "    \n",
    "    def __getitem__(self, order_id):\n",
    "        return self.__ids[order_id]\n",
    "\n",
    "    def __iter__(self):\n",
    "        return iter(self.__order_list)\n",
    "    \n",
    "    def __len__(self):\n",
    "        return len(self.__order_list)\n",
    "\n",
    "    def __repr__(self):\n",
    "        return str(self.__order_list)"
   ]
  },
  {
   "cell_type": "code",
   "execution_count": null,
   "metadata": {},
   "outputs": [],
   "source": [
    "    \n",
    "    def cancel(self, order = None, order_id = None):\n",
    "        if not order and not order_id:\n",
    "            raise ValueError(\"Order or order_id must be provided\")\n",
    "        if order_id and order:\n",
    "            print(\"Warning: both order and order_id are provided. Using order_id.\")\n",
    "        if order_id:\n",
    "            pass\n",
    "        elif order:\n",
    "            order_id = order.id\n",
    "        try:\n",
    "            order = self.__ids[order_id]\n",
    "        except KeyError:\n",
    "            raise ValueError(\"Order with provided id not found\")\n",
    "        order.status = OrderStatus.CANCELLED\n",
    "        try:\n",
    "            self.__order_list.remove(order)\n",
    "        except ValueError:\n",
    "            raise ValueError(\"Order already filled or canceld.\")\n",
    "    \n",
    "    def resotre(self, order=None, order_id=None):\n",
    "        if not order and not order_id:\n",
    "            raise ValueError(\"Order or order_id must be provided\")\n",
    "        if order_id and order:\n",
    "            print(\"Warning: both order and order_id are provided. Using order_id.\")\n",
    "        if order_id:\n",
    "            pass\n",
    "        elif order:\n",
    "            order_id = order.id\n",
    "        try:\n",
    "            order = self.__ids[order_id]\n",
    "        except KeyError:\n",
    "            raise ValueError(\"Order with provided id not found\")\n",
    "        if order.status == OrderStatus.CANCELLED or order.status == OrderStatus.EXPIRED:\n",
    "            order.status = OrderStatus.RESTORED\n",
    "            order.listed = time.time()\n",
    "            self.__order_list.add(order)\n",
    "        else:\n",
    "            raise ValueError(\"Order is not cancelled or expired. \")\n",
    "    \n",
    "    def update(self, order=None, order_id=None, **kwargs):\n",
    "        if not order and not order_id:\n",
    "            raise ValueError(\"Order or order_id must be provided\")\n",
    "        if order_id and order:\n",
    "            print(\"Warning: both order and order_id are provided. Using order_id.\")\n",
    "        if order_id:\n",
    "            pass\n",
    "        elif order:\n",
    "            order_id = order.id\n",
    "        if order.status == OrderStatus.CANCELLED or order.status == OrderStatus.EXPIRED:\n",
    "            raise ValueError(\"Order is cancelled or expired.\")\n",
    "        order = self.__ids[order_id]\n",
    "        for key, value in kwargs.items():\n",
    "            if key not in (\"price\", \"volume\"):\n",
    "                raise ValueError(\"Order type cannot be modified\")\n",
    "            setattr(order, key, value)\n",
    "        order.listed = time.time()\n",
    "    \n",
    "    def fill(self, order=None, order_id=None, volume=None):\n",
    "        #### to be proven effective\n",
    "        if not order and not order_id:\n",
    "            raise ValueError(\"Order or order_id must be provided\")\n",
    "        if order_id and order:\n",
    "            print(\"Warning: both order and order_id are provided. Using order_id.\")\n",
    "        if order_id:\n",
    "            pass\n",
    "        elif order:\n",
    "            order_id = order.id\n",
    "        order = self.__ids[order_id]\n",
    "        if order.status == OrderStatus.CANCELLED or order.status == OrderStatus.EXPIRED:\n",
    "            raise ValueError(\"Order is cancelled or expired.\")\n",
    "        if volume is None:\n",
    "            raise ValueError(\"Volume must be provided\")\n",
    "        if volume > order.volume:\n",
    "            raise ValueError(\"Volume is greater than order volume\")\n",
    "        order.volume -= volume\n",
    "        if order.volume == 0:\n",
    "            order.status = OrderStatus.FILLED\n",
    "            self.__order_list.remove(order)\n",
    "        else:\n",
    "            order.status = OrderStatus.PARTIALLY_FILLED\n",
    "        ##### rethink this like 10 times\n",
    "            \n",
    "        "
   ]
  },
  {
   "cell_type": "code",
   "execution_count": 22,
   "metadata": {},
   "outputs": [],
   "source": [
    "o1 = Order(order_type=\"ask\", security_name=\"AAPL\", price=100, volume= 100, owner_id=1)\n",
    "setattr(o1, \"price\", 200)\n",
    "setattr(o1, \"id\", 12)\n",
    "setattr(o1, \"pivo\",\"puso\" )"
   ]
  },
  {
   "cell_type": "code",
   "execution_count": 23,
   "metadata": {},
   "outputs": [
    {
     "data": {
      "text/plain": [
       "{'order_type': 'ask',\n",
       " 'updated': 1707324929.1041102,\n",
       " 'security_name': 'AAPL',\n",
       " 'price': 200,\n",
       " 'volume': 100,\n",
       " 'owner_id': 1,\n",
       " 'status': <OrderStatus.CREATED: 1>,\n",
       " 'id': 12,\n",
       " 'created': 1707324929.1041102,\n",
       " 'listed': 1707324929.1041102,\n",
       " 'pivo': 'puso'}"
      ]
     },
     "execution_count": 23,
     "metadata": {},
     "output_type": "execute_result"
    }
   ],
   "source": [
    "o1.__dict__"
   ]
  },
  {
   "cell_type": "code",
   "execution_count": 213,
   "metadata": {},
   "outputs": [
    {
     "name": "stdout",
     "output_type": "stream",
     "text": [
      "Order Tape:\n",
      "[{'contr_order': 535,\n",
      "  'order': 542,\n",
      "  'price': 102,\n",
      "  'time': 1706796799.5627055,\n",
      "  'volume': 93},\n",
      " {'contr_order': 521,\n",
      "  'order': 548,\n",
      "  'price': 100,\n",
      "  'time': 1706796799.5637028,\n",
      "  'volume': 12},\n",
      " {'contr_order': 532,\n",
      "  'order': 548,\n",
      "  'price': 97,\n",
      "  'time': 1706796799.5637028,\n",
      "  'volume': 37},\n",
      " {'contr_order': 531,\n",
      "  'order': 548,\n",
      "  'price': 99,\n",
      "  'time': 1706796799.5637028,\n",
      "  'volume': 35},\n",
      " {'contr_order': 531,\n",
      "  'order': 556,\n",
      "  'price': 99,\n",
      "  'time': 1706796799.5637028,\n",
      "  'volume': 64},\n",
      " {'contr_order': 523,\n",
      "  'order': 557,\n",
      "  'price': 91,\n",
      "  'time': 1706796799.5637028,\n",
      "  'volume': 1},\n",
      " {'contr_order': 537,\n",
      "  'order': 557,\n",
      "  'price': 97,\n",
      "  'time': 1706796799.5637028,\n",
      "  'volume': 55}]\n",
      "Ask Orders:\n",
      "['557 - 90',\n",
      " '560 - 94',\n",
      " '556 - 99',\n",
      " '559 - 99',\n",
      " '554 - 102',\n",
      " '545 - 103',\n",
      " '546 - 104',\n",
      " '551 - 105',\n",
      " '543 - 107',\n",
      " '549 - 107',\n",
      " '558 - 107',\n",
      " '555 - 110',\n",
      " '550 - 111',\n",
      " '544 - 113',\n",
      " '547 - 115',\n",
      " '552 - 117',\n",
      " '553 - 117',\n",
      " '541 - 118']\n",
      "Bid Orders:\n",
      "['534 - 50',\n",
      " '530 - 57',\n",
      " '540 - 58',\n",
      " '522 - 66',\n",
      " '526 - 68',\n",
      " '538 - 68',\n",
      " '536 - 69',\n",
      " '533 - 70',\n",
      " '539 - 74',\n",
      " '529 - 75',\n",
      " '525 - 77',\n",
      " '524 - 82',\n",
      " '528 - 82',\n",
      " '527 - 86']\n"
     ]
    }
   ],
   "source": [
    "import pprint\n",
    "\n",
    "\n",
    "class OrderBook:\n",
    "    def __init__(self):\n",
    "\n",
    "        self.ask = OrderList()\n",
    "        self.bid = OrderList()\n",
    "        self.order_sources = {\"ask\": self.ask, \"bid\": self.bid}\n",
    "        self.tape = []\n",
    "\n",
    "    def add(self, order):\n",
    "        matched = []\n",
    "        if order.order_type == \"ask\":\n",
    "            matched = self.bid.bisect_left(order)\n",
    "        else:\n",
    "            matched = self.ask.bisect_right(order)\n",
    "        matched.sort(key=lambda x: x.listed)\n",
    "        while order.volume > 0 and matched:\n",
    "            current = matched.pop(0)\n",
    "            deal_price = current.price\n",
    "            self.fill(order, current, deal_price)\n",
    "        if order.volume > 0:\n",
    "            if order.order_type == \"ask\":\n",
    "                self.ask.add(order)\n",
    "            elif order.order_type == \"bid\":\n",
    "                self.bid.add(order)\n",
    "            else:\n",
    "                raise ValueError(\"Order type must be 'ask' or 'bid'\")\n",
    "    # ready section\n",
    "    def get_order(self, order_id, order_type = None):\n",
    "        if order_type in self.order_sources:\n",
    "            return self.order_sources[order_type].get(order_id)\n",
    "        else:\n",
    "            try:\n",
    "                return self.ask.get(order_id)\n",
    "            except ValueError:\n",
    "                try:\n",
    "                    return self.bid.get(order_id)\n",
    "                except ValueError:\n",
    "                    return None\n",
    "\n",
    "    def cancel(self, order_id, order_type = None):\n",
    "        order = self.get_order(order_id, order_type)\n",
    "        if not order:\n",
    "            raise ValueError(\"Order not found\")\n",
    "        if order.status == OrderStatus.CANCELLED or order.status == OrderStatus.EXPIRED:\n",
    "            raise ValueError(\"Order is already cancelled or expired\")\n",
    "        source = self.order_sources[order.order_type]\n",
    "        source.unlist(order_id, status = OrderStatus.CANCELLED)\n",
    "\n",
    "    def expire(self, order_id, order_type = None):\n",
    "        order = self.get_order(order_id, order_type)\n",
    "        if not order:\n",
    "            raise ValueError(\"Order not found\")\n",
    "        if order.status == OrderStatus.CANCELLED or order.status == OrderStatus.EXPIRED:\n",
    "            raise ValueError(\"Order is already cancelled or expired\")\n",
    "        source = self.order_sources[order.order_type]\n",
    "        source.unlist(order_id, status = OrderStatus.EXPIRED)\n",
    "\n",
    "    def restore(self, order_id, order_type = None):\n",
    "        order = self.get_order(order_id, order_type)\n",
    "        if not order:\n",
    "            raise ValueError(\"Order not found\")\n",
    "        if order.status != OrderStatus.CANCELLED and order.status != OrderStatus.EXPIRED:\n",
    "            raise ValueError(\"Order is not cancelled or expired\")\n",
    "        source = self.order_sources[order.order_type]\n",
    "        source.relist(order_id)\n",
    "\n",
    "    def remove_order(self, order_id, order_type=None):\n",
    "        order = self.get_order(order_id, order_type)\n",
    "        if not order:\n",
    "            raise ValueError(\"Order not found\")\n",
    "        if not order_type:\n",
    "            order_type = order.order_type\n",
    "        source = self.order_sources[order_type]\n",
    "        source.remove(order_id)\n",
    "\n",
    "    def update_price(\n",
    "            self,\n",
    "            order_id,\n",
    "            order_type=None,\n",
    "            **kwargs\n",
    "        ):\n",
    "        order = self.get_order(order_id, order_type)\n",
    "        if not order:\n",
    "            raise ValueError(\"Order not found\")\n",
    "        if order.status == OrderStatus.CANCELLED or order.status == OrderStatus.EXPIRED:\n",
    "            raise ValueError(\"Order is cancelled or expired.\")\n",
    "        for key, value in kwargs.items():\n",
    "            if key not in (\"price\", \"volume\"):\n",
    "                raise ValueError(\"Order type cannot be modified\")\n",
    "            setattr(order, key, value)\n",
    "        order.listed = time.time()\n",
    "\n",
    "    def fill(self, order_id, volume, order_type = None):\n",
    "        order = self.get_order(order_id, order_type)\n",
    "        if not order:\n",
    "            raise ValueError(\"Order not found\")\n",
    "        if order.status == OrderStatus.CANCELLED or order.status == OrderStatus.EXPIRED:\n",
    "            raise ValueError(\"Order is cancelled or expired.\")\n",
    "        if volume >= order.volume:\n",
    "            volume-=order.volume\n",
    "            order.volume=0\n",
    "        else:\n",
    "            order.volume -= volume\n",
    "            volume = 0\n",
    "        if order.volume == 0:\n",
    "            self.order_sources[order.order_type].unlist(\n",
    "                order_id=order_id, status=OrderStatus.FILLED\n",
    "            )\n",
    "        else:\n",
    "            order.status = OrderStatus.PARTIALLY_FILLED\n",
    "        return volume\n",
    "    \n",
    "    def match(self, order):\n",
    "        matched = []\n",
    "        if order.order_type == \"ask\":\n",
    "            matched = self.bid.bisect_left(order)\n",
    "        else:\n",
    "            matched = self.ask.bisect_right(order)\n",
    "        matched.sort(key=lambda x: x.listed)\n",
    "        while order.volume > 0 and matched:\n",
    "            current = matched.pop(0)\n",
    "            deal_price = current.price\n",
    "            self.fill(order, current, deal_price)\n",
    "        if order.volume > 0:\n",
    "            if order.order_type == \"ask\":\n",
    "                self.ask.add(order)\n",
    "            elif order.order_type == \"bid\":\n",
    "                self.bid.add(order)\n",
    "            else:\n",
    "                raise ValueError(\"Order type must be 'ask' or 'bid'\")\n",
    "    # ready section above\n",
    "    def fill(self, order_id, counter_order, price):\n",
    "        volume = 0\n",
    "        if counter_order.volume >= order.volume:\n",
    "            counter_order.volume -= order.volume\n",
    "            volume = order.volume\n",
    "            order.volume = 0\n",
    "            order.status = OrderStatus.FILLED\n",
    "            if counter_order.volume == 0:\n",
    "                self.remove_order(counter_order)\n",
    "            else:\n",
    "                self.get_order(counter_order).volume = counter_order.volume\n",
    "        else:\n",
    "            order.volume -= counter_order.volume\n",
    "            self.remove_order(counter_order)\n",
    "            volume = counter_order.volume\n",
    "        self.tape.append(\n",
    "            {\n",
    "                \"order\": order.id,\n",
    "                \"contr_order\": counter_order.id,\n",
    "                \"price\": price,\n",
    "                \"volume\": volume,\n",
    "                \"time\": time.time(),\n",
    "            }\n",
    "        )\n",
    "\n",
    "    def proceede(self):\n",
    "        order_tape = self.order_tape.copy()\n",
    "        self.order_tape.clear()\n",
    "        return order_tape\n",
    "\n",
    "\n",
    "od = OrderBook()\n",
    "\n",
    "for _ in range(20):\n",
    "    tmp = Order(\n",
    "        order_type=\"bid\",\n",
    "        security_name=\"AAPL\",\n",
    "        price=random.randint(50, 105),\n",
    "        volume=random.randint(1, 100),\n",
    "        owner_id=random.randint(6, 11),\n",
    "    )\n",
    "\n",
    "    od.add(tmp)\n",
    "for _ in range(20):\n",
    "    tmp = Order(\n",
    "        order_type=\"ask\",\n",
    "        security_name=\"AAPL\",\n",
    "        price=random.randint(90, 120),\n",
    "        volume=random.randint(1, 100),\n",
    "        owner_id=random.randint(1, 5),\n",
    "    )\n",
    "\n",
    "    od.add(tmp)\n",
    "\n",
    "    # ...\n",
    "\n",
    "print(\"Order Tape:\")\n",
    "pprint.pprint(od.tape)\n",
    "\n",
    "print(\"Ask Orders:\")\n",
    "pprint.pprint([f\"{order.id} - {order.price}\" for order in od.ask])\n",
    "\n",
    "print(\"Bid Orders:\")\n",
    "pprint.pprint([f\"{order.id} - {order.price}\" for order in od.bid])\n",
    "\n",
    "# print(od.tape)\n",
    "# print([f\"{order.id} - {order.price}\" for order in od.ask])\n",
    "# print([f\"{order.id} - {order.price}\" for order in od.bid])"
   ]
  },
  {
   "cell_type": "code",
   "execution_count": 208,
   "metadata": {},
   "outputs": [
    {
     "name": "stdout",
     "output_type": "stream",
     "text": [
      "['id 266 volume 9', 'id 268 volume 9', 'id 270 volume 15', 'id 264 volume 2', 'id 269 volume 17', 'id 267 volume 24', 'id 265 volume 7', 'id 263 volume 9']\n",
      "['id 280 volume 50', 'id 273 volume 22', 'id 274 volume 24', 'id 275 volume 35', 'id 278 volume 46', 'id 279 volume 31', 'id 277 volume 28', 'id 276 volume 21', 'id 272 volume 5']\n"
     ]
    }
   ],
   "source": [
    "print([f\"id {order.id} volume {order.volume}\"for order in od.ask])\n",
    "print([f\"id {order.id} volume {order.volume}\"for order in od.bid])"
   ]
  },
  {
   "cell_type": "code",
   "execution_count": 209,
   "metadata": {},
   "outputs": [
    {
     "name": "stdout",
     "output_type": "stream",
     "text": [
      "['266 - 89', '268 - 92', '270 - 98', '264 - 101', '269 - 106', '267 - 113', '265 - 116', '263 - 122']\n",
      "['280 - 69', '273 - 70', '274 - 70', '275 - 70', '278 - 71', '279 - 72', '277 - 76', '276 - 79', '272 - 87']\n"
     ]
    }
   ],
   "source": [
    "print([f\"{order.id} - {order.price}\" for order in od.ask])\n",
    "print([f\"{order.id} - {order.price}\" for order in od.bid])"
   ]
  },
  {
   "cell_type": "code",
   "execution_count": 187,
   "metadata": {},
   "outputs": [
    {
     "name": "stdout",
     "output_type": "stream",
     "text": [
      "[(76, 5), (81, 14), (82, 13), (89, 18), (93, 10), (98, 24), (101, 11), (110, 3), (118, 15), (120, 16)]\n"
     ]
    }
   ],
   "source": [
    "for _ in range(10):\n",
    "    tmp = Order(order_type=\"ask\", security_name=\"AAPL\", price=random.randint(75, 125), volume=random.randint(1, 25), owner_id=random.randint(1, 5))\n",
    "    \n",
    "    od.add(tmp)"
   ]
  },
  {
   "cell_type": "code",
   "execution_count": null,
   "metadata": {},
   "outputs": [],
   "source": [
    "a = Order(order_type=\"ask\", security_name=\"AAPL\", price=100, volume=10, owner_id=1)\n",
    "ol = OrderList([a])\n",
    "dic = {a.id: a}\n",
    "a.id\n",
    "el = dic[502]\n",
    "el.price = 200\n",
    "ol.add(el)"
   ]
  },
  {
   "cell_type": "code",
   "execution_count": null,
   "metadata": {},
   "outputs": [],
   "source": [
    "import unittest\n",
    "\n",
    "class OrderBookTests(unittest.TestCase):\n",
    "    def setUp(self):\n",
    "        self.order_book = OrderBook()\n",
    "\n",
    "    def test_add_order(self):\n",
    "        order = Order(order_type=\"ask\", security_name=\"AAPL\", price=100, volume=10, owner_id=1)\n",
    "        self.order_book.add(order)\n",
    "        self.assertEqual(len(self.order_book.ask), 1)\n",
    "\n",
    "    def test_fill_order(self):\n",
    "        order1 = Order(order_type=\"ask\", security_name=\"AAPL\", price=100, volume=10, owner_id=1)\n",
    "        order2 = Order(order_type=\"bid\", security_name=\"AAPL\", price=100, volume=5, owner_id=2)\n",
    "        self.order_book.add(order1)\n",
    "        self.order_book.add(order2)\n",
    "        self.assertEqual(len(self.order_book.ask), 0)\n",
    "        self.assertEqual(len(self.order_book.bid), 0)\n",
    "        self.assertEqual(len(self.order_book.tape), 1)\n",
    "\n",
    "    def test_cancel_order(self):\n",
    "        order = Order(order_type=\"ask\", security_name=\"AAPL\", price=100, volume=10, owner_id=1)\n",
    "        self.order_book.add(order)\n",
    "        self.order_book.cancel(order.id)\n",
    "        self.assertEqual(order.status, OrderStatus.CANCELLED)\n",
    "        self.assertEqual(len(self.order_book.ask), 0)\n",
    "\n",
    "    def test_modify_order(self):\n",
    "        order = Order(order_type=\"ask\", security_name=\"AAPL\", price=100, volume=10, owner_id=1)\n",
    "        self.order_book.add(order)\n",
    "        self.order_book.modify(order.id, 200)\n",
    "        self.assertEqual(order.price, 200)\n",
    "\n",
    "    def tearDown(self):\n",
    "        self.order_book = None\n",
    "\n",
    "unittest.main()\n"
   ]
  },
  {
   "cell_type": "markdown",
   "metadata": {},
   "source": [
    "Order lifecycle\n",
    "\n",
    "Creation -> Added to Orderbook -> Matching -> Repeat till filled -> Every n-ish minutes are "
   ]
  },
  {
   "cell_type": "code",
   "execution_count": 54,
   "metadata": {},
   "outputs": [],
   "source": [
    "sl = SortedList()\n",
    "a = Order(order_type=\"ask\", security_name=\"AAPL\", price=100, volume=10, owner_id=1)\n",
    "time.sleep(1)\n",
    "b = Order(order_type=\"ask\", security_name=\"AAPL\", price=101, volume=50, owner_id=1)\n",
    "time.sleep(1)\n",
    "c = Order(order_type=\"ask\", security_name=\"AAPL\", price=102, volume=80, owner_id=1)"
   ]
  },
  {
   "cell_type": "code",
   "execution_count": 51,
   "metadata": {},
   "outputs": [
    {
     "name": "stdout",
     "output_type": "stream",
     "text": [
      "True\n"
     ]
    }
   ],
   "source": [
    "omap = {}\n",
    "sl = SortedList()\n",
    "omap[a.id] = a\n",
    "sl.add(omap[a.id])\n",
    "are_same = (omap[a.id] is sl[0])\n",
    "print(are_same)\n"
   ]
  },
  {
   "cell_type": "code",
   "execution_count": 77,
   "metadata": {},
   "outputs": [],
   "source": []
  },
  {
   "cell_type": "code",
   "execution_count": 78,
   "metadata": {},
   "outputs": [
    {
     "data": {
      "text/plain": [
       "SortedList([Order № 13 \n",
       "Order Type ask \n",
       "Security: AAPL \n",
       "Price: 100 \n",
       "Volume: 10 \n",
       "Owner: 1 \n",
       "Status: OrderStatus.CREATED \n",
       "Created: 1706783465.5706851 \n",
       "Last update: 1706783465.5706851 \n",
       ", Order № 14 \n",
       "Order Type ask \n",
       "Security: AAPL \n",
       "Price: 101 \n",
       "Volume: 50 \n",
       "Owner: 1 \n",
       "Status: OrderStatus.CREATED \n",
       "Created: 1706783466.5719347 \n",
       "Last update: 1706783466.5719347 \n",
       ", Order № 15 \n",
       "Order Type ask \n",
       "Security: AAPL \n",
       "Price: 102 \n",
       "Volume: 80 \n",
       "Owner: 1 \n",
       "Status: OrderStatus.CREATED \n",
       "Created: 1706783467.5725536 \n",
       "Last update: 1706783467.5725536 \n",
       "])"
      ]
     },
     "execution_count": 78,
     "metadata": {},
     "output_type": "execute_result"
    }
   ],
   "source": [
    "tl = OrderList([a, b])\n",
    "tl.add(c)\n",
    "tl"
   ]
  },
  {
   "cell_type": "code",
   "execution_count": 83,
   "metadata": {},
   "outputs": [
    {
     "data": {
      "text/plain": [
       "SortedList([Order № 13 \n",
       "Order Type ask \n",
       "Security: AAPL \n",
       "Price: 100 \n",
       "Volume: 10 \n",
       "Owner: 1 \n",
       "Status: OrderStatus.CREATED \n",
       "Created: 1706783465.5706851 \n",
       "Last update: 1706783465.5706851 \n",
       ", Order № 14 \n",
       "Order Type ask \n",
       "Security: AAPL \n",
       "Price: 101 \n",
       "Volume: 50 \n",
       "Owner: 1 \n",
       "Status: OrderStatus.CREATED \n",
       "Created: 1706783466.5719347 \n",
       "Last update: 1706783466.5719347 \n",
       "])"
      ]
     },
     "execution_count": 83,
     "metadata": {},
     "output_type": "execute_result"
    }
   ],
   "source": [
    "tl"
   ]
  },
  {
   "cell_type": "code",
   "execution_count": 49,
   "metadata": {},
   "outputs": [
    {
     "name": "stdout",
     "output_type": "stream",
     "text": [
      "Order № 7 \n",
      "Order Type ask \n",
      "Security: AAPL \n",
      "Price: 100 \n",
      "Volume: 10 \n",
      "Owner: 1 \n",
      "Status: OrderStatus.CREATED \n",
      "Created: 1706739080.7954504 \n",
      "Last update: 1706739080.7954504 \n",
      "\n",
      "Order № 7 \n",
      "Order Type ask \n",
      "Security: AAPL \n",
      "Price: 100 \n",
      "Volume: 10 \n",
      "Owner: 1 \n",
      "Status: OrderStatus.FILLED \n",
      "Created: 1706739080.7954504 \n",
      "Last update: 1706739108.0433347 \n",
      "\n"
     ]
    }
   ],
   "source": [
    "print(a)\n",
    "time.sleep(1)\n",
    "a.status = OrderStatus.FILLED\n",
    "print(a)"
   ]
  },
  {
   "cell_type": "code",
   "execution_count": 14,
   "metadata": {},
   "outputs": [
    {
     "data": {
      "text/plain": [
       "1"
      ]
     },
     "execution_count": 14,
     "metadata": {},
     "output_type": "execute_result"
    }
   ],
   "source": [
    "sl.clear()\n",
    "sl.add(a)\n",
    "sl.add(b)\n",
    "sl.add(c)\n",
    "sl.bisect_left(Order(order_type=\"ask\", security_name=\"AAPL\", price=101, volume=50, owner_id=1))"
   ]
  },
  {
   "cell_type": "code",
   "execution_count": 16,
   "metadata": {},
   "outputs": [],
   "source": [
    "sl.remove(b)"
   ]
  },
  {
   "cell_type": "code",
   "execution_count": 17,
   "metadata": {},
   "outputs": [
    {
     "data": {
      "text/plain": [
       "SortedList([Order № 1 \n",
       "Order Type ask \n",
       "Security: AAPL \n",
       "Price: 100 \n",
       "Volume: 10 \n",
       "Owner: 1 \n",
       "Status: OrderStatus.CREATED \n",
       "Created: 1706699471.7772381 \n",
       "Last update: 1706699471.7772381 \n",
       ", Order № 3 \n",
       "Order Type ask \n",
       "Security: AAPL \n",
       "Price: 102 \n",
       "Volume: 80 \n",
       "Owner: 1 \n",
       "Status: OrderStatus.CREATED \n",
       "Created: 1706699473.7799664 \n",
       "Last update: 1706699473.7799664 \n",
       "])"
      ]
     },
     "execution_count": 17,
     "metadata": {},
     "output_type": "execute_result"
    }
   ],
   "source": [
    "sl"
   ]
  },
  {
   "cell_type": "code",
   "execution_count": 15,
   "metadata": {},
   "outputs": [
    {
     "name": "stdout",
     "output_type": "stream",
     "text": [
      "[Order № 1 \n",
      "Order Type ask \n",
      "Security: AAPL \n",
      "Price: 100 \n",
      "Volume: 10 \n",
      "Owner: 1 \n",
      "Status: OrderStatus.CREATED \n",
      "Created: 1706699471.7772381 \n",
      "Last update: 1706699471.7772381 \n",
      ", Order № 2 \n",
      "Order Type ask \n",
      "Security: AAPL \n",
      "Price: 101 \n",
      "Volume: 50 \n",
      "Owner: 1 \n",
      "Status: OrderStatus.CREATED \n",
      "Created: 1706699472.7790332 \n",
      "Last update: 1706699472.7790332 \n",
      "]\n"
     ]
    }
   ],
   "source": [
    "kk = sl[:2]\n",
    "kk.sort(key=lambda x: x.last_update)\n",
    "print(kk)"
   ]
  },
  {
   "cell_type": "code",
   "execution_count": 29,
   "metadata": {},
   "outputs": [],
   "source": [
    "from bintrees import FastRBTree, RBTree"
   ]
  },
  {
   "cell_type": "code",
   "execution_count": 30,
   "metadata": {},
   "outputs": [
    {
     "data": {
      "text/plain": [
       "RBTree({1: Order № 7 \n",
       "Order Type ask \n",
       "Security: AAPL \n",
       "Price: 100 \n",
       "Volume: 10 \n",
       "Owner: 1 \n",
       "Status: OrderStatus.CREATED \n",
       "Created: 1706372748.6780784 \n",
       "Last update: 1706372748.6780784 \n",
       ", 2: Order № 8 \n",
       "Order Type ask \n",
       "Security: AAPL \n",
       "Price: 101 \n",
       "Volume: 50 \n",
       "Owner: 1 \n",
       "Status: OrderStatus.CREATED \n",
       "Created: 1706372749.68011 \n",
       "Last update: 1706372749.68011 \n",
       ", 3: Order № 9 \n",
       "Order Type ask \n",
       "Security: AAPL \n",
       "Price: 102 \n",
       "Volume: 80 \n",
       "Owner: 1 \n",
       "Status: OrderStatus.CREATED \n",
       "Created: 1706372750.6813135 \n",
       "Last update: 1706372750.6813135 \n",
       "})"
      ]
     },
     "execution_count": 30,
     "metadata": {},
     "output_type": "execute_result"
    }
   ],
   "source": [
    "tree = RBTree()\n",
    "tree.insert(1, a)\n",
    "tree.insert(2, b)\n",
    "tree.insert(3, c)\n",
    "\n",
    "tree"
   ]
  },
  {
   "cell_type": "code",
   "execution_count": 31,
   "metadata": {},
   "outputs": [
    {
     "ename": "AttributeError",
     "evalue": "'RBTree' object has no attribute 'bisect_left'",
     "output_type": "error",
     "traceback": [
      "\u001b[1;31m---------------------------------------------------------------------------\u001b[0m",
      "\u001b[1;31mAttributeError\u001b[0m                            Traceback (most recent call last)",
      "Cell \u001b[1;32mIn[31], line 1\u001b[0m\n\u001b[1;32m----> 1\u001b[0m \u001b[43mtree\u001b[49m\u001b[38;5;241;43m.\u001b[39;49m\u001b[43mbisect_left\u001b[49m(\u001b[38;5;241m101\u001b[39m)\n",
      "\u001b[1;31mAttributeError\u001b[0m: 'RBTree' object has no attribute 'bisect_left'"
     ]
    }
   ],
   "source": [
    "tree."
   ]
  },
  {
   "cell_type": "code",
   "execution_count": 14,
   "metadata": {},
   "outputs": [
    {
     "ename": "TypeError",
     "evalue": "'<' not supported between instances of 'Order' and 'Order'",
     "output_type": "error",
     "traceback": [
      "\u001b[1;31m---------------------------------------------------------------------------\u001b[0m",
      "\u001b[1;31mTypeError\u001b[0m                                 Traceback (most recent call last)",
      "Cell \u001b[1;32mIn[14], line 1\u001b[0m\n\u001b[1;32m----> 1\u001b[0m \u001b[43msl\u001b[49m\u001b[38;5;241;43m.\u001b[39;49m\u001b[43madd\u001b[49m\u001b[43m(\u001b[49m\u001b[43ma\u001b[49m\u001b[43m)\u001b[49m\n\u001b[0;32m      2\u001b[0m sl\u001b[38;5;241m.\u001b[39madd(b)\n\u001b[0;32m      3\u001b[0m sl\u001b[38;5;241m.\u001b[39madd(c)\n",
      "File \u001b[1;32mc:\\Users\\Miqasa\\OneDrive\\Документы\\project_par_dir\\ds_projs\\orderbook_telegramm_webapp\\.venv\\Lib\\site-packages\\sortedcontainers\\sortedlist.py:272\u001b[0m, in \u001b[0;36mSortedList.add\u001b[1;34m(self, value)\u001b[0m\n\u001b[0;32m    269\u001b[0m _maxes \u001b[38;5;241m=\u001b[39m \u001b[38;5;28mself\u001b[39m\u001b[38;5;241m.\u001b[39m_maxes\n\u001b[0;32m    271\u001b[0m \u001b[38;5;28;01mif\u001b[39;00m _maxes:\n\u001b[1;32m--> 272\u001b[0m     pos \u001b[38;5;241m=\u001b[39m \u001b[43mbisect_right\u001b[49m\u001b[43m(\u001b[49m\u001b[43m_maxes\u001b[49m\u001b[43m,\u001b[49m\u001b[43m \u001b[49m\u001b[43mvalue\u001b[49m\u001b[43m)\u001b[49m\n\u001b[0;32m    274\u001b[0m     \u001b[38;5;28;01mif\u001b[39;00m pos \u001b[38;5;241m==\u001b[39m \u001b[38;5;28mlen\u001b[39m(_maxes):\n\u001b[0;32m    275\u001b[0m         pos \u001b[38;5;241m-\u001b[39m\u001b[38;5;241m=\u001b[39m \u001b[38;5;241m1\u001b[39m\n",
      "\u001b[1;31mTypeError\u001b[0m: '<' not supported between instances of 'Order' and 'Order'"
     ]
    }
   ],
   "source": [
    "sl.add(a)\n",
    "sl.add(b)\n",
    "sl.add(c)\n",
    "sl"
   ]
  },
  {
   "cell_type": "code",
   "execution_count": null,
   "metadata": {},
   "outputs": [],
   "source": [
    "from enum import Enum\n",
    "\n",
    "class MarketSecurities(Enum):\n",
    "    APPLE = 1\n",
    "    GOOGLE = 2\n",
    "    MICROSOFT = 3\n",
    "    AMAZON = 4\n",
    "\n",
    "# Example usage\n",
    "security_id = MarketSecurities.APPLE.value\n",
    "print(security_id)  # Output: 1\n"
   ]
  },
  {
   "cell_type": "code",
   "execution_count": null,
   "metadata": {},
   "outputs": [],
   "source": [
    "from enum import Enum, auto\n",
    "\n",
    "id_dict = {\"AAPLE\": 1, \"GOOGLE\": 2, \"MICROSOFT\": 3, \"AMAZON\": 4}\n",
    "\n",
    "class MarketSecurities(Enum):\n",
    "    pass\n",
    "\n",
    "for name, value in id_dict.items():\n",
    "    setattr(MarketSecurities, name, value)\n",
    "\n",
    "# Example usage\n",
    "security_id = MarketSecurities.APPLE.value\n",
    "print(security_id)  # Output: 1\n"
   ]
  },
  {
   "cell_type": "code",
   "execution_count": 19,
   "metadata": {},
   "outputs": [
    {
     "name": "stdout",
     "output_type": "stream",
     "text": [
      "30\n"
     ]
    },
    {
     "data": {
      "text/plain": [
       "<OrderStatus.PARTIALLY_FILLED: 2>"
      ]
     },
     "execution_count": 19,
     "metadata": {},
     "output_type": "execute_result"
    }
   ],
   "source": [
    "a = Order(\"bid\", \"Microsoft\", 100, 10, 1)\n",
    "print(a.fill(15))\n",
    "a.status\n",
    "# b = Order(\"bid\", \"Microsoft\", 110, 10, 1)\n",
    "# c = Order(\"bid\", \"Microsoft\", 95, 10, 1)\n",
    "# print(a)\n",
    "# print(b)\n",
    "# print(c)"
   ]
  },
  {
   "cell_type": "code",
   "execution_count": 15,
   "metadata": {},
   "outputs": [
    {
     "data": {
      "text/plain": [
       "<OrderStatus.CANCELLED: 4>"
      ]
     },
     "execution_count": 15,
     "metadata": {},
     "output_type": "execute_result"
    }
   ],
   "source": []
  },
  {
   "cell_type": "code",
   "execution_count": 11,
   "metadata": {},
   "outputs": [],
   "source": [
    "from bintrees import AVLTree, RBTree"
   ]
  },
  {
   "cell_type": "code",
   "execution_count": 15,
   "metadata": {},
   "outputs": [],
   "source": [
    "from sortedcontainers import SortedList"
   ]
  },
  {
   "cell_type": "code",
   "execution_count": 40,
   "metadata": {},
   "outputs": [],
   "source": [
    "sl = SortedList([a, b, c])"
   ]
  },
  {
   "cell_type": "code",
   "execution_count": 42,
   "metadata": {},
   "outputs": [],
   "source": [
    "d= Order(\"bid\", \"Microsoft\", 80, 100, 1)"
   ]
  },
  {
   "cell_type": "code",
   "execution_count": 43,
   "metadata": {},
   "outputs": [
    {
     "name": "stdout",
     "output_type": "stream",
     "text": [
      "SortedList([Order № 16 \n",
      "Order Type bid \n",
      "Security: Microsoft \n",
      "Price: 95 \n",
      "Volume: 10 \n",
      "Owner: 1 \n",
      "Status: 0 \n",
      "Time: 1706132732.8304594 \n",
      ", Order № 14 \n",
      "Order Type bid \n",
      "Security: Microsoft \n",
      "Price: 100 \n",
      "Volume: 10 \n",
      "Owner: 1 \n",
      "Status: 0 \n",
      "Time: 1706132732.8304594 \n",
      ", Order № 15 \n",
      "Order Type bid \n",
      "Security: Microsoft \n",
      "Price: 110 \n",
      "Volume: 10 \n",
      "Owner: 1 \n",
      "Status: 0 \n",
      "Time: 1706132732.8304594 \n",
      "])\n"
     ]
    },
    {
     "data": {
      "text/plain": [
       "SortedList([Order № 17 \n",
       "Order Type bid \n",
       "Security: Microsoft \n",
       "Price: 80 \n",
       "Volume: 100 \n",
       "Owner: 1 \n",
       "Status: 0 \n",
       "Time: 1706133128.3177133 \n",
       ", Order № 16 \n",
       "Order Type bid \n",
       "Security: Microsoft \n",
       "Price: 95 \n",
       "Volume: 10 \n",
       "Owner: 1 \n",
       "Status: 0 \n",
       "Time: 1706132732.8304594 \n",
       ", Order № 14 \n",
       "Order Type bid \n",
       "Security: Microsoft \n",
       "Price: 100 \n",
       "Volume: 10 \n",
       "Owner: 1 \n",
       "Status: 0 \n",
       "Time: 1706132732.8304594 \n",
       ", Order № 15 \n",
       "Order Type bid \n",
       "Security: Microsoft \n",
       "Price: 110 \n",
       "Volume: 10 \n",
       "Owner: 1 \n",
       "Status: 0 \n",
       "Time: 1706132732.8304594 \n",
       "])"
      ]
     },
     "execution_count": 43,
     "metadata": {},
     "output_type": "execute_result"
    }
   ],
   "source": [
    "print(sl)\n",
    "sl.add(d)\n",
    "sl"
   ]
  },
  {
   "cell_type": "code",
   "execution_count": null,
   "metadata": {},
   "outputs": [],
   "source": [
    "class OrderTree(SortedList):\n",
    "    def __init__(self, *args, **kwargs):\n",
    "        super().__init__(*args, **kwargs)\n",
    "        self._max_id = 0\n",
    "\n",
    "    def insert(self, order):\n",
    "        super().insert(order.id, order)\n",
    "        self._max_id = max(self._max_id, order.id)\n",
    "\n",
    "    def remove(self, order):\n",
    "        super().remove(order.id)\n",
    "        if order.id == self._max_id:\n",
    "            self._max_id = max(self.keys())\n",
    "\n",
    "    def get_max_id(self):\n",
    "        return self._max_id"
   ]
  }
 ],
 "metadata": {
  "kernelspec": {
   "display_name": ".venv",
   "language": "python",
   "name": "python3"
  },
  "language_info": {
   "codemirror_mode": {
    "name": "ipython",
    "version": 3
   },
   "file_extension": ".py",
   "mimetype": "text/x-python",
   "name": "python",
   "nbconvert_exporter": "python",
   "pygments_lexer": "ipython3",
   "version": "3.11.3"
  }
 },
 "nbformat": 4,
 "nbformat_minor": 2
}
