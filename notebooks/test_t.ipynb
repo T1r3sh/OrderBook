{
 "cells": [
  {
   "cell_type": "code",
   "execution_count": 3,
   "metadata": {},
   "outputs": [],
   "source": [
    "from typing import Any, Optional, Union, List\n",
    "from pydantic import BaseModel, PositiveInt, PositiveFloat\n",
    "from datetime import datetime\n",
    "import os\n",
    "from sortedcontainers import SortedList\n",
    "from enum import Enum, auto\n",
    "    \n",
    "    "
   ]
  },
  {
   "cell_type": "code",
   "execution_count": 11,
   "metadata": {},
   "outputs": [],
   "source": [
    "class OrderIdGenerator:\n",
    "    \"\"\"\n",
    "    A class that generates unique order IDs.\n",
    "\n",
    "    Attributes:\n",
    "        filepath (str): The file path to store the current state of the ID counter.\n",
    "        id_counter (int): The current value of the ID counter.\n",
    "        iterations_since_last_save (int): The number of iterations since the last state save.\n",
    "        save_frequency (int): The frequency at which the state should be saved.\n",
    "\n",
    "    Methods:\n",
    "        __iter__(): Returns the iterator object itself.\n",
    "        __next__(): Returns the next unique order ID.\n",
    "        save_state(): Saves the current state of the ID counter to a file.\n",
    "        load_state(): Loads the previous state of the ID counter from a file.\n",
    "        reset_state(): Resets the ID counter to 0 and saves the state.\n",
    "    \"\"\"\n",
    "\n",
    "    def __init__(self):\n",
    "        self.filepath = os.path.join(os.getcwd(), \"current_state.txt\")\n",
    "        self.id_counter = self.load_state()\n",
    "        self.iterations_since_last_save = 0\n",
    "        self.save_frequency = 100\n",
    "\n",
    "    def __iter__(self):\n",
    "        return self\n",
    "\n",
    "    def __next__(self):\n",
    "        current_id = self.id_counter\n",
    "        self.id_counter += 1\n",
    "        self.iterations_since_last_save += 1\n",
    "        if self.iterations_since_last_save >= self.save_frequency:\n",
    "            self.save_state()\n",
    "            self.iterations_since_last_save = 0\n",
    "\n",
    "        return current_id\n",
    "\n",
    "    def save_state(self) -> None:\n",
    "        \"\"\"\n",
    "        Saves the current state of the ID counter to a file.\n",
    "        \"\"\"\n",
    "        with open(self.filepath, \"w\", encoding=\"utf-8\") as f:\n",
    "            f.write(str(self.id_counter))\n",
    "\n",
    "    def load_state(self) -> None:\n",
    "        \"\"\"\n",
    "        Loads the previous state of the ID counter from a file.\n",
    "        \"\"\"\n",
    "        if not os.path.exists(self.filepath):\n",
    "            return 0\n",
    "        with open(self.filepath, \"r\", encoding=\"utf-8\") as f:\n",
    "            saved_state = f.read()\n",
    "            return int(saved_state)\n",
    "\n",
    "    def reset_state(self) -> None:\n",
    "        \"\"\"\n",
    "        Resets the state of the object by setting the id_counter to 0 and saving the state.\n",
    "        \"\"\"\n",
    "        self.id_counter = 0\n",
    "        self.save_state()"
   ]
  },
  {
   "cell_type": "code",
   "execution_count": 18,
   "metadata": {},
   "outputs": [],
   "source": [
    "class OrderStatus(Enum):\n",
    "    CREATED = auto()\n",
    "    PARTIALLY_FILLED = auto()\n",
    "    FILLED = auto()\n",
    "    MODIFIED = auto()\n",
    "    CANCELLED = auto()\n",
    "    RESTORED = auto()\n",
    "    EXPIRED = auto()\n",
    "\n",
    "    @property\n",
    "    def is_active(self):\n",
    "        return self in {\n",
    "            OrderStatus.CREATED,\n",
    "            OrderStatus.PARTIALLY_FILLED,\n",
    "            OrderStatus.MODIFIED,\n",
    "            OrderStatus.RESTORED,\n",
    "        }\n",
    "\n",
    "\n",
    "class OrderType(Enum):\n",
    "    ASK = \"ask\"\n",
    "    BID = \"bid\"\n",
    "\n",
    "\n",
    "class Order(BaseModel):\n",
    "    id: PositiveInt\n",
    "    order_type: OrderType\n",
    "    price: PositiveFloat\n",
    "    volume: PositiveInt\n",
    "    owner_id: PositiveInt\n",
    "    status: Optional[OrderStatus] = None\n",
    "    created: Optional[datetime] = None\n",
    "    updated: Optional[datetime] = None\n",
    "    listed: Optional[datetime] = None\n",
    "\n",
    "    def __init__(self, **data):\n",
    "        # logging here\n",
    "        super().__init__(**data)\n",
    "        if self.status is None:\n",
    "            self.status = OrderStatus.CREATED\n",
    "        now = datetime.now()\n",
    "        if self.created is None:\n",
    "            self.created = now\n",
    "        if self.updated is None:\n",
    "            self.updated = now\n",
    "\n",
    "    def __setattr__(self, name: str, value: Any) -> None:\n",
    "        if name != \"updated\":\n",
    "            super().__setattr__(\"updated\", datetime.now())\n",
    "        # logging here\n",
    "        return super().__setattr__(name, value)\n",
    "\n",
    "    def __lt__(self, other: Union[int, float, \"Order\"]):\n",
    "        if isinstance(other, (int, float)):\n",
    "            return self.price < other\n",
    "        if isinstance(other, Order):\n",
    "            return self.price < other.price\n",
    "        return NotImplemented\n",
    "\n",
    "    def __gt__(self, other: Union[int, float, \"Order\"]):\n",
    "        if isinstance(other, (int, float)):\n",
    "            return self.price > other\n",
    "        if isinstance(other, Order):\n",
    "            return self.price > other.price\n",
    "        return NotImplemented\n",
    "\n",
    "    def __le__(self, other: Union[int, float, \"Order\"]):\n",
    "        if isinstance(other, (int, float)):\n",
    "            return self.price <= other\n",
    "        if isinstance(other, Order):\n",
    "            return self.price <= other.price\n",
    "        return NotImplemented\n",
    "\n",
    "    def __ge__(self, other: Union[int, float, \"Order\"]):\n",
    "        if isinstance(other, (int, float)):\n",
    "            return self.price >= other\n",
    "        if isinstance(other, Order):\n",
    "            return self.price >= other.price\n",
    "        return NotImplemented\n",
    "\n",
    "\n",
    "class OrderList:\n",
    "    \"\"\"\n",
    "    Order List is a collection of orders. It is used to store and manage orders.\n",
    "    Active orders are stored in a sorted list with search complexity of O(log n) and insertion complexity of O(n).\n",
    "    All orders are indexed by their id for O(1) access.\n",
    "    Active orders can be reached through bisect operations.\n",
    "    \"\"\"\n",
    "\n",
    "    def __init__(\n",
    "        self,\n",
    "        order_type: OrderType,\n",
    "        order_list: Optional[List[Order]] = None,\n",
    "    ) -> None:\n",
    "        \"\"\"\n",
    "        Initializes a collection of orders of a specified type. All orders within the collection must share the same order type.\n",
    "\n",
    "        :param order_type: The type of orders to be stored in the list, e.g., 'ask' or 'bid'. The specific types are defined in the OrderType enum.\n",
    "        :type order_type: OrderType\n",
    "        :param order_list: Initial list of orders to be added to the collection, defaults to None. Each order in the list is added to the collection using the 'add' method logic.\n",
    "        :type order_list: Optional[List[Order]], optional\n",
    "        \"\"\"\n",
    "        self.__order_list = SortedList()\n",
    "        self.__ids = {}\n",
    "        self.otype = order_type\n",
    "        if order_list:\n",
    "            for order in order_list:\n",
    "                self.add(order)\n",
    "\n",
    "    def get(self, order_id: int) -> Optional[Order]:\n",
    "        \"\"\"\n",
    "        Gets an order by its ID.\n",
    "\n",
    "        :param order_id: The ID of the order to retrieve.\n",
    "        :type order_id: int\n",
    "        :return: The order with the specified ID, if found; otherwise, None.\n",
    "        :rtype: Optional[Order]\n",
    "        \"\"\"\n",
    "        return self.__ids.get(order_id)\n",
    "\n",
    "    def add(self, order: Order, tolist: Union[bool, str] = \"auto\") -> None:\n",
    "        \"\"\"\n",
    "        Adds an order to the collection. The order is only added to the sorted list if it meets the criteria defined by the 'tolist' parameter. By default ('auto'), active orders are added to the sorted list.\n",
    "\n",
    "        :param order: The order to be added to the collection.\n",
    "        :type order: Order\n",
    "        :param tolist: Specifies how the order should be added to the list. 'auto' adds active orders automatically; True or 'y'/'yes' always adds; False or 'n'/'no' never adds. Defaults to 'auto'.\n",
    "        :type tolist: Union[bool, str], optional\n",
    "        :raises ValueError: If the order's type does not match the collection's type.\n",
    "        :raises ValueError: If 'tolist' is given an invalid value.\n",
    "        \"\"\"\n",
    "        if order.order_type != self.otype:\n",
    "            raise ValueError(\"Order type must be the same as the list type\")\n",
    "        if tolist == \"auto\":\n",
    "            if order.status.is_active:\n",
    "                if order.listed is None:\n",
    "                    order.listed = datetime.now()\n",
    "                self.__order_list.add(order)\n",
    "        elif tolist is True or tolist in [\"y\", \"yes\"]:\n",
    "            self.__order_list.add(order)\n",
    "        elif tolist is False or tolist in [\"n\", \"no\"]:\n",
    "            pass\n",
    "        else:\n",
    "            raise ValueError(\"Invalid value for tolist\")\n",
    "        self.__ids[order.id] = order\n",
    "\n",
    "    def bisect_left(\n",
    "        self, order: Union[Order, float], include_right: bool = True\n",
    "    ) -> List[Order]:\n",
    "        \"\"\"\n",
    "        Performs a bisect left operation on the sorted list to find the position to insert 'order' or 'price'.\n",
    "        Returns a segment of the list based on the bisect position.\n",
    "\n",
    "        :param order: Either an Order object or a float price value to perform the bisect operation.\n",
    "        :type order: Union[Order, float]\n",
    "        :param include_right: If True, returns the segment of the list from the bisect position to the end (inclusive of the position).\n",
    "                              If False, returns the segment up to the bisect position (exclusive).\n",
    "                              Defaults to True.\n",
    "        :type include_right: bool, optional\n",
    "        :return: A list of Orders filtered based on the bisect operation.\n",
    "        :rtype: List[Order]\n",
    "        \"\"\"\n",
    "        cid = self.__order_list.bisect_left(order)\n",
    "        if include_right:\n",
    "            return self.__order_list[cid:]\n",
    "        return self.__order_list[:cid]\n",
    "\n",
    "    def bisect_right(\n",
    "        self, order: Union[Order, float], include_left: bool = True\n",
    "    ) -> List[Order]:\n",
    "        \"\"\"\n",
    "        Performs a bisect right operation on the sorted list to find the position to insert 'order' or 'price'.\n",
    "        Returns a segment of the list based on the bisect position.\n",
    "\n",
    "        :param order: Either an Order object or a float price value to perform the bisect operation.\n",
    "        :type order: Union[Order, float]\n",
    "        :param include_left: If True, returns the segment of the list up to the bisect position (inclusive).\n",
    "                             If False, returns the segment of the list from the bisect position to the end (exclusive).\n",
    "                             Defaults to True.\n",
    "        :type include_left: bool, optional\n",
    "        :return: A list of Orders filtered based on the bisect operation.\n",
    "        :rtype: List[Order]\n",
    "        \"\"\"\n",
    "        cid = self.__order_list.bisect_right(order)\n",
    "        if include_left:\n",
    "            return self.__order_list[:cid]\n",
    "        return self.__order_list[cid:]\n",
    "\n",
    "    def unlist(self, order: Union[Order, int], order_status: OrderStatus) -> None:\n",
    "        if isinstance(order, int):\n",
    "            order = self.__ids.get(order)\n",
    "            if order is None:\n",
    "                raise ValueError(\"Provided order ID not found\")\n",
    "        elif not isinstance(order, Order):\n",
    "            raise ValueError(\"Invalid order type\")\n",
    "        if not order.status.is_active:\n",
    "            raise ValueError(\"Order is not active.\")\n",
    "        if order_status.is_active:\n",
    "            raise ValueError(\"Order cannot be unlisted with active status.\")\n",
    "        self.__order_list.remove(order)\n",
    "        order.status = order_status\n",
    "\n",
    "    def relist(self, order: Union[Order, int], order_status: OrderStatus = OrderStatus.RESTORED) -> None:\n",
    "        if isinstance(order, int):\n",
    "            order = self.__ids.get(order)\n",
    "            if order is None:\n",
    "                raise ValueError(\"Provided order ID not found\")\n",
    "        elif not isinstance(order, Order):\n",
    "            raise ValueError(\"Invalid order type\")\n",
    "        if not order_status.is_active:\n",
    "            raise ValueError(\"Active order cannot have non-active status\")\n",
    "        order.status = order_status\n",
    "        order.listed = datetime.now()\n",
    "        self.__order_list.add(order)\n",
    "\n",
    "    def remove(self, order: Union[Order, int]) -> None:\n",
    "        \"\"\"\n",
    "        Remove an order from the collection.\n",
    "\n",
    "        :param order: order to be removed, it can be either an order or an order id\n",
    "        :type order: Union[Order, int]\n",
    "        :raises ValueError: if provided order is invalid type\n",
    "        :raises ValueError: if order is not found\n",
    "        \"\"\"\n",
    "        if isinstance(order, int):\n",
    "            order = self.__ids.get(order)\n",
    "            if order is None:\n",
    "                raise ValueError(\"Provided order ID not found\")\n",
    "        elif not isinstance(order, Order):\n",
    "            raise ValueError(\"Invalid order type\")\n",
    "\n",
    "        if order.status.is_active:\n",
    "            self.__order_list.remove(order)\n",
    "        del self.__ids[order.id]\n",
    "\n",
    "    def expire(self, order: Union[Order, int]) -> None:\n",
    "        if isinstance(order, int):\n",
    "            order = self.__ids.get(order)\n",
    "            if order is None:\n",
    "                raise ValueError(\"Provided order ID not found\")\n",
    "        elif not isinstance(order, Order):\n",
    "            raise ValueError(\"Invalid order type\")\n",
    "        if not order.status.is_active:\n",
    "            raise ValueError(\"Order is not active.\")\n",
    "        self.__order_list.remove(order)\n",
    "        order.status = OrderStatus.EXPIRED\n",
    "\n",
    "    def cancel(self, order: Union[Order, int]) -> None:\n",
    "        if isinstance(order, int):\n",
    "            order = self.__ids.get(order)\n",
    "            if order is None:\n",
    "                raise ValueError(\"Provided order ID not found\")\n",
    "        elif not isinstance(order, Order):\n",
    "            raise ValueError(\"Invalid order type\")\n",
    "        if not order.status.is_active:\n",
    "            raise ValueError(\"Order is not active.\")\n",
    "        self.__order_list.remove(order)\n",
    "        order.status = OrderStatus.CANCELLED\n",
    "\n",
    "    def fill(self, order: Union[Order, int], volume: int) -> None:\n",
    "        if volume <= 0:\n",
    "            raise ValueError(\"Volume must be positive\")\n",
    "        if isinstance(order, int):\n",
    "            order = self.__ids.get(order)\n",
    "            if order is None:\n",
    "                raise ValueError(\"Provided order ID not found\")\n",
    "        elif not isinstance(order, Order):\n",
    "            raise ValueError(\"Invalid order type\")\n",
    "        if not order.status.is_active:\n",
    "            raise ValueError(\"Order is not active.\")\n",
    "        if volume > order.volume:\n",
    "            raise ValueError(\"Volume is greater than order volume\")\n",
    "        order.volume -= volume\n",
    "        if order.volume == 0:\n",
    "            self.unlist(order, OrderStatus.FILLED)\n",
    "        else:\n",
    "            order.status = OrderStatus.PARTIALLY_FILLED\n",
    "\n",
    "    def modify(\n",
    "        self,\n",
    "        order: Union[Order, int],\n",
    "        price: Optional[float] = None,\n",
    "        volume: Optional[int] = None,\n",
    "        relist: bool = True,\n",
    "    ) -> None:\n",
    "        if any([price<=0, volume<=0]):\n",
    "            raise ValueError(\"Price and volume must be positive\")\n",
    "        if isinstance(order, int):\n",
    "            order = self.__ids.get(order)\n",
    "            if order is None:\n",
    "                raise ValueError(\"Provided order ID not found\")\n",
    "        elif not isinstance(order, Order):\n",
    "            raise ValueError(\"Invalid order type\")\n",
    "\n",
    "        if relist:\n",
    "            if order.status.is_active:\n",
    "                self.__order_list.remove(order)\n",
    "            else:\n",
    "                print(\"Warning: Order is not active, it will not be relisted\")\n",
    "                relist = False\n",
    "        order = self.__ids[order.id]\n",
    "        if price is not None:\n",
    "            order.price = price\n",
    "        if volume is not None:\n",
    "            order.volume = volume\n",
    "        if relist:\n",
    "            order.status = OrderStatus.MODIFIED\n",
    "            self.__order_list.add(order)\n",
    "\n",
    "    def clear(self) -> None:\n",
    "        \"\"\"\n",
    "        Clears the collection of all orders.\n",
    "        \"\"\"\n",
    "        self.__order_list.clear()\n",
    "        self.__ids.clear()\n",
    "\n",
    "    def __getitem__(self, order_id):\n",
    "        return self.__ids[order_id]\n",
    "\n",
    "    def __iter__(self):\n",
    "        return iter(self.__order_list)\n",
    "\n",
    "    def __len__(self):\n",
    "        return len(self.__ids)\n",
    "\n",
    "    def __repr__(self):\n",
    "        return str(self.__order_list)"
   ]
  },
  {
   "cell_type": "markdown",
   "metadata": {},
   "source": [
    "# simple tests"
   ]
  },
  {
   "cell_type": "code",
   "execution_count": 5,
   "metadata": {},
   "outputs": [],
   "source": [
    "import random"
   ]
  },
  {
   "cell_type": "markdown",
   "metadata": {},
   "source": [
    "### creation"
   ]
  },
  {
   "cell_type": "code",
   "execution_count": 6,
   "metadata": {},
   "outputs": [
    {
     "data": {
      "text/plain": [
       "[Order(id=1, order_type=<OrderType.ASK: 'ask'>, price=108.15772034491731, volume=40, owner_id=2, status=<OrderStatus.CREATED: 1>, created=datetime.datetime(2024, 2, 25, 17, 35, 33, 162363), updated=datetime.datetime(2024, 2, 25, 17, 35, 33, 162363), listed=None),\n",
       " Order(id=2, order_type=<OrderType.ASK: 'ask'>, price=100.70032130314736, volume=24, owner_id=9, status=<OrderStatus.CREATED: 1>, created=datetime.datetime(2024, 2, 25, 17, 35, 33, 162363), updated=datetime.datetime(2024, 2, 25, 17, 35, 33, 162363), listed=None),\n",
       " Order(id=3, order_type=<OrderType.ASK: 'ask'>, price=99.82702453206373, volume=58, owner_id=9, status=<OrderStatus.CREATED: 1>, created=datetime.datetime(2024, 2, 25, 17, 35, 33, 162363), updated=datetime.datetime(2024, 2, 25, 17, 35, 33, 162363), listed=None),\n",
       " Order(id=4, order_type=<OrderType.ASK: 'ask'>, price=101.98836571267226, volume=13, owner_id=9, status=<OrderStatus.CREATED: 1>, created=datetime.datetime(2024, 2, 25, 17, 35, 33, 162363), updated=datetime.datetime(2024, 2, 25, 17, 35, 33, 162363), listed=None),\n",
       " Order(id=5, order_type=<OrderType.ASK: 'ask'>, price=105.93610575041168, volume=47, owner_id=3, status=<OrderStatus.CREATED: 1>, created=datetime.datetime(2024, 2, 25, 17, 35, 33, 162363), updated=datetime.datetime(2024, 2, 25, 17, 35, 33, 162363), listed=None)]"
      ]
     },
     "execution_count": 6,
     "metadata": {},
     "output_type": "execute_result"
    }
   ],
   "source": [
    "orders = []\n",
    "for i in range(random.randint(10, 25)):\n",
    "    orders.append(\n",
    "        Order(\n",
    "            id=i+1,\n",
    "            order_type=OrderType.ASK,\n",
    "            price=random.uniform(95, 110),\n",
    "            volume=random.randint(10, 70),\n",
    "            owner_id=random.randint(1, 10),\n",
    "        )\n",
    "    )\n",
    "orders[:5]"
   ]
  },
  {
   "cell_type": "code",
   "execution_count": 7,
   "metadata": {},
   "outputs": [
    {
     "data": {
      "text/plain": [
       "SortedList([Order(id=15, order_type=<OrderType.ASK: 'ask'>, price=95.17734461862833, volume=55, owner_id=6, status=<OrderStatus.CREATED: 1>, created=datetime.datetime(2024, 2, 25, 17, 35, 33, 162363), updated=datetime.datetime(2024, 2, 25, 17, 35, 33, 179041), listed=datetime.datetime(2024, 2, 25, 17, 35, 33, 179041)), Order(id=14, order_type=<OrderType.ASK: 'ask'>, price=95.71232072962259, volume=35, owner_id=4, status=<OrderStatus.CREATED: 1>, created=datetime.datetime(2024, 2, 25, 17, 35, 33, 162363), updated=datetime.datetime(2024, 2, 25, 17, 35, 33, 179041), listed=datetime.datetime(2024, 2, 25, 17, 35, 33, 179041)), Order(id=13, order_type=<OrderType.ASK: 'ask'>, price=96.94017979162851, volume=51, owner_id=3, status=<OrderStatus.CREATED: 1>, created=datetime.datetime(2024, 2, 25, 17, 35, 33, 162363), updated=datetime.datetime(2024, 2, 25, 17, 35, 33, 179041), listed=datetime.datetime(2024, 2, 25, 17, 35, 33, 179041)), Order(id=7, order_type=<OrderType.ASK: 'ask'>, price=97.02315300934548, volume=46, owner_id=9, status=<OrderStatus.CREATED: 1>, created=datetime.datetime(2024, 2, 25, 17, 35, 33, 162363), updated=datetime.datetime(2024, 2, 25, 17, 35, 33, 179041), listed=datetime.datetime(2024, 2, 25, 17, 35, 33, 179041)), Order(id=10, order_type=<OrderType.ASK: 'ask'>, price=99.70229458090435, volume=49, owner_id=2, status=<OrderStatus.CREATED: 1>, created=datetime.datetime(2024, 2, 25, 17, 35, 33, 162363), updated=datetime.datetime(2024, 2, 25, 17, 35, 33, 179041), listed=datetime.datetime(2024, 2, 25, 17, 35, 33, 179041)), Order(id=16, order_type=<OrderType.ASK: 'ask'>, price=99.7385647023685, volume=62, owner_id=4, status=<OrderStatus.CREATED: 1>, created=datetime.datetime(2024, 2, 25, 17, 35, 33, 162363), updated=datetime.datetime(2024, 2, 25, 17, 35, 33, 179041), listed=datetime.datetime(2024, 2, 25, 17, 35, 33, 179041)), Order(id=3, order_type=<OrderType.ASK: 'ask'>, price=99.82702453206373, volume=58, owner_id=9, status=<OrderStatus.CREATED: 1>, created=datetime.datetime(2024, 2, 25, 17, 35, 33, 162363), updated=datetime.datetime(2024, 2, 25, 17, 35, 33, 179041), listed=datetime.datetime(2024, 2, 25, 17, 35, 33, 179041)), Order(id=12, order_type=<OrderType.ASK: 'ask'>, price=100.60451753179426, volume=26, owner_id=4, status=<OrderStatus.CREATED: 1>, created=datetime.datetime(2024, 2, 25, 17, 35, 33, 162363), updated=datetime.datetime(2024, 2, 25, 17, 35, 33, 179041), listed=datetime.datetime(2024, 2, 25, 17, 35, 33, 179041)), Order(id=2, order_type=<OrderType.ASK: 'ask'>, price=100.70032130314736, volume=24, owner_id=9, status=<OrderStatus.CREATED: 1>, created=datetime.datetime(2024, 2, 25, 17, 35, 33, 162363), updated=datetime.datetime(2024, 2, 25, 17, 35, 33, 179041), listed=datetime.datetime(2024, 2, 25, 17, 35, 33, 179041)), Order(id=6, order_type=<OrderType.ASK: 'ask'>, price=101.04203536211683, volume=41, owner_id=9, status=<OrderStatus.CREATED: 1>, created=datetime.datetime(2024, 2, 25, 17, 35, 33, 162363), updated=datetime.datetime(2024, 2, 25, 17, 35, 33, 179041), listed=datetime.datetime(2024, 2, 25, 17, 35, 33, 179041)), Order(id=4, order_type=<OrderType.ASK: 'ask'>, price=101.98836571267226, volume=13, owner_id=9, status=<OrderStatus.CREATED: 1>, created=datetime.datetime(2024, 2, 25, 17, 35, 33, 162363), updated=datetime.datetime(2024, 2, 25, 17, 35, 33, 179041), listed=datetime.datetime(2024, 2, 25, 17, 35, 33, 179041)), Order(id=17, order_type=<OrderType.ASK: 'ask'>, price=103.06933885236853, volume=46, owner_id=1, status=<OrderStatus.CREATED: 1>, created=datetime.datetime(2024, 2, 25, 17, 35, 33, 162363), updated=datetime.datetime(2024, 2, 25, 17, 35, 33, 179041), listed=datetime.datetime(2024, 2, 25, 17, 35, 33, 179041)), Order(id=8, order_type=<OrderType.ASK: 'ask'>, price=103.32291029969426, volume=25, owner_id=7, status=<OrderStatus.CREATED: 1>, created=datetime.datetime(2024, 2, 25, 17, 35, 33, 162363), updated=datetime.datetime(2024, 2, 25, 17, 35, 33, 179041), listed=datetime.datetime(2024, 2, 25, 17, 35, 33, 179041)), Order(id=18, order_type=<OrderType.ASK: 'ask'>, price=103.33940591133603, volume=38, owner_id=5, status=<OrderStatus.CREATED: 1>, created=datetime.datetime(2024, 2, 25, 17, 35, 33, 162363), updated=datetime.datetime(2024, 2, 25, 17, 35, 33, 179041), listed=datetime.datetime(2024, 2, 25, 17, 35, 33, 179041)), Order(id=11, order_type=<OrderType.ASK: 'ask'>, price=105.1992461247731, volume=59, owner_id=2, status=<OrderStatus.CREATED: 1>, created=datetime.datetime(2024, 2, 25, 17, 35, 33, 162363), updated=datetime.datetime(2024, 2, 25, 17, 35, 33, 179041), listed=datetime.datetime(2024, 2, 25, 17, 35, 33, 179041)), Order(id=5, order_type=<OrderType.ASK: 'ask'>, price=105.93610575041168, volume=47, owner_id=3, status=<OrderStatus.CREATED: 1>, created=datetime.datetime(2024, 2, 25, 17, 35, 33, 162363), updated=datetime.datetime(2024, 2, 25, 17, 35, 33, 179041), listed=datetime.datetime(2024, 2, 25, 17, 35, 33, 179041)), Order(id=1, order_type=<OrderType.ASK: 'ask'>, price=108.15772034491731, volume=40, owner_id=2, status=<OrderStatus.CREATED: 1>, created=datetime.datetime(2024, 2, 25, 17, 35, 33, 162363), updated=datetime.datetime(2024, 2, 25, 17, 35, 33, 179041), listed=datetime.datetime(2024, 2, 25, 17, 35, 33, 179041)), Order(id=9, order_type=<OrderType.ASK: 'ask'>, price=109.31669821034393, volume=23, owner_id=4, status=<OrderStatus.CREATED: 1>, created=datetime.datetime(2024, 2, 25, 17, 35, 33, 162363), updated=datetime.datetime(2024, 2, 25, 17, 35, 33, 179041), listed=datetime.datetime(2024, 2, 25, 17, 35, 33, 179041))])"
      ]
     },
     "execution_count": 7,
     "metadata": {},
     "output_type": "execute_result"
    }
   ],
   "source": [
    "order_list = OrderList(order_type=OrderType.ASK, order_list=orders)\n",
    "order_list"
   ]
  },
  {
   "cell_type": "markdown",
   "metadata": {},
   "source": [
    "### wrong order"
   ]
  },
  {
   "cell_type": "code",
   "execution_count": 8,
   "metadata": {},
   "outputs": [
    {
     "ename": "ValueError",
     "evalue": "Order type must be the same as the list type",
     "output_type": "error",
     "traceback": [
      "\u001b[1;31m---------------------------------------------------------------------------\u001b[0m",
      "\u001b[1;31mValueError\u001b[0m                                Traceback (most recent call last)",
      "Cell \u001b[1;32mIn[8], line 8\u001b[0m\n\u001b[0;32m      1\u001b[0m wrong_order \u001b[38;5;241m=\u001b[39m Order(\n\u001b[0;32m      2\u001b[0m     \u001b[38;5;28mid\u001b[39m\u001b[38;5;241m=\u001b[39m\u001b[38;5;241m100\u001b[39m,\n\u001b[0;32m      3\u001b[0m     order_type\u001b[38;5;241m=\u001b[39mOrderType\u001b[38;5;241m.\u001b[39mBID,\n\u001b[1;32m   (...)\u001b[0m\n\u001b[0;32m      6\u001b[0m     owner_id\u001b[38;5;241m=\u001b[39m\u001b[38;5;241m1\u001b[39m,\n\u001b[0;32m      7\u001b[0m )\n\u001b[1;32m----> 8\u001b[0m \u001b[43morder_list\u001b[49m\u001b[38;5;241;43m.\u001b[39;49m\u001b[43madd\u001b[49m\u001b[43m(\u001b[49m\u001b[43mwrong_order\u001b[49m\u001b[43m)\u001b[49m\n\u001b[0;32m      9\u001b[0m \u001b[38;5;66;03m# error\u001b[39;00m\n",
      "Cell \u001b[1;32mIn[4], line 122\u001b[0m, in \u001b[0;36mOrderList.add\u001b[1;34m(self, order, tolist)\u001b[0m\n\u001b[0;32m    111\u001b[0m \u001b[38;5;250m\u001b[39m\u001b[38;5;124;03m\"\"\"\u001b[39;00m\n\u001b[0;32m    112\u001b[0m \u001b[38;5;124;03mAdds an order to the collection. The order is only added to the sorted list if it meets the criteria defined by the 'tolist' parameter. By default ('auto'), active orders are added to the sorted list.\u001b[39;00m\n\u001b[0;32m    113\u001b[0m \n\u001b[1;32m   (...)\u001b[0m\n\u001b[0;32m    119\u001b[0m \u001b[38;5;124;03m:raises ValueError: If 'tolist' is given an invalid value.\u001b[39;00m\n\u001b[0;32m    120\u001b[0m \u001b[38;5;124;03m\"\"\"\u001b[39;00m\n\u001b[0;32m    121\u001b[0m \u001b[38;5;28;01mif\u001b[39;00m order\u001b[38;5;241m.\u001b[39morder_type \u001b[38;5;241m!=\u001b[39m \u001b[38;5;28mself\u001b[39m\u001b[38;5;241m.\u001b[39motype:\n\u001b[1;32m--> 122\u001b[0m     \u001b[38;5;28;01mraise\u001b[39;00m \u001b[38;5;167;01mValueError\u001b[39;00m(\u001b[38;5;124m\"\u001b[39m\u001b[38;5;124mOrder type must be the same as the list type\u001b[39m\u001b[38;5;124m\"\u001b[39m)\n\u001b[0;32m    123\u001b[0m \u001b[38;5;28;01mif\u001b[39;00m tolist \u001b[38;5;241m==\u001b[39m \u001b[38;5;124m\"\u001b[39m\u001b[38;5;124mauto\u001b[39m\u001b[38;5;124m\"\u001b[39m:\n\u001b[0;32m    124\u001b[0m     \u001b[38;5;28;01mif\u001b[39;00m order\u001b[38;5;241m.\u001b[39mstatus\u001b[38;5;241m.\u001b[39mis_active:\n",
      "\u001b[1;31mValueError\u001b[0m: Order type must be the same as the list type"
     ]
    }
   ],
   "source": [
    "wrong_order = Order(\n",
    "    id=100,\n",
    "    order_type=OrderType.BID,\n",
    "    price=100,\n",
    "    volume=100,\n",
    "    owner_id=1,\n",
    ")\n",
    "order_list.add(wrong_order)\n",
    "# error"
   ]
  },
  {
   "cell_type": "markdown",
   "metadata": {},
   "source": [
    "### remove, unlist, relist"
   ]
  },
  {
   "cell_type": "code",
   "execution_count": null,
   "metadata": {},
   "outputs": [
    {
     "name": "stdout",
     "output_type": "stream",
     "text": [
      "18\n"
     ]
    },
    {
     "ename": "KeyError",
     "evalue": "18",
     "output_type": "error",
     "traceback": [
      "\u001b[1;31m---------------------------------------------------------------------------\u001b[0m",
      "\u001b[1;31mKeyError\u001b[0m                                  Traceback (most recent call last)",
      "Cell \u001b[1;32mIn[65], line 5\u001b[0m\n\u001b[0;32m      3\u001b[0m \u001b[38;5;28mprint\u001b[39m(random_order\u001b[38;5;241m.\u001b[39mid)\n\u001b[0;32m      4\u001b[0m order_list\u001b[38;5;241m.\u001b[39mremove(random_order)\n\u001b[1;32m----> 5\u001b[0m \u001b[43morder_list\u001b[49m\u001b[43m[\u001b[49m\u001b[43mrandom_order\u001b[49m\u001b[38;5;241;43m.\u001b[39;49m\u001b[43mid\u001b[49m\u001b[43m]\u001b[49m\n\u001b[0;32m      6\u001b[0m \u001b[38;5;66;03m# error\u001b[39;00m\n",
      "Cell \u001b[1;32mIn[60], line 305\u001b[0m, in \u001b[0;36mOrderList.__getitem__\u001b[1;34m(self, order_id)\u001b[0m\n\u001b[0;32m    304\u001b[0m \u001b[38;5;28;01mdef\u001b[39;00m \u001b[38;5;21m__getitem__\u001b[39m(\u001b[38;5;28mself\u001b[39m, order_id):\n\u001b[1;32m--> 305\u001b[0m     \u001b[38;5;28;01mreturn\u001b[39;00m \u001b[38;5;28;43mself\u001b[39;49m\u001b[38;5;241;43m.\u001b[39;49m\u001b[43m__ids\u001b[49m\u001b[43m[\u001b[49m\u001b[43morder_id\u001b[49m\u001b[43m]\u001b[49m\n",
      "\u001b[1;31mKeyError\u001b[0m: 18"
     ]
    }
   ],
   "source": [
    "random_order = random.choice(orders)\n",
    "\n",
    "print(random_order.id)\n",
    "order_list.remove(random_order)\n",
    "order_list[random_order.id]\n",
    "# error"
   ]
  },
  {
   "cell_type": "code",
   "execution_count": null,
   "metadata": {},
   "outputs": [
    {
     "name": "stdout",
     "output_type": "stream",
     "text": [
      "6\n",
      "id=6 order_type=<OrderType.ASK: 'ask'> price=101.70131585168942 volume=32 owner_id=4 status=<OrderStatus.FILLED: 3> created=datetime.datetime(2024, 2, 24, 20, 20, 15, 187257) updated=datetime.datetime(2024, 2, 24, 20, 20, 15, 970819) listed=datetime.datetime(2024, 2, 24, 20, 20, 15, 275008)\n",
      "id=6 order_type=<OrderType.ASK: 'ask'> price=101.70131585168942 volume=32 owner_id=4 status=<OrderStatus.RESTORED: 6> created=datetime.datetime(2024, 2, 24, 20, 20, 15, 187257) updated=datetime.datetime(2024, 2, 24, 20, 20, 15, 971817) listed=datetime.datetime(2024, 2, 24, 20, 20, 15, 971817)\n",
      "id=6 order_type=<OrderType.ASK: 'ask'> price=101.70131585168942 volume=32 owner_id=4 status=<OrderStatus.EXPIRED: 7> created=datetime.datetime(2024, 2, 24, 20, 20, 15, 187257) updated=datetime.datetime(2024, 2, 24, 20, 20, 15, 971817) listed=datetime.datetime(2024, 2, 24, 20, 20, 15, 971817)\n",
      "id=6 order_type=<OrderType.ASK: 'ask'> price=101.70131585168942 volume=32 owner_id=4 status=<OrderStatus.CANCELLED: 5> created=datetime.datetime(2024, 2, 24, 20, 20, 15, 187257) updated=datetime.datetime(2024, 2, 24, 20, 20, 15, 971817) listed=datetime.datetime(2024, 2, 24, 20, 20, 15, 971817)\n"
     ]
    },
    {
     "ename": "ValueError",
     "evalue": "Order is not active.",
     "output_type": "error",
     "traceback": [
      "\u001b[1;31m---------------------------------------------------------------------------\u001b[0m",
      "\u001b[1;31mValueError\u001b[0m                                Traceback (most recent call last)",
      "Cell \u001b[1;32mIn[83], line 16\u001b[0m\n\u001b[0;32m     14\u001b[0m order_list\u001b[38;5;241m.\u001b[39mcancel(random_order)\n\u001b[0;32m     15\u001b[0m \u001b[38;5;28mprint\u001b[39m(order_list[random_order\u001b[38;5;241m.\u001b[39mid])\n\u001b[1;32m---> 16\u001b[0m \u001b[43morder_list\u001b[49m\u001b[38;5;241;43m.\u001b[39;49m\u001b[43mcancel\u001b[49m\u001b[43m(\u001b[49m\u001b[43mrandom_order\u001b[49m\u001b[43m)\u001b[49m\n\u001b[0;32m     17\u001b[0m \u001b[38;5;66;03m# error order is already canceled\u001b[39;00m\n",
      "Cell \u001b[1;32mIn[78], line 245\u001b[0m, in \u001b[0;36mOrderList.cancel\u001b[1;34m(self, order)\u001b[0m\n\u001b[0;32m    243\u001b[0m     \u001b[38;5;28;01mraise\u001b[39;00m \u001b[38;5;167;01mValueError\u001b[39;00m(\u001b[38;5;124m\"\u001b[39m\u001b[38;5;124mInvalid order type\u001b[39m\u001b[38;5;124m\"\u001b[39m)\n\u001b[0;32m    244\u001b[0m \u001b[38;5;28;01mif\u001b[39;00m \u001b[38;5;129;01mnot\u001b[39;00m order\u001b[38;5;241m.\u001b[39mstatus\u001b[38;5;241m.\u001b[39mis_active:\n\u001b[1;32m--> 245\u001b[0m     \u001b[38;5;28;01mraise\u001b[39;00m \u001b[38;5;167;01mValueError\u001b[39;00m(\u001b[38;5;124m\"\u001b[39m\u001b[38;5;124mOrder is not active.\u001b[39m\u001b[38;5;124m\"\u001b[39m)\n\u001b[0;32m    246\u001b[0m \u001b[38;5;28mself\u001b[39m\u001b[38;5;241m.\u001b[39m__order_list\u001b[38;5;241m.\u001b[39mremove(order)\n\u001b[0;32m    247\u001b[0m order\u001b[38;5;241m.\u001b[39mstatus \u001b[38;5;241m=\u001b[39m OrderStatus\u001b[38;5;241m.\u001b[39mCANCELLED\n",
      "\u001b[1;31mValueError\u001b[0m: Order is not active."
     ]
    }
   ],
   "source": [
    "random_order = random.choice(orders)\n",
    "\n",
    "print(random_order.id)\n",
    "order_list.unlist(random_order, OrderStatus.FILLED)\n",
    "print(order_list[random_order.id])\n",
    "# inactive\n",
    "order_list.relist(random_order)\n",
    "print(order_list[random_order.id])\n",
    "# active\n",
    "order_list.expire(random_order)\n",
    "print(order_list[random_order.id])\n",
    "# expired\n",
    "order_list.relist(random_order)\n",
    "order_list.cancel(random_order)\n",
    "print(order_list[random_order.id])\n",
    "order_list.cancel(random_order)\n",
    "# error order is already canceled\n"
   ]
  },
  {
   "cell_type": "code",
   "execution_count": null,
   "metadata": {},
   "outputs": [
    {
     "ename": "ValueError",
     "evalue": "Order cannot be unlisted with active status.",
     "output_type": "error",
     "traceback": [
      "\u001b[1;31m---------------------------------------------------------------------------\u001b[0m",
      "\u001b[1;31mValueError\u001b[0m                                Traceback (most recent call last)",
      "Cell \u001b[1;32mIn[84], line 2\u001b[0m\n\u001b[0;32m      1\u001b[0m order_list\u001b[38;5;241m.\u001b[39mrelist(random_order)\n\u001b[1;32m----> 2\u001b[0m \u001b[43morder_list\u001b[49m\u001b[38;5;241;43m.\u001b[39;49m\u001b[43munlist\u001b[49m\u001b[43m(\u001b[49m\u001b[43mrandom_order\u001b[49m\u001b[43m,\u001b[49m\u001b[43m \u001b[49m\u001b[43mOrderStatus\u001b[49m\u001b[38;5;241;43m.\u001b[39;49m\u001b[43mPARTIALLY_FILLED\u001b[49m\u001b[43m)\u001b[49m\n\u001b[0;32m      3\u001b[0m \u001b[38;5;66;03m# error\u001b[39;00m\n",
      "Cell \u001b[1;32mIn[78], line 188\u001b[0m, in \u001b[0;36mOrderList.unlist\u001b[1;34m(self, order, order_status)\u001b[0m\n\u001b[0;32m    186\u001b[0m     \u001b[38;5;28;01mraise\u001b[39;00m \u001b[38;5;167;01mValueError\u001b[39;00m(\u001b[38;5;124m\"\u001b[39m\u001b[38;5;124mOrder is not active.\u001b[39m\u001b[38;5;124m\"\u001b[39m)\n\u001b[0;32m    187\u001b[0m \u001b[38;5;28;01mif\u001b[39;00m order_status\u001b[38;5;241m.\u001b[39mis_active:\n\u001b[1;32m--> 188\u001b[0m     \u001b[38;5;28;01mraise\u001b[39;00m \u001b[38;5;167;01mValueError\u001b[39;00m(\u001b[38;5;124m\"\u001b[39m\u001b[38;5;124mOrder cannot be unlisted with active status.\u001b[39m\u001b[38;5;124m\"\u001b[39m)\n\u001b[0;32m    189\u001b[0m \u001b[38;5;28mself\u001b[39m\u001b[38;5;241m.\u001b[39m__order_list\u001b[38;5;241m.\u001b[39mremove(order)\n\u001b[0;32m    190\u001b[0m order\u001b[38;5;241m.\u001b[39mstatus \u001b[38;5;241m=\u001b[39m order_status\n",
      "\u001b[1;31mValueError\u001b[0m: Order cannot be unlisted with active status."
     ]
    }
   ],
   "source": [
    "order_list.relist(random_order)\n",
    "order_list.unlist(random_order, OrderStatus.PARTIALLY_FILLED)\n",
    "# error"
   ]
  },
  {
   "cell_type": "markdown",
   "metadata": {},
   "source": [
    "### filling "
   ]
  },
  {
   "cell_type": "code",
   "execution_count": null,
   "metadata": {},
   "outputs": [
    {
     "name": "stdout",
     "output_type": "stream",
     "text": [
      "id=16 order_type=<OrderType.ASK: 'ask'> price=96.4238155325062 volume=30 owner_id=3 status=<OrderStatus.CREATED: 1> created=datetime.datetime(2024, 2, 24, 20, 20, 15, 188255) updated=datetime.datetime(2024, 2, 24, 20, 20, 15, 275008) listed=datetime.datetime(2024, 2, 24, 20, 20, 15, 275008)\n",
      "id=16 order_type=<OrderType.ASK: 'ask'> price=96.4238155325062 volume=20 owner_id=3 status=<OrderStatus.PARTIALLY_FILLED: 2> created=datetime.datetime(2024, 2, 24, 20, 20, 15, 188255) updated=datetime.datetime(2024, 2, 24, 20, 20, 16, 842710) listed=datetime.datetime(2024, 2, 24, 20, 20, 15, 275008)\n"
     ]
    }
   ],
   "source": [
    "random_order = random.choice(orders)\n",
    "print(random_order)\n",
    "order_list.fill(random_order, 10)\n",
    "print(order_list[random_order.id])"
   ]
  },
  {
   "cell_type": "code",
   "execution_count": null,
   "metadata": {},
   "outputs": [
    {
     "ename": "ValueError",
     "evalue": "Volume is greater than order volume",
     "output_type": "error",
     "traceback": [
      "\u001b[1;31m---------------------------------------------------------------------------\u001b[0m",
      "\u001b[1;31mValueError\u001b[0m                                Traceback (most recent call last)",
      "Cell \u001b[1;32mIn[86], line 1\u001b[0m\n\u001b[1;32m----> 1\u001b[0m \u001b[43morder_list\u001b[49m\u001b[38;5;241;43m.\u001b[39;49m\u001b[43mfill\u001b[49m\u001b[43m(\u001b[49m\u001b[43mrandom_order\u001b[49m\u001b[43m,\u001b[49m\u001b[43m \u001b[49m\u001b[43mrandom_order\u001b[49m\u001b[38;5;241;43m.\u001b[39;49m\u001b[43mvolume\u001b[49m\u001b[43m \u001b[49m\u001b[38;5;241;43m+\u001b[39;49m\u001b[43m \u001b[49m\u001b[38;5;241;43m10\u001b[39;49m\u001b[43m)\u001b[49m\n\u001b[0;32m      2\u001b[0m \u001b[38;5;66;03m# error\u001b[39;00m\n",
      "Cell \u001b[1;32mIn[78], line 261\u001b[0m, in \u001b[0;36mOrderList.fill\u001b[1;34m(self, order, volume)\u001b[0m\n\u001b[0;32m    259\u001b[0m     \u001b[38;5;28;01mraise\u001b[39;00m \u001b[38;5;167;01mValueError\u001b[39;00m(\u001b[38;5;124m\"\u001b[39m\u001b[38;5;124mOrder is not active.\u001b[39m\u001b[38;5;124m\"\u001b[39m)\n\u001b[0;32m    260\u001b[0m \u001b[38;5;28;01mif\u001b[39;00m volume \u001b[38;5;241m>\u001b[39m order\u001b[38;5;241m.\u001b[39mvolume:\n\u001b[1;32m--> 261\u001b[0m     \u001b[38;5;28;01mraise\u001b[39;00m \u001b[38;5;167;01mValueError\u001b[39;00m(\u001b[38;5;124m\"\u001b[39m\u001b[38;5;124mVolume is greater than order volume\u001b[39m\u001b[38;5;124m\"\u001b[39m)\n\u001b[0;32m    262\u001b[0m order\u001b[38;5;241m.\u001b[39mvolume \u001b[38;5;241m-\u001b[39m\u001b[38;5;241m=\u001b[39m volume\n\u001b[0;32m    263\u001b[0m \u001b[38;5;28;01mif\u001b[39;00m order\u001b[38;5;241m.\u001b[39mvolume \u001b[38;5;241m==\u001b[39m \u001b[38;5;241m0\u001b[39m:\n",
      "\u001b[1;31mValueError\u001b[0m: Volume is greater than order volume"
     ]
    }
   ],
   "source": [
    "order_list.fill(random_order, random_order.volume + 10)\n",
    "# error"
   ]
  },
  {
   "cell_type": "code",
   "execution_count": null,
   "metadata": {},
   "outputs": [
    {
     "ename": "ValueError",
     "evalue": "Volume must be positive",
     "output_type": "error",
     "traceback": [
      "\u001b[1;31m---------------------------------------------------------------------------\u001b[0m",
      "\u001b[1;31mValueError\u001b[0m                                Traceback (most recent call last)",
      "Cell \u001b[1;32mIn[87], line 1\u001b[0m\n\u001b[1;32m----> 1\u001b[0m \u001b[43morder_list\u001b[49m\u001b[38;5;241;43m.\u001b[39;49m\u001b[43mfill\u001b[49m\u001b[43m(\u001b[49m\u001b[43mrandom_order\u001b[49m\u001b[43m,\u001b[49m\u001b[43m \u001b[49m\u001b[38;5;241;43m-\u001b[39;49m\u001b[38;5;241;43m11\u001b[39;49m\u001b[43m)\u001b[49m\n\u001b[0;32m      2\u001b[0m \u001b[38;5;66;03m# error\u001b[39;00m\n",
      "Cell \u001b[1;32mIn[78], line 251\u001b[0m, in \u001b[0;36mOrderList.fill\u001b[1;34m(self, order, volume)\u001b[0m\n\u001b[0;32m    249\u001b[0m \u001b[38;5;28;01mdef\u001b[39;00m \u001b[38;5;21mfill\u001b[39m(\u001b[38;5;28mself\u001b[39m, order: Union[Order, \u001b[38;5;28mint\u001b[39m], volume: \u001b[38;5;28mint\u001b[39m) \u001b[38;5;241m-\u001b[39m\u001b[38;5;241m>\u001b[39m \u001b[38;5;28;01mNone\u001b[39;00m:\n\u001b[0;32m    250\u001b[0m     \u001b[38;5;28;01mif\u001b[39;00m volume \u001b[38;5;241m<\u001b[39m\u001b[38;5;241m=\u001b[39m \u001b[38;5;241m0\u001b[39m:\n\u001b[1;32m--> 251\u001b[0m         \u001b[38;5;28;01mraise\u001b[39;00m \u001b[38;5;167;01mValueError\u001b[39;00m(\u001b[38;5;124m\"\u001b[39m\u001b[38;5;124mVolume must be positive\u001b[39m\u001b[38;5;124m\"\u001b[39m)\n\u001b[0;32m    252\u001b[0m     \u001b[38;5;28;01mif\u001b[39;00m \u001b[38;5;28misinstance\u001b[39m(order, \u001b[38;5;28mint\u001b[39m):\n\u001b[0;32m    253\u001b[0m         order \u001b[38;5;241m=\u001b[39m \u001b[38;5;28mself\u001b[39m\u001b[38;5;241m.\u001b[39m__ids\u001b[38;5;241m.\u001b[39mget(order)\n",
      "\u001b[1;31mValueError\u001b[0m: Volume must be positive"
     ]
    }
   ],
   "source": [
    "order_list.fill(random_order, -11)\n",
    "# error"
   ]
  },
  {
   "cell_type": "code",
   "execution_count": null,
   "metadata": {},
   "outputs": [
    {
     "data": {
      "text/plain": [
       "Order(id=2, order_type=<OrderType.ASK: 'ask'>, price=100.66665333771964, volume=0, owner_id=10, status=<OrderStatus.FILLED: 3>, created=datetime.datetime(2024, 2, 24, 20, 20, 15, 187257), updated=datetime.datetime(2024, 2, 24, 20, 20, 17, 331215), listed=datetime.datetime(2024, 2, 24, 20, 20, 15, 275008))"
      ]
     },
     "execution_count": 88,
     "metadata": {},
     "output_type": "execute_result"
    }
   ],
   "source": [
    "random_order = random.choice(orders)\n",
    "order_list.fill(random_order, random_order.volume)\n",
    "# filled order will be unlisted\n",
    "order_list[random_order.id]"
   ]
  },
  {
   "cell_type": "code",
   "execution_count": null,
   "metadata": {},
   "outputs": [
    {
     "data": {
      "text/plain": [
       "[Order(id=3, order_type=<OrderType.ASK: 'ask'>, price=100.02901457203792, volume=36, owner_id=6, status=<OrderStatus.CREATED: 1>, created=datetime.datetime(2024, 2, 24, 20, 20, 15, 187257), updated=datetime.datetime(2024, 2, 24, 20, 20, 15, 275008), listed=datetime.datetime(2024, 2, 24, 20, 20, 15, 275008)),\n",
       " Order(id=18, order_type=<OrderType.ASK: 'ask'>, price=101.14021182702777, volume=44, owner_id=2, status=<OrderStatus.CREATED: 1>, created=datetime.datetime(2024, 2, 24, 20, 20, 15, 188255), updated=datetime.datetime(2024, 2, 24, 20, 20, 15, 275008), listed=datetime.datetime(2024, 2, 24, 20, 20, 15, 275008)),\n",
       " Order(id=8, order_type=<OrderType.ASK: 'ask'>, price=101.65510958678865, volume=52, owner_id=2, status=<OrderStatus.CREATED: 1>, created=datetime.datetime(2024, 2, 24, 20, 20, 15, 187257), updated=datetime.datetime(2024, 2, 24, 20, 20, 15, 275008), listed=datetime.datetime(2024, 2, 24, 20, 20, 15, 275008)),\n",
       " Order(id=6, order_type=<OrderType.ASK: 'ask'>, price=101.70131585168942, volume=32, owner_id=4, status=<OrderStatus.RESTORED: 6>, created=datetime.datetime(2024, 2, 24, 20, 20, 15, 187257), updated=datetime.datetime(2024, 2, 24, 20, 20, 16, 408807), listed=datetime.datetime(2024, 2, 24, 20, 20, 16, 408807)),\n",
       " Order(id=12, order_type=<OrderType.ASK: 'ask'>, price=101.96934616151468, volume=70, owner_id=3, status=<OrderStatus.CREATED: 1>, created=datetime.datetime(2024, 2, 24, 20, 20, 15, 187257), updated=datetime.datetime(2024, 2, 24, 20, 20, 15, 275008), listed=datetime.datetime(2024, 2, 24, 20, 20, 15, 275008)),\n",
       " Order(id=7, order_type=<OrderType.ASK: 'ask'>, price=102.27475537353095, volume=10, owner_id=7, status=<OrderStatus.CREATED: 1>, created=datetime.datetime(2024, 2, 24, 20, 20, 15, 187257), updated=datetime.datetime(2024, 2, 24, 20, 20, 15, 275008), listed=datetime.datetime(2024, 2, 24, 20, 20, 15, 275008)),\n",
       " Order(id=10, order_type=<OrderType.ASK: 'ask'>, price=102.94171056175085, volume=66, owner_id=9, status=<OrderStatus.CREATED: 1>, created=datetime.datetime(2024, 2, 24, 20, 20, 15, 187257), updated=datetime.datetime(2024, 2, 24, 20, 20, 15, 275008), listed=datetime.datetime(2024, 2, 24, 20, 20, 15, 275008)),\n",
       " Order(id=14, order_type=<OrderType.ASK: 'ask'>, price=103.01879798653795, volume=19, owner_id=1, status=<OrderStatus.CREATED: 1>, created=datetime.datetime(2024, 2, 24, 20, 20, 15, 188255), updated=datetime.datetime(2024, 2, 24, 20, 20, 15, 275008), listed=datetime.datetime(2024, 2, 24, 20, 20, 15, 275008)),\n",
       " Order(id=15, order_type=<OrderType.ASK: 'ask'>, price=103.60972534706278, volume=34, owner_id=10, status=<OrderStatus.CREATED: 1>, created=datetime.datetime(2024, 2, 24, 20, 20, 15, 188255), updated=datetime.datetime(2024, 2, 24, 20, 20, 15, 275008), listed=datetime.datetime(2024, 2, 24, 20, 20, 15, 275008)),\n",
       " Order(id=5, order_type=<OrderType.ASK: 'ask'>, price=103.61615791342462, volume=14, owner_id=8, status=<OrderStatus.CREATED: 1>, created=datetime.datetime(2024, 2, 24, 20, 20, 15, 187257), updated=datetime.datetime(2024, 2, 24, 20, 20, 15, 275008), listed=datetime.datetime(2024, 2, 24, 20, 20, 15, 275008)),\n",
       " Order(id=17, order_type=<OrderType.ASK: 'ask'>, price=104.44722128177636, volume=25, owner_id=10, status=<OrderStatus.CREATED: 1>, created=datetime.datetime(2024, 2, 24, 20, 20, 15, 188255), updated=datetime.datetime(2024, 2, 24, 20, 20, 15, 275008), listed=datetime.datetime(2024, 2, 24, 20, 20, 15, 275008)),\n",
       " Order(id=19, order_type=<OrderType.ASK: 'ask'>, price=105.75253282969051, volume=32, owner_id=8, status=<OrderStatus.CREATED: 1>, created=datetime.datetime(2024, 2, 24, 20, 20, 15, 188255), updated=datetime.datetime(2024, 2, 24, 20, 20, 15, 275008), listed=datetime.datetime(2024, 2, 24, 20, 20, 15, 275008)),\n",
       " Order(id=9, order_type=<OrderType.ASK: 'ask'>, price=105.94469919086532, volume=44, owner_id=3, status=<OrderStatus.CREATED: 1>, created=datetime.datetime(2024, 2, 24, 20, 20, 15, 187257), updated=datetime.datetime(2024, 2, 24, 20, 20, 15, 275008), listed=datetime.datetime(2024, 2, 24, 20, 20, 15, 275008)),\n",
       " Order(id=13, order_type=<OrderType.ASK: 'ask'>, price=106.35669675788033, volume=34, owner_id=3, status=<OrderStatus.CREATED: 1>, created=datetime.datetime(2024, 2, 24, 20, 20, 15, 187257), updated=datetime.datetime(2024, 2, 24, 20, 20, 15, 275008), listed=datetime.datetime(2024, 2, 24, 20, 20, 15, 275008)),\n",
       " Order(id=4, order_type=<OrderType.ASK: 'ask'>, price=107.3898071650771, volume=57, owner_id=10, status=<OrderStatus.CREATED: 1>, created=datetime.datetime(2024, 2, 24, 20, 20, 15, 187257), updated=datetime.datetime(2024, 2, 24, 20, 20, 15, 275008), listed=datetime.datetime(2024, 2, 24, 20, 20, 15, 275008))]"
      ]
     },
     "execution_count": 89,
     "metadata": {},
     "output_type": "execute_result"
    }
   ],
   "source": [
    "order_list.bisect_left(100)"
   ]
  },
  {
   "cell_type": "markdown",
   "metadata": {},
   "source": [
    "### modify tests"
   ]
  },
  {
   "cell_type": "code",
   "execution_count": null,
   "metadata": {},
   "outputs": [
    {
     "name": "stdout",
     "output_type": "stream",
     "text": [
      "19\n"
     ]
    },
    {
     "data": {
      "text/plain": [
       "SortedList([])"
      ]
     },
     "execution_count": 90,
     "metadata": {},
     "output_type": "execute_result"
    }
   ],
   "source": [
    "print(len(order_list))\n",
    "order_list.clear()\n",
    "order_list"
   ]
  },
  {
   "cell_type": "code",
   "execution_count": null,
   "metadata": {},
   "outputs": [
    {
     "name": "stdout",
     "output_type": "stream",
     "text": [
      "3\n",
      "id=1 order_type=<OrderType.BID: 'bid'> price=98.9423934225989 volume=47 owner_id=5 status=<OrderStatus.CREATED: 1> created=datetime.datetime(2024, 2, 24, 20, 20, 19, 32659) updated=datetime.datetime(2024, 2, 24, 20, 20, 19, 32659) listed=datetime.datetime(2024, 2, 24, 20, 20, 19, 32659)\n",
      "id=3 order_type=<OrderType.BID: 'bid'> price=104.28419556843376 volume=18 owner_id=10 status=<OrderStatus.CREATED: 1> created=datetime.datetime(2024, 2, 24, 20, 20, 19, 32659) updated=datetime.datetime(2024, 2, 24, 20, 20, 19, 32659) listed=datetime.datetime(2024, 2, 24, 20, 20, 19, 32659)\n",
      "id=2 order_type=<OrderType.BID: 'bid'> price=107.0168944192405 volume=65 owner_id=9 status=<OrderStatus.CREATED: 1> created=datetime.datetime(2024, 2, 24, 20, 20, 19, 32659) updated=datetime.datetime(2024, 2, 24, 20, 20, 19, 32659) listed=datetime.datetime(2024, 2, 24, 20, 20, 19, 32659)\n"
     ]
    }
   ],
   "source": [
    "orders = []\n",
    "order_list = OrderList(order_type=OrderType.BID)\n",
    "for i in range(3):\n",
    "    orders.append(\n",
    "        Order(\n",
    "            id=i+1,\n",
    "            order_type=OrderType.BID,\n",
    "            price=random.uniform(95, 110),\n",
    "            volume=random.randint(10, 70),\n",
    "            owner_id=random.randint(1, 10),\n",
    "        )\n",
    "    )\n",
    "for order in orders:\n",
    "    order_list.add(order)\n",
    "print(len(order_list))\n",
    "\n",
    "for order in order_list:\n",
    "    print(order)"
   ]
  },
  {
   "cell_type": "code",
   "execution_count": null,
   "metadata": {},
   "outputs": [
    {
     "name": "stdout",
     "output_type": "stream",
     "text": [
      "1\n",
      "id=1 order_type=<OrderType.BID: 'bid'> price=100 volume=100 owner_id=5 status=<OrderStatus.MODIFIED: 4> created=datetime.datetime(2024, 2, 24, 20, 20, 19, 32659) updated=datetime.datetime(2024, 2, 24, 20, 20, 19, 800212) listed=datetime.datetime(2024, 2, 24, 20, 20, 19, 32659)\n",
      "id=3 order_type=<OrderType.BID: 'bid'> price=104.28419556843376 volume=18 owner_id=10 status=<OrderStatus.CREATED: 1> created=datetime.datetime(2024, 2, 24, 20, 20, 19, 32659) updated=datetime.datetime(2024, 2, 24, 20, 20, 19, 32659) listed=datetime.datetime(2024, 2, 24, 20, 20, 19, 32659)\n",
      "id=2 order_type=<OrderType.BID: 'bid'> price=107.0168944192405 volume=65 owner_id=9 status=<OrderStatus.CREATED: 1> created=datetime.datetime(2024, 2, 24, 20, 20, 19, 32659) updated=datetime.datetime(2024, 2, 24, 20, 20, 19, 32659) listed=datetime.datetime(2024, 2, 24, 20, 20, 19, 32659)\n"
     ]
    }
   ],
   "source": [
    "random_order = random.choice(orders)\n",
    "print(random_order.id)\n",
    "order_list.modify(random_order.id, price=100, volume=100)\n",
    "\n",
    "for order in order_list:\n",
    "    print(order)"
   ]
  },
  {
   "cell_type": "code",
   "execution_count": null,
   "metadata": {},
   "outputs": [
    {
     "data": {
      "text/plain": [
       "Order(id=1, order_type=<OrderType.BID: 'bid'>, price=100, volume=100, owner_id=5, status=<OrderStatus.MODIFIED: 4>, created=datetime.datetime(2024, 2, 24, 20, 20, 19, 32659), updated=datetime.datetime(2024, 2, 24, 20, 20, 19, 800212), listed=datetime.datetime(2024, 2, 24, 20, 20, 19, 32659))"
      ]
     },
     "execution_count": 94,
     "metadata": {},
     "output_type": "execute_result"
    }
   ],
   "source": []
  },
  {
   "cell_type": "markdown",
   "metadata": {},
   "source": [
    "# order book\n"
   ]
  },
  {
   "cell_type": "code",
   "execution_count": 19,
   "metadata": {},
   "outputs": [],
   "source": [
    "from datetime import datetime\n",
    "from typing import List, Optional, Union\n",
    "\n",
    "# from structures import OrderList, OrderStatus, Order, OrderType\n",
    "\n",
    "\n",
    "class OrderBook:\n",
    "    \"\"\"\n",
    "    Represents a limit order book that stores and manages buy and sell orders.\n",
    "\n",
    "    Attributes:\n",
    "        ask (OrderList): The list of ask orders (sell orders).\n",
    "        bid (OrderList): The list of bid orders (buy orders).\n",
    "        order_sources (dict): A dictionary mapping order types to their respective order lists.\n",
    "        tape (list): A list of filled orders with their details.\n",
    "\n",
    "    Methods:\n",
    "        add(order: Order) -> None: Adds a new order to the order book.\n",
    "        match(order: Order) -> List[Order]: Matches an order with counter orders.\n",
    "        fill(order: Order, counter_orders: List[Order]) -> None: Fills an order with counter orders.\n",
    "        match_fill(order: Order) -> None: Matches and fills an order.\n",
    "        get_order(order: Union[int, Order], order_type: OrderType) -> Optional[Order]: Retrieves an order from the order book.\n",
    "        search_order(order: Union[Order, int], order_type: Optional[OrderType] = None): Searches for an order in the order book.\n",
    "        cancel(order: Union[Order, int], order_type: Optional[OrderType] = None): Cancels an order.\n",
    "        expire(order: Union[Order, int], order_type: Optional[OrderType] = None): Expires an order.\n",
    "        restore(order: Union[Order, int], order_type: Optional[OrderType] = None): Restores a cancelled or expired order.\n",
    "        remove_order(order: Union[Order, int], order_type: Optional[OrderType] = None): Removes an order from the order book.\n",
    "        modify(order: Union[Order, int], order_type: Optional[OrderType] = None, price: Optional[float] = None, volume: Optional[float] = None): Modifies an order's price or volume.\n",
    "        proceede() -> List[dict]: Retrieves the filled orders from the order book and clears the tape.\n",
    "\n",
    "    \"\"\"\n",
    "\n",
    "    def __init__(self):\n",
    "\n",
    "        self.ask = OrderList(order_type=OrderType.ASK)\n",
    "        self.bid = OrderList(order_type=OrderType.BID)\n",
    "        self.order_sources = {OrderType.ASK: self.ask, OrderType.BID: self.bid}\n",
    "        self.tape = []\n",
    "\n",
    "    def add(self, order_: Order) -> None:\n",
    "        \"\"\"\n",
    "        Adds an order to the order book and matches/fills the order if possible.\n",
    "\n",
    "        :param order_: The order to be added.\n",
    "        :type order_: Order\n",
    "        \"\"\"\n",
    "        order_.listed = datetime.now()\n",
    "        self.order_sources[order_.order_type].add(order_)\n",
    "        self.match_fill(order_)\n",
    "\n",
    "    def match(self, order_: Order) -> List[Order]:\n",
    "        \"\"\"\n",
    "        Matches the given order with the corresponding orders in the order book.\n",
    "\n",
    "        :param order_: The order to be matched.\n",
    "        :type order_: Order\n",
    "        :return: A list of matched orders.\n",
    "        :rtype: List[Order]\n",
    "        \"\"\"\n",
    "        matched = []\n",
    "        if order_.order_type == OrderType.ASK:\n",
    "            matched = self.bid.bisect_left(order_)\n",
    "        else:\n",
    "            matched = self.ask.bisect_right(order_)\n",
    "        matched.sort(key=lambda x: x.listed)\n",
    "        return matched\n",
    "\n",
    "    def fill(self, order_: Order, counter_orders: List[Order]) -> None:\n",
    "        \"\"\"\n",
    "        Fills the given order with the counter orders.\n",
    "\n",
    "        :param order_: The order to be filled.\n",
    "        :type order_: Order\n",
    "        :param counter_orders: The list of counter orders.\n",
    "        :type counter_orders: List[Order]\n",
    "        \"\"\"\n",
    "        if not counter_orders:\n",
    "            return\n",
    "        source = self.order_sources[order_.order_type]\n",
    "        c_source = self.order_sources[counter_orders[0].order_type]\n",
    "        for c_order in counter_orders:\n",
    "            price_ = c_order.price\n",
    "            volume_ = min(order_.volume, c_order.volume)\n",
    "            source.fill(order_, volume_)\n",
    "            c_source.fill(c_order, volume_)\n",
    "            self.tape.append(\n",
    "                {\n",
    "                    \"order\": order_.id,\n",
    "                    \"contr_order\": c_order.id,\n",
    "                    \"price\": price_,\n",
    "                    \"volume\": volume_,\n",
    "                    \"time\": datetime.now(),\n",
    "                }\n",
    "            )\n",
    "            if order_.status == OrderStatus.FILLED:\n",
    "                break\n",
    "\n",
    "    def match_fill(self, order: Order) -> None:\n",
    "        \"\"\"\n",
    "        Matches the given order with existing orders in the order book and fills the order if there is a match.\n",
    "\n",
    "        :param order: The order to be matched and filled.\n",
    "        :type order: Order\n",
    "        \"\"\"\n",
    "        matched = self.match(order)\n",
    "        self.fill(order, matched)\n",
    "\n",
    "    def get_order(\n",
    "        self, order_: Union[int, Order], order_type_: OrderType\n",
    "    ) -> Optional[Order]:\n",
    "        \"\"\"\n",
    "        Get an order from the order book.\n",
    "\n",
    "        :param order_: The order ID or the Order object.\n",
    "        :type order_: Union[int, Order]\n",
    "        :param order_type_: The type of the order.\n",
    "        :type order_type_: OrderType\n",
    "        :raises ValueError: If the order type is invalid.\n",
    "        :raises ValueError: If the order is not found.\n",
    "        :return: The order if found, otherwise None.\n",
    "        :rtype: Optional[Order]\n",
    "        \"\"\"\n",
    "        order_ = None\n",
    "        if isinstance(order_, int):\n",
    "            order_ = self.order_sources[order_type_].get(order_)\n",
    "        elif isinstance(order_, Order):\n",
    "            order_ = self.order_sources[order_.order_type].get(order_.id)\n",
    "        else:\n",
    "            raise ValueError(\"Invalid order type\")\n",
    "        if not order_:\n",
    "            raise ValueError(\"Order not found\")\n",
    "        return order_\n",
    "\n",
    "    def search_order(\n",
    "        self,\n",
    "        order_: Union[Order, int],\n",
    "        order_type_: Optional[OrderType] = None,\n",
    "    ) -> Optional[Order]:\n",
    "        \"\"\"\n",
    "        Search for an order in the order book.\n",
    "\n",
    "        :param order_: The order to search for. Can be an instance of `Order` or an integer representing the order ID.\n",
    "        :type order_: Union[Order, int]\n",
    "        :param order_type_: The type of order to search for. Defaults to None.\n",
    "        :type order_type_: Optional[OrderType]\n",
    "        :raises ValueError: If an invalid order type is provided.\n",
    "        :raises ValueError: If the order is not found in any of the order sources.\n",
    "        :return: The found order.\n",
    "        :rtype: Order\n",
    "        \"\"\"\n",
    "        if order_type_:\n",
    "            return self.get_order(order_, order_type_)\n",
    "        if isinstance(order_, Order):\n",
    "            order_type_ = order_.order_type\n",
    "            return self.get_order(order_, order_type_)\n",
    "        if isinstance(order_, int):\n",
    "            order_id = order_\n",
    "        else:\n",
    "            raise ValueError(\"Invalid order type\")\n",
    "        for source in self.order_sources.values():\n",
    "            order_ = source.get(order_id)\n",
    "            if order_:\n",
    "                return order_\n",
    "        raise ValueError(\"Order not found\")\n",
    "\n",
    "    def cancel(\n",
    "        self, order_: Union[Order, int], order_type_: Optional[OrderType] = None\n",
    "    ) -> None:\n",
    "        \"\"\"\n",
    "        Cancels the specified order.\n",
    "\n",
    "        :param order_: The order to be cancelled.\n",
    "        :type order_: Union[Order, int]\n",
    "        :param order_type_: The type of the order to be cancelled, defaults to None.\n",
    "        :type order_type_: Optional[OrderType], optional\n",
    "        :raises ValueError: If the order is already cancelled or expired.\n",
    "        \"\"\"\n",
    "        order_ = self.search_order(order_, order_type_)\n",
    "        if not order_.status.is_active:\n",
    "            raise ValueError(\"Order is already cancelled or expired\")\n",
    "        source = self.order_sources[order_.order_type]\n",
    "        source.cancel(order_)\n",
    "\n",
    "    def expire(\n",
    "        self, order_: Union[Order, int], order_type_: Optional[OrderType] = None\n",
    "    ) -> None:\n",
    "        \"\"\"\n",
    "        Expire the given order.\n",
    "\n",
    "        :param order_: The order to expire.\n",
    "        :type order_: Union[Order, int]\n",
    "        :param order_type_: The type of the order to expire, defaults to None.\n",
    "        :type order_type_: Optional[OrderType], optional\n",
    "        :raises ValueError: If the order is already cancelled or expired.\n",
    "        \"\"\"\n",
    "        order_ = self.search_order(order_, order_type_)\n",
    "        if not order_.status.is_active:\n",
    "            raise ValueError(\"Order is already cancelled or expired\")\n",
    "        source = self.order_sources[order_.order_type]\n",
    "        source.expire(order_)\n",
    "\n",
    "    def restore(\n",
    "        self, order_: Union[Order, int], order_type_: Optional[OrderType] = None\n",
    "    ) -> None:\n",
    "        \"\"\"\n",
    "        Restores an order to the order book.\n",
    "\n",
    "        :param order_: The order or order ID to be restored.\n",
    "        :type order_: Union[Order, int]\n",
    "        :param order_type_: The type of the order to be restored, defaults to None.\n",
    "        :type order_type_: Optional[OrderType], optional\n",
    "        :raises ValueError: If the order is already active.\n",
    "        \"\"\"\n",
    "\n",
    "        order_ = self.search_order(order_, order_type_)\n",
    "        if order_.status.is_active:\n",
    "            raise ValueError(\"Order is already active\")\n",
    "        source = self.order_sources[order_.order_type]\n",
    "        source.relist(order_)\n",
    "        self.match_fill(order_)\n",
    "\n",
    "    def remove_order(\n",
    "        self, order_: Union[Order, int], order_type_: Optional[OrderType] = None\n",
    "    ) -> None:\n",
    "        \"\"\"\n",
    "        Remove an order from the order book.\n",
    "\n",
    "        :param order_: The order to be removed. Can be an instance of `Order` or the order ID (int).\n",
    "        :type order_: Union[Order, int]\n",
    "        :param order_type_: The type of order to be removed. Defaults to None.\n",
    "        :type order_type_: Optional[OrderType]\n",
    "        \"\"\"\n",
    "        order_ = self.search_order(order_, order_type_)\n",
    "        source = self.order_sources[order_.order_type]\n",
    "        source.remove(order_)\n",
    "\n",
    "    def modify(\n",
    "        self,\n",
    "        order_: Union[Order, int],\n",
    "        order_type_: Optional[OrderType] = None,\n",
    "        price_: Optional[float] = None,\n",
    "        volume_: Optional[float] = None,\n",
    "    ) -> None:\n",
    "        \"\"\"\n",
    "        Modifies an existing order in the order book.\n",
    "\n",
    "        :param order_: The order object or order ID to be modified.\n",
    "        :type order_: Union[Order, int]\n",
    "        :param order_type_: The new order type (buy/sell), defaults to None.\n",
    "        :type order_type_: Optional[OrderType], optional\n",
    "        :param price_: The new price of the order, defaults to None.\n",
    "        :type price_: Optional[float], optional\n",
    "        :param volume_: The new volume of the order, defaults to None.\n",
    "        :type volume_: Optional[float], optional\n",
    "        \"\"\"\n",
    "        order_ = self.search_order(order_, order_type_)\n",
    "        source = self.order_sources[order_.order_type]\n",
    "        source.modify(order_, price_, volume_)\n",
    "        self.match_fill(order_)\n",
    "\n",
    "    def proceede(self):\n",
    "\n",
    "        tape = self.tape.copy()\n",
    "        self.tape.clear()\n",
    "        return tape"
   ]
  },
  {
   "cell_type": "markdown",
   "metadata": {},
   "source": [
    "### little tests"
   ]
  },
  {
   "cell_type": "code",
   "execution_count": 20,
   "metadata": {},
   "outputs": [
    {
     "data": {
      "text/plain": [
       "300"
      ]
     },
     "execution_count": 20,
     "metadata": {},
     "output_type": "execute_result"
    }
   ],
   "source": [
    "order_book = OrderBook()\n",
    "i_gen = OrderIdGenerator()\n",
    "next(i_gen)"
   ]
  },
  {
   "cell_type": "code",
   "execution_count": 21,
   "metadata": {},
   "outputs": [],
   "source": [
    "for i in range(random.randint(10, 25)):\n",
    "    order_book.add(\n",
    "        Order(\n",
    "            id=next(i_gen),\n",
    "            order_type=OrderType.ASK,\n",
    "            price=random.uniform(95, 130),\n",
    "            volume=random.randint(10, 70),\n",
    "            owner_id=random.randint(1, 10),\n",
    "        )\n",
    "    )\n",
    "for i in range(random.randint(10, 25)):\n",
    "    order_book.add(\n",
    "        Order(\n",
    "            id=next(i_gen),\n",
    "            order_type=OrderType.BID,\n",
    "            price=random.uniform(70, 110),\n",
    "            volume=random.randint(10, 70),\n",
    "            owner_id=random.randint(1, 10),\n",
    "        )\n",
    "    )\n"
   ]
  },
  {
   "cell_type": "code",
   "execution_count": 22,
   "metadata": {},
   "outputs": [
    {
     "data": {
      "text/plain": [
       "[{'order': 318,\n",
       "  'contr_order': 306,\n",
       "  'price': 105.37243413682314,\n",
       "  'volume': 16,\n",
       "  'time': datetime.datetime(2024, 2, 25, 17, 59, 18, 362434)},\n",
       " {'order': 319,\n",
       "  'contr_order': 306,\n",
       "  'price': 105.37243413682314,\n",
       "  'volume': 17,\n",
       "  'time': datetime.datetime(2024, 2, 25, 17, 59, 18, 362434)},\n",
       " {'order': 321,\n",
       "  'contr_order': 313,\n",
       "  'price': 100.03902443350304,\n",
       "  'volume': 45,\n",
       "  'time': datetime.datetime(2024, 2, 25, 17, 59, 18, 363429)},\n",
       " {'order': 327,\n",
       "  'contr_order': 313,\n",
       "  'price': 100.03902443350304,\n",
       "  'volume': 11,\n",
       "  'time': datetime.datetime(2024, 2, 25, 17, 59, 18, 363429)}]"
      ]
     },
     "execution_count": 22,
     "metadata": {},
     "output_type": "execute_result"
    }
   ],
   "source": [
    "order_book.tape"
   ]
  },
  {
   "cell_type": "code",
   "execution_count": 23,
   "metadata": {},
   "outputs": [
    {
     "data": {
      "text/plain": [
       "Order(id=327, order_type=<OrderType.BID: 'bid'>, price=101.88389998612206, volume=43, owner_id=3, status=<OrderStatus.PARTIALLY_FILLED: 2>, created=datetime.datetime(2024, 2, 25, 17, 59, 18, 363429), updated=datetime.datetime(2024, 2, 25, 17, 59, 18, 363429), listed=datetime.datetime(2024, 2, 25, 17, 59, 18, 363429))"
      ]
     },
     "execution_count": 23,
     "metadata": {},
     "output_type": "execute_result"
    }
   ],
   "source": [
    "order_book.search_order(327)"
   ]
  },
  {
   "cell_type": "code",
   "execution_count": 24,
   "metadata": {},
   "outputs": [
    {
     "data": {
      "text/plain": [
       "Order(id=327, order_type=<OrderType.BID: 'bid'>, price=101.88389998612206, volume=43, owner_id=3, status=<OrderStatus.CANCELLED: 5>, created=datetime.datetime(2024, 2, 25, 17, 59, 18, 363429), updated=datetime.datetime(2024, 2, 25, 17, 59, 44, 490092), listed=datetime.datetime(2024, 2, 25, 17, 59, 18, 363429))"
      ]
     },
     "execution_count": 24,
     "metadata": {},
     "output_type": "execute_result"
    }
   ],
   "source": [
    "order_book.cancel(327)\n",
    "order_book.search_order(327)"
   ]
  },
  {
   "cell_type": "code",
   "execution_count": 25,
   "metadata": {},
   "outputs": [
    {
     "ename": "ValueError",
     "evalue": "Order is already cancelled or expired",
     "output_type": "error",
     "traceback": [
      "\u001b[1;31m---------------------------------------------------------------------------\u001b[0m",
      "\u001b[1;31mValueError\u001b[0m                                Traceback (most recent call last)",
      "Cell \u001b[1;32mIn[25], line 1\u001b[0m\n\u001b[1;32m----> 1\u001b[0m \u001b[43morder_book\u001b[49m\u001b[38;5;241;43m.\u001b[39;49m\u001b[43mcancel\u001b[49m\u001b[43m(\u001b[49m\u001b[38;5;241;43m327\u001b[39;49m\u001b[43m)\u001b[49m\n\u001b[0;32m      2\u001b[0m \u001b[38;5;66;03m# error\u001b[39;00m\n",
      "Cell \u001b[1;32mIn[19], line 180\u001b[0m, in \u001b[0;36mOrderBook.cancel\u001b[1;34m(self, order_, order_type_)\u001b[0m\n\u001b[0;32m    178\u001b[0m order_ \u001b[38;5;241m=\u001b[39m \u001b[38;5;28mself\u001b[39m\u001b[38;5;241m.\u001b[39msearch_order(order_, order_type_)\n\u001b[0;32m    179\u001b[0m \u001b[38;5;28;01mif\u001b[39;00m \u001b[38;5;129;01mnot\u001b[39;00m order_\u001b[38;5;241m.\u001b[39mstatus\u001b[38;5;241m.\u001b[39mis_active:\n\u001b[1;32m--> 180\u001b[0m     \u001b[38;5;28;01mraise\u001b[39;00m \u001b[38;5;167;01mValueError\u001b[39;00m(\u001b[38;5;124m\"\u001b[39m\u001b[38;5;124mOrder is already cancelled or expired\u001b[39m\u001b[38;5;124m\"\u001b[39m)\n\u001b[0;32m    181\u001b[0m source \u001b[38;5;241m=\u001b[39m \u001b[38;5;28mself\u001b[39m\u001b[38;5;241m.\u001b[39morder_sources[order_\u001b[38;5;241m.\u001b[39morder_type]\n\u001b[0;32m    182\u001b[0m source\u001b[38;5;241m.\u001b[39mcancel(order_)\n",
      "\u001b[1;31mValueError\u001b[0m: Order is already cancelled or expired"
     ]
    }
   ],
   "source": [
    "order_book.cancel(327)\n",
    "# error"
   ]
  },
  {
   "cell_type": "code",
   "execution_count": 26,
   "metadata": {},
   "outputs": [
    {
     "data": {
      "text/plain": [
       "Order(id=327, order_type=<OrderType.BID: 'bid'>, price=101.88389998612206, volume=43, owner_id=3, status=<OrderStatus.RESTORED: 6>, created=datetime.datetime(2024, 2, 25, 17, 59, 18, 363429), updated=datetime.datetime(2024, 2, 25, 18, 1, 38, 635563), listed=datetime.datetime(2024, 2, 25, 18, 1, 38, 635563))"
      ]
     },
     "execution_count": 26,
     "metadata": {},
     "output_type": "execute_result"
    }
   ],
   "source": [
    "order_book.restore(327)\n",
    "order_book.search_order(327)"
   ]
  },
  {
   "cell_type": "code",
   "execution_count": 27,
   "metadata": {},
   "outputs": [
    {
     "ename": "ValueError",
     "evalue": "Order is already active",
     "output_type": "error",
     "traceback": [
      "\u001b[1;31m---------------------------------------------------------------------------\u001b[0m",
      "\u001b[1;31mValueError\u001b[0m                                Traceback (most recent call last)",
      "Cell \u001b[1;32mIn[27], line 1\u001b[0m\n\u001b[1;32m----> 1\u001b[0m \u001b[43morder_book\u001b[49m\u001b[38;5;241;43m.\u001b[39;49m\u001b[43mrestore\u001b[49m\u001b[43m(\u001b[49m\u001b[38;5;241;43m327\u001b[39;49m\u001b[43m)\u001b[49m\n\u001b[0;32m      2\u001b[0m \u001b[38;5;66;03m# error\u001b[39;00m\n",
      "Cell \u001b[1;32mIn[19], line 217\u001b[0m, in \u001b[0;36mOrderBook.restore\u001b[1;34m(self, order_, order_type_)\u001b[0m\n\u001b[0;32m    215\u001b[0m order_ \u001b[38;5;241m=\u001b[39m \u001b[38;5;28mself\u001b[39m\u001b[38;5;241m.\u001b[39msearch_order(order_, order_type_)\n\u001b[0;32m    216\u001b[0m \u001b[38;5;28;01mif\u001b[39;00m order_\u001b[38;5;241m.\u001b[39mstatus\u001b[38;5;241m.\u001b[39mis_active:\n\u001b[1;32m--> 217\u001b[0m     \u001b[38;5;28;01mraise\u001b[39;00m \u001b[38;5;167;01mValueError\u001b[39;00m(\u001b[38;5;124m\"\u001b[39m\u001b[38;5;124mOrder is already active\u001b[39m\u001b[38;5;124m\"\u001b[39m)\n\u001b[0;32m    218\u001b[0m source \u001b[38;5;241m=\u001b[39m \u001b[38;5;28mself\u001b[39m\u001b[38;5;241m.\u001b[39morder_sources[order_\u001b[38;5;241m.\u001b[39morder_type]\n\u001b[0;32m    219\u001b[0m source\u001b[38;5;241m.\u001b[39mrelist(order_)\n",
      "\u001b[1;31mValueError\u001b[0m: Order is already active"
     ]
    }
   ],
   "source": [
    "order_book.restore(327)\n",
    "# error"
   ]
  },
  {
   "cell_type": "code",
   "execution_count": 28,
   "metadata": {},
   "outputs": [],
   "source": [
    "order_book.expire(327)"
   ]
  },
  {
   "cell_type": "code",
   "execution_count": 29,
   "metadata": {},
   "outputs": [
    {
     "data": {
      "text/plain": [
       "SortedList([Order(id=306, order_type=<OrderType.ASK: 'ask'>, price=105.37243413682314, volume=36, owner_id=6, status=<OrderStatus.PARTIALLY_FILLED: 2>, created=datetime.datetime(2024, 2, 25, 17, 59, 18, 361436), updated=datetime.datetime(2024, 2, 25, 17, 59, 18, 362434), listed=datetime.datetime(2024, 2, 25, 17, 59, 18, 361436)), Order(id=311, order_type=<OrderType.ASK: 'ask'>, price=109.0295845890462, volume=56, owner_id=8, status=<OrderStatus.CREATED: 1>, created=datetime.datetime(2024, 2, 25, 17, 59, 18, 362434), updated=datetime.datetime(2024, 2, 25, 17, 59, 18, 362434), listed=datetime.datetime(2024, 2, 25, 17, 59, 18, 362434)), Order(id=302, order_type=<OrderType.ASK: 'ask'>, price=110.27285432828684, volume=13, owner_id=8, status=<OrderStatus.CREATED: 1>, created=datetime.datetime(2024, 2, 25, 17, 59, 18, 361436), updated=datetime.datetime(2024, 2, 25, 17, 59, 18, 361436), listed=datetime.datetime(2024, 2, 25, 17, 59, 18, 361436)), Order(id=310, order_type=<OrderType.ASK: 'ask'>, price=110.4496796906042, volume=44, owner_id=3, status=<OrderStatus.CREATED: 1>, created=datetime.datetime(2024, 2, 25, 17, 59, 18, 362434), updated=datetime.datetime(2024, 2, 25, 17, 59, 18, 362434), listed=datetime.datetime(2024, 2, 25, 17, 59, 18, 362434)), Order(id=303, order_type=<OrderType.ASK: 'ask'>, price=114.86745455226597, volume=26, owner_id=10, status=<OrderStatus.CREATED: 1>, created=datetime.datetime(2024, 2, 25, 17, 59, 18, 361436), updated=datetime.datetime(2024, 2, 25, 17, 59, 18, 361436), listed=datetime.datetime(2024, 2, 25, 17, 59, 18, 361436)), Order(id=314, order_type=<OrderType.ASK: 'ask'>, price=117.17464600764959, volume=15, owner_id=7, status=<OrderStatus.CREATED: 1>, created=datetime.datetime(2024, 2, 25, 17, 59, 18, 362434), updated=datetime.datetime(2024, 2, 25, 17, 59, 18, 362434), listed=datetime.datetime(2024, 2, 25, 17, 59, 18, 362434)), Order(id=312, order_type=<OrderType.ASK: 'ask'>, price=118.66322196913697, volume=55, owner_id=10, status=<OrderStatus.CREATED: 1>, created=datetime.datetime(2024, 2, 25, 17, 59, 18, 362434), updated=datetime.datetime(2024, 2, 25, 17, 59, 18, 362434), listed=datetime.datetime(2024, 2, 25, 17, 59, 18, 362434)), Order(id=305, order_type=<OrderType.ASK: 'ask'>, price=122.54110032063674, volume=45, owner_id=8, status=<OrderStatus.CREATED: 1>, created=datetime.datetime(2024, 2, 25, 17, 59, 18, 361436), updated=datetime.datetime(2024, 2, 25, 17, 59, 18, 361436), listed=datetime.datetime(2024, 2, 25, 17, 59, 18, 361436)), Order(id=309, order_type=<OrderType.ASK: 'ask'>, price=123.41606631816744, volume=57, owner_id=2, status=<OrderStatus.CREATED: 1>, created=datetime.datetime(2024, 2, 25, 17, 59, 18, 362434), updated=datetime.datetime(2024, 2, 25, 17, 59, 18, 362434), listed=datetime.datetime(2024, 2, 25, 17, 59, 18, 362434)), Order(id=301, order_type=<OrderType.ASK: 'ask'>, price=123.52316032213244, volume=22, owner_id=3, status=<OrderStatus.CREATED: 1>, created=datetime.datetime(2024, 2, 25, 17, 59, 18, 361436), updated=datetime.datetime(2024, 2, 25, 17, 59, 18, 361436), listed=datetime.datetime(2024, 2, 25, 17, 59, 18, 361436)), Order(id=307, order_type=<OrderType.ASK: 'ask'>, price=125.88280757298972, volume=34, owner_id=1, status=<OrderStatus.CREATED: 1>, created=datetime.datetime(2024, 2, 25, 17, 59, 18, 361436), updated=datetime.datetime(2024, 2, 25, 17, 59, 18, 361436), listed=datetime.datetime(2024, 2, 25, 17, 59, 18, 361436)), Order(id=308, order_type=<OrderType.ASK: 'ask'>, price=128.87786123331958, volume=66, owner_id=6, status=<OrderStatus.CREATED: 1>, created=datetime.datetime(2024, 2, 25, 17, 59, 18, 361436), updated=datetime.datetime(2024, 2, 25, 17, 59, 18, 362434), listed=datetime.datetime(2024, 2, 25, 17, 59, 18, 362434)), Order(id=304, order_type=<OrderType.ASK: 'ask'>, price=128.99970933756526, volume=13, owner_id=5, status=<OrderStatus.CREATED: 1>, created=datetime.datetime(2024, 2, 25, 17, 59, 18, 361436), updated=datetime.datetime(2024, 2, 25, 17, 59, 18, 361436), listed=datetime.datetime(2024, 2, 25, 17, 59, 18, 361436))])"
      ]
     },
     "execution_count": 29,
     "metadata": {},
     "output_type": "execute_result"
    }
   ],
   "source": [
    "order_book.ask"
   ]
  },
  {
   "cell_type": "code",
   "execution_count": 31,
   "metadata": {},
   "outputs": [
    {
     "data": {
      "text/plain": [
       "Order(id=306, order_type=<OrderType.ASK: 'ask'>, price=100, volume=10, owner_id=6, status=<OrderStatus.MODIFIED: 4>, created=datetime.datetime(2024, 2, 25, 17, 59, 18, 361436), updated=datetime.datetime(2024, 2, 25, 18, 3, 17, 647134), listed=datetime.datetime(2024, 2, 25, 17, 59, 18, 361436))"
      ]
     },
     "execution_count": 31,
     "metadata": {},
     "output_type": "execute_result"
    }
   ],
   "source": [
    "order_book.modify(306, price_=100, volume_=10)\n",
    "order_book.search_order(306)"
   ]
  },
  {
   "cell_type": "code",
   "execution_count": 32,
   "metadata": {},
   "outputs": [
    {
     "data": {
      "text/plain": [
       "Order(id=306, order_type=<OrderType.ASK: 'ask'>, price=70, volume=0, owner_id=6, status=<OrderStatus.FILLED: 3>, created=datetime.datetime(2024, 2, 25, 17, 59, 18, 361436), updated=datetime.datetime(2024, 2, 25, 18, 4, 30, 812469), listed=datetime.datetime(2024, 2, 25, 17, 59, 18, 361436))"
      ]
     },
     "execution_count": 32,
     "metadata": {},
     "output_type": "execute_result"
    }
   ],
   "source": [
    "order_book.modify(306, price_=70, volume_=100)\n",
    "order_book.search_order(306)"
   ]
  },
  {
   "cell_type": "code",
   "execution_count": 33,
   "metadata": {},
   "outputs": [
    {
     "data": {
      "text/plain": [
       "[{'order': 318,\n",
       "  'contr_order': 306,\n",
       "  'price': 105.37243413682314,\n",
       "  'volume': 16,\n",
       "  'time': datetime.datetime(2024, 2, 25, 17, 59, 18, 362434)},\n",
       " {'order': 319,\n",
       "  'contr_order': 306,\n",
       "  'price': 105.37243413682314,\n",
       "  'volume': 17,\n",
       "  'time': datetime.datetime(2024, 2, 25, 17, 59, 18, 362434)},\n",
       " {'order': 321,\n",
       "  'contr_order': 313,\n",
       "  'price': 100.03902443350304,\n",
       "  'volume': 45,\n",
       "  'time': datetime.datetime(2024, 2, 25, 17, 59, 18, 363429)},\n",
       " {'order': 327,\n",
       "  'contr_order': 313,\n",
       "  'price': 100.03902443350304,\n",
       "  'volume': 11,\n",
       "  'time': datetime.datetime(2024, 2, 25, 17, 59, 18, 363429)},\n",
       " {'order': 306,\n",
       "  'contr_order': 333,\n",
       "  'price': 103.18198378434235,\n",
       "  'volume': 12,\n",
       "  'time': datetime.datetime(2024, 2, 25, 18, 3, 0, 253009)},\n",
       " {'order': 306,\n",
       "  'contr_order': 329,\n",
       "  'price': 104.97470393213263,\n",
       "  'volume': 50,\n",
       "  'time': datetime.datetime(2024, 2, 25, 18, 3, 0, 253009)},\n",
       " {'order': 306,\n",
       "  'contr_order': 317,\n",
       "  'price': 70.52826489482837,\n",
       "  'volume': 35,\n",
       "  'time': datetime.datetime(2024, 2, 25, 18, 4, 30, 812469)},\n",
       " {'order': 306,\n",
       "  'contr_order': 315,\n",
       "  'price': 72.99903870586043,\n",
       "  'volume': 13,\n",
       "  'time': datetime.datetime(2024, 2, 25, 18, 4, 30, 812469)},\n",
       " {'order': 306,\n",
       "  'contr_order': 320,\n",
       "  'price': 78.08180260400053,\n",
       "  'volume': 43,\n",
       "  'time': datetime.datetime(2024, 2, 25, 18, 4, 30, 812469)},\n",
       " {'order': 306,\n",
       "  'contr_order': 316,\n",
       "  'price': 81.08941948011864,\n",
       "  'volume': 9,\n",
       "  'time': datetime.datetime(2024, 2, 25, 18, 4, 30, 812469)}]"
      ]
     },
     "execution_count": 33,
     "metadata": {},
     "output_type": "execute_result"
    }
   ],
   "source": [
    "order_book.tape"
   ]
  },
  {
   "cell_type": "code",
   "execution_count": null,
   "metadata": {},
   "outputs": [],
   "source": []
  }
 ],
 "metadata": {
  "kernelspec": {
   "display_name": ".venv",
   "language": "python",
   "name": "python3"
  },
  "language_info": {
   "codemirror_mode": {
    "name": "ipython",
    "version": 3
   },
   "file_extension": ".py",
   "mimetype": "text/x-python",
   "name": "python",
   "nbconvert_exporter": "python",
   "pygments_lexer": "ipython3",
   "version": "3.11.3"
  }
 },
 "nbformat": 4,
 "nbformat_minor": 2
}
