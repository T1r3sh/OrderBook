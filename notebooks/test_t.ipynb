{
 "cells": [
  {
   "cell_type": "code",
   "execution_count": 2,
   "metadata": {},
   "outputs": [],
   "source": [
    "from typing import Any, Optional, Union, List\n",
    "from pydantic import BaseModel, PositiveInt, PositiveFloat\n",
    "from datetime import datetime\n",
    "import os\n",
    "from sortedcontainers import SortedList\n",
    "from enum import Enum, auto"
   ]
  },
  {
   "cell_type": "code",
   "execution_count": 78,
   "metadata": {},
   "outputs": [],
   "source": [
    "class OrderStatus(Enum):\n",
    "    CREATED = auto()\n",
    "    PARTIALLY_FILLED = auto()\n",
    "    FILLED = auto()\n",
    "    MODIFIED = auto()\n",
    "    CANCELLED = auto()\n",
    "    RESTORED = auto()\n",
    "    EXPIRED = auto()\n",
    "\n",
    "    @property\n",
    "    def is_active(self):\n",
    "        return self in {\n",
    "            OrderStatus.CREATED,\n",
    "            OrderStatus.PARTIALLY_FILLED,\n",
    "            OrderStatus.MODIFIED,\n",
    "            OrderStatus.RESTORED,\n",
    "        }\n",
    "\n",
    "\n",
    "class OrderType(Enum):\n",
    "    ASK = \"ask\"\n",
    "    BID = \"bid\"\n",
    "\n",
    "\n",
    "class Order(BaseModel):\n",
    "    id: PositiveInt\n",
    "    order_type: OrderType\n",
    "    price: PositiveFloat\n",
    "    volume: PositiveInt\n",
    "    owner_id: PositiveInt\n",
    "    status: Optional[OrderStatus] = None\n",
    "    created: Optional[datetime] = None\n",
    "    updated: Optional[datetime] = None\n",
    "    listed: Optional[datetime] = None\n",
    "\n",
    "    def __init__(self, **data):\n",
    "        # logging here\n",
    "        super().__init__(**data)\n",
    "        if self.status is None:\n",
    "            self.status = OrderStatus.CREATED\n",
    "        now = datetime.now()\n",
    "        if self.created is None:\n",
    "            self.created = now\n",
    "        if self.updated is None:\n",
    "            self.updated = now\n",
    "\n",
    "    def __setattr__(self, name: str, value: Any) -> None:\n",
    "        if name != \"updated\":\n",
    "            super().__setattr__(\"updated\", datetime.now())\n",
    "        # logging here\n",
    "        return super().__setattr__(name, value)\n",
    "\n",
    "    def __lt__(self, other: Union[int, float, \"Order\"]):\n",
    "        if isinstance(other, (int, float)):\n",
    "            return self.price < other\n",
    "        if isinstance(other, Order):\n",
    "            return self.price < other.price\n",
    "        return NotImplemented\n",
    "\n",
    "    def __gt__(self, other: Union[int, float, \"Order\"]):\n",
    "        if isinstance(other, (int, float)):\n",
    "            return self.price > other\n",
    "        if isinstance(other, Order):\n",
    "            return self.price > other.price\n",
    "        return NotImplemented\n",
    "\n",
    "    def __le__(self, other: Union[int, float, \"Order\"]):\n",
    "        if isinstance(other, (int, float)):\n",
    "            return self.price <= other\n",
    "        if isinstance(other, Order):\n",
    "            return self.price <= other.price\n",
    "        return NotImplemented\n",
    "\n",
    "    def __ge__(self, other: Union[int, float, \"Order\"]):\n",
    "        if isinstance(other, (int, float)):\n",
    "            return self.price >= other\n",
    "        if isinstance(other, Order):\n",
    "            return self.price >= other.price\n",
    "        return NotImplemented\n",
    "\n",
    "\n",
    "class OrderList:\n",
    "    \"\"\"\n",
    "    Order List is a collection of orders. It is used to store and manage orders.\n",
    "    Active orders are stored in a sorted list with search complexity of O(log n) and insertion complexity of O(n).\n",
    "    All orders are indexed by their id for O(1) access.\n",
    "    Active orders can be reached through bisect operations.\n",
    "    \"\"\"\n",
    "\n",
    "    def __init__(\n",
    "        self,\n",
    "        order_type: OrderType,\n",
    "        order_list: Optional[List[Order]] = None,\n",
    "    ) -> None:\n",
    "        \"\"\"\n",
    "        Initializes a collection of orders of a specified type. All orders within the collection must share the same order type.\n",
    "\n",
    "        :param order_type: The type of orders to be stored in the list, e.g., 'ask' or 'bid'. The specific types are defined in the OrderType enum.\n",
    "        :type order_type: OrderType\n",
    "        :param order_list: Initial list of orders to be added to the collection, defaults to None. Each order in the list is added to the collection using the 'add' method logic.\n",
    "        :type order_list: Optional[List[Order]], optional\n",
    "        \"\"\"\n",
    "        self.__order_list = SortedList()\n",
    "        self.__ids = {}\n",
    "        self.otype = order_type\n",
    "        if order_list:\n",
    "            for order in order_list:\n",
    "                self.add(order)\n",
    "\n",
    "    def add(self, order: Order, tolist: Union[bool, str] = \"auto\") -> None:\n",
    "        \"\"\"\n",
    "        Adds an order to the collection. The order is only added to the sorted list if it meets the criteria defined by the 'tolist' parameter. By default ('auto'), active orders are added to the sorted list.\n",
    "\n",
    "        :param order: The order to be added to the collection.\n",
    "        :type order: Order\n",
    "        :param tolist: Specifies how the order should be added to the list. 'auto' adds active orders automatically; True or 'y'/'yes' always adds; False or 'n'/'no' never adds. Defaults to 'auto'.\n",
    "        :type tolist: Union[bool, str], optional\n",
    "        :raises ValueError: If the order's type does not match the collection's type.\n",
    "        :raises ValueError: If 'tolist' is given an invalid value.\n",
    "        \"\"\"\n",
    "        if order.order_type != self.otype:\n",
    "            raise ValueError(\"Order type must be the same as the list type\")\n",
    "        if tolist == \"auto\":\n",
    "            if order.status.is_active:\n",
    "                if order.listed is None:\n",
    "                    order.listed = datetime.now()\n",
    "                self.__order_list.add(order)\n",
    "        elif tolist is True or tolist in [\"y\", \"yes\"]:\n",
    "            self.__order_list.add(order)\n",
    "        elif tolist is False or tolist in [\"n\", \"no\"]:\n",
    "            pass\n",
    "        else:\n",
    "            raise ValueError(\"Invalid value for tolist\")\n",
    "        self.__ids[order.id] = order\n",
    "\n",
    "    def bisect_left(\n",
    "        self, order: Union[Order, float], include_right: bool = True\n",
    "    ) -> List[Order]:\n",
    "        \"\"\"\n",
    "        Performs a bisect left operation on the sorted list to find the position to insert 'order' or 'price'.\n",
    "        Returns a segment of the list based on the bisect position.\n",
    "\n",
    "        :param order: Either an Order object or a float price value to perform the bisect operation.\n",
    "        :type order: Union[Order, float]\n",
    "        :param include_right: If True, returns the segment of the list from the bisect position to the end (inclusive of the position).\n",
    "                              If False, returns the segment up to the bisect position (exclusive).\n",
    "                              Defaults to True.\n",
    "        :type include_right: bool, optional\n",
    "        :return: A list of Orders filtered based on the bisect operation.\n",
    "        :rtype: List[Order]\n",
    "        \"\"\"\n",
    "        cid = self.__order_list.bisect_left(order)\n",
    "        if include_right:\n",
    "            return self.__order_list[cid:]\n",
    "        return self.__order_list[:cid]\n",
    "\n",
    "    def bisect_right(\n",
    "        self, order: Union[Order, float], include_left: bool = True\n",
    "    ) -> List[Order]:\n",
    "        \"\"\"\n",
    "        Performs a bisect right operation on the sorted list to find the position to insert 'order' or 'price'.\n",
    "        Returns a segment of the list based on the bisect position.\n",
    "\n",
    "        :param order: Either an Order object or a float price value to perform the bisect operation.\n",
    "        :type order: Union[Order, float]\n",
    "        :param include_left: If True, returns the segment of the list up to the bisect position (inclusive).\n",
    "                             If False, returns the segment of the list from the bisect position to the end (exclusive).\n",
    "                             Defaults to True.\n",
    "        :type include_left: bool, optional\n",
    "        :return: A list of Orders filtered based on the bisect operation.\n",
    "        :rtype: List[Order]\n",
    "        \"\"\"\n",
    "        cid = self.__order_list.bisect_right(order)\n",
    "        if include_left:\n",
    "            return self.__order_list[:cid]\n",
    "        return self.__order_list[cid:]\n",
    "\n",
    "    def unlist(self, order: Union[Order, int], order_status: OrderStatus) -> None:\n",
    "        if isinstance(order, int):\n",
    "            order = self.__ids.get(order)\n",
    "            if order is None:\n",
    "                raise ValueError(\"Provided order ID not found\")\n",
    "        elif not isinstance(order, Order):\n",
    "            raise ValueError(\"Invalid order type\")\n",
    "        if not order.status.is_active:\n",
    "            raise ValueError(\"Order is not active.\")\n",
    "        if order_status.is_active:\n",
    "            raise ValueError(\"Order cannot be unlisted with active status.\")\n",
    "        self.__order_list.remove(order)\n",
    "        order.status = order_status\n",
    "\n",
    "    def relist(self, order: Union[Order, int], order_status: OrderStatus = OrderStatus.RESTORED) -> None:\n",
    "        if isinstance(order, int):\n",
    "            order = self.__ids.get(order)\n",
    "            if order is None:\n",
    "                raise ValueError(\"Provided order ID not found\")\n",
    "        elif not isinstance(order, Order):\n",
    "            raise ValueError(\"Invalid order type\")\n",
    "        if not order_status.is_active:\n",
    "            raise ValueError(\"Active order cannot have non-active status\")\n",
    "        order.status = order_status\n",
    "        order.listed = datetime.now()\n",
    "        self.__order_list.add(order)\n",
    "\n",
    "    def remove(self, order: Union[Order, int]) -> None:\n",
    "        \"\"\"\n",
    "        Remove an order from the collection.\n",
    "\n",
    "        :param order: order to be removed, it can be either an order or an order id\n",
    "        :type order: Union[Order, int]\n",
    "        :raises ValueError: if provided order is invalid type\n",
    "        :raises ValueError: if order is not found\n",
    "        \"\"\"\n",
    "        if isinstance(order, int):\n",
    "            order = self.__ids.get(order)\n",
    "            if order is None:\n",
    "                raise ValueError(\"Provided order ID not found\")\n",
    "        elif not isinstance(order, Order):\n",
    "            raise ValueError(\"Invalid order type\")\n",
    "\n",
    "        if order.status.is_active:\n",
    "            self.__order_list.remove(order)\n",
    "        del self.__ids[order.id]\n",
    "\n",
    "    def expire(self, order: Union[Order, int]) -> None:\n",
    "        if isinstance(order, int):\n",
    "            order = self.__ids.get(order)\n",
    "            if order is None:\n",
    "                raise ValueError(\"Provided order ID not found\")\n",
    "        elif not isinstance(order, Order):\n",
    "            raise ValueError(\"Invalid order type\")\n",
    "        if not order.status.is_active:\n",
    "            raise ValueError(\"Order is not active.\")\n",
    "        self.__order_list.remove(order)\n",
    "        order.status = OrderStatus.EXPIRED\n",
    "\n",
    "    def cancel(self, order: Union[Order, int]) -> None:\n",
    "        if isinstance(order, int):\n",
    "            order = self.__ids.get(order)\n",
    "            if order is None:\n",
    "                raise ValueError(\"Provided order ID not found\")\n",
    "        elif not isinstance(order, Order):\n",
    "            raise ValueError(\"Invalid order type\")\n",
    "        if not order.status.is_active:\n",
    "            raise ValueError(\"Order is not active.\")\n",
    "        self.__order_list.remove(order)\n",
    "        order.status = OrderStatus.CANCELLED\n",
    "\n",
    "    def fill(self, order: Union[Order, int], volume: int) -> None:\n",
    "        if volume <= 0:\n",
    "            raise ValueError(\"Volume must be positive\")\n",
    "        if isinstance(order, int):\n",
    "            order = self.__ids.get(order)\n",
    "            if order is None:\n",
    "                raise ValueError(\"Provided order ID not found\")\n",
    "        elif not isinstance(order, Order):\n",
    "            raise ValueError(\"Invalid order type\")\n",
    "        if not order.status.is_active:\n",
    "            raise ValueError(\"Order is not active.\")\n",
    "        if volume > order.volume:\n",
    "            raise ValueError(\"Volume is greater than order volume\")\n",
    "        order.volume -= volume\n",
    "        if order.volume == 0:\n",
    "            self.unlist(order, OrderStatus.FILLED)\n",
    "        else:\n",
    "            order.status = OrderStatus.PARTIALLY_FILLED\n",
    "\n",
    "    def modify(\n",
    "        self,\n",
    "        order: Union[Order, int],\n",
    "        price: Optional[float] = None,\n",
    "        volume: Optional[int] = None,\n",
    "        relist: bool = True,\n",
    "    ) -> None:\n",
    "        if any([price<=0, volume<=0]):\n",
    "            raise ValueError(\"Price and volume must be positive\")\n",
    "        if isinstance(order, int):\n",
    "            order = self.__ids.get(order)\n",
    "            if order is None:\n",
    "                raise ValueError(\"Provided order ID not found\")\n",
    "        elif not isinstance(order, Order):\n",
    "            raise ValueError(\"Invalid order type\")\n",
    "        \n",
    "        if relist:\n",
    "            if order.status.is_active:\n",
    "                self.__order_list.remove(order)\n",
    "            else:\n",
    "                print(\"Warning: Order is not active, it will not be relisted\")\n",
    "                relist = False\n",
    "        order = self.__ids[order.id]\n",
    "        if price is not None:\n",
    "            order.price = price\n",
    "        if volume is not None:\n",
    "            order.volume = volume\n",
    "        if relist:\n",
    "            order.status = OrderStatus.MODIFIED\n",
    "            self.__order_list.add(order)\n",
    "\n",
    "    def clear(self) -> None:\n",
    "        \"\"\"\n",
    "        Clears the collection of all orders.\n",
    "        \"\"\"\n",
    "        self.__order_list.clear()\n",
    "        self.__ids.clear()\n",
    "\n",
    "    def __getitem__(self, order_id):\n",
    "        return self.__ids[order_id]\n",
    "\n",
    "    def __iter__(self):\n",
    "        return iter(self.__order_list)\n",
    "\n",
    "    def __len__(self):\n",
    "        return len(self.__ids)\n",
    "\n",
    "    def __repr__(self):\n",
    "        return str(self.__order_list)"
   ]
  },
  {
   "cell_type": "markdown",
   "metadata": {},
   "source": [
    "# simple tests"
   ]
  },
  {
   "cell_type": "code",
   "execution_count": 79,
   "metadata": {},
   "outputs": [],
   "source": [
    "import random"
   ]
  },
  {
   "cell_type": "markdown",
   "metadata": {},
   "source": [
    "### creation"
   ]
  },
  {
   "cell_type": "code",
   "execution_count": 80,
   "metadata": {},
   "outputs": [
    {
     "data": {
      "text/plain": [
       "[Order(id=1, order_type=<OrderType.ASK: 'ask'>, price=98.39128386682549, volume=30, owner_id=4, status=<OrderStatus.CREATED: 1>, created=datetime.datetime(2024, 2, 24, 20, 20, 15, 187257), updated=datetime.datetime(2024, 2, 24, 20, 20, 15, 187257), listed=None),\n",
       " Order(id=2, order_type=<OrderType.ASK: 'ask'>, price=100.66665333771964, volume=30, owner_id=10, status=<OrderStatus.CREATED: 1>, created=datetime.datetime(2024, 2, 24, 20, 20, 15, 187257), updated=datetime.datetime(2024, 2, 24, 20, 20, 15, 187257), listed=None),\n",
       " Order(id=3, order_type=<OrderType.ASK: 'ask'>, price=100.02901457203792, volume=36, owner_id=6, status=<OrderStatus.CREATED: 1>, created=datetime.datetime(2024, 2, 24, 20, 20, 15, 187257), updated=datetime.datetime(2024, 2, 24, 20, 20, 15, 187257), listed=None),\n",
       " Order(id=4, order_type=<OrderType.ASK: 'ask'>, price=107.3898071650771, volume=57, owner_id=10, status=<OrderStatus.CREATED: 1>, created=datetime.datetime(2024, 2, 24, 20, 20, 15, 187257), updated=datetime.datetime(2024, 2, 24, 20, 20, 15, 187257), listed=None),\n",
       " Order(id=5, order_type=<OrderType.ASK: 'ask'>, price=103.61615791342462, volume=14, owner_id=8, status=<OrderStatus.CREATED: 1>, created=datetime.datetime(2024, 2, 24, 20, 20, 15, 187257), updated=datetime.datetime(2024, 2, 24, 20, 20, 15, 187257), listed=None)]"
      ]
     },
     "execution_count": 80,
     "metadata": {},
     "output_type": "execute_result"
    }
   ],
   "source": [
    "orders = []\n",
    "for i in range(random.randint(10, 25)):\n",
    "    orders.append(\n",
    "        Order(\n",
    "            id=i+1,\n",
    "            order_type=OrderType.ASK,\n",
    "            price=random.uniform(95, 110),\n",
    "            volume=random.randint(10, 70),\n",
    "            owner_id=random.randint(1, 10),\n",
    "        )\n",
    "    )\n",
    "orders[:5]"
   ]
  },
  {
   "cell_type": "code",
   "execution_count": 81,
   "metadata": {},
   "outputs": [
    {
     "data": {
      "text/plain": [
       "SortedList([Order(id=16, order_type=<OrderType.ASK: 'ask'>, price=96.4238155325062, volume=30, owner_id=3, status=<OrderStatus.CREATED: 1>, created=datetime.datetime(2024, 2, 24, 20, 20, 15, 188255), updated=datetime.datetime(2024, 2, 24, 20, 20, 15, 275008), listed=datetime.datetime(2024, 2, 24, 20, 20, 15, 275008)), Order(id=11, order_type=<OrderType.ASK: 'ask'>, price=96.64354685200499, volume=67, owner_id=3, status=<OrderStatus.CREATED: 1>, created=datetime.datetime(2024, 2, 24, 20, 20, 15, 187257), updated=datetime.datetime(2024, 2, 24, 20, 20, 15, 275008), listed=datetime.datetime(2024, 2, 24, 20, 20, 15, 275008)), Order(id=1, order_type=<OrderType.ASK: 'ask'>, price=98.39128386682549, volume=30, owner_id=4, status=<OrderStatus.CREATED: 1>, created=datetime.datetime(2024, 2, 24, 20, 20, 15, 187257), updated=datetime.datetime(2024, 2, 24, 20, 20, 15, 275008), listed=datetime.datetime(2024, 2, 24, 20, 20, 15, 275008)), Order(id=3, order_type=<OrderType.ASK: 'ask'>, price=100.02901457203792, volume=36, owner_id=6, status=<OrderStatus.CREATED: 1>, created=datetime.datetime(2024, 2, 24, 20, 20, 15, 187257), updated=datetime.datetime(2024, 2, 24, 20, 20, 15, 275008), listed=datetime.datetime(2024, 2, 24, 20, 20, 15, 275008)), Order(id=2, order_type=<OrderType.ASK: 'ask'>, price=100.66665333771964, volume=30, owner_id=10, status=<OrderStatus.CREATED: 1>, created=datetime.datetime(2024, 2, 24, 20, 20, 15, 187257), updated=datetime.datetime(2024, 2, 24, 20, 20, 15, 275008), listed=datetime.datetime(2024, 2, 24, 20, 20, 15, 275008)), Order(id=18, order_type=<OrderType.ASK: 'ask'>, price=101.14021182702777, volume=44, owner_id=2, status=<OrderStatus.CREATED: 1>, created=datetime.datetime(2024, 2, 24, 20, 20, 15, 188255), updated=datetime.datetime(2024, 2, 24, 20, 20, 15, 275008), listed=datetime.datetime(2024, 2, 24, 20, 20, 15, 275008)), Order(id=8, order_type=<OrderType.ASK: 'ask'>, price=101.65510958678865, volume=52, owner_id=2, status=<OrderStatus.CREATED: 1>, created=datetime.datetime(2024, 2, 24, 20, 20, 15, 187257), updated=datetime.datetime(2024, 2, 24, 20, 20, 15, 275008), listed=datetime.datetime(2024, 2, 24, 20, 20, 15, 275008)), Order(id=6, order_type=<OrderType.ASK: 'ask'>, price=101.70131585168942, volume=32, owner_id=4, status=<OrderStatus.CREATED: 1>, created=datetime.datetime(2024, 2, 24, 20, 20, 15, 187257), updated=datetime.datetime(2024, 2, 24, 20, 20, 15, 275008), listed=datetime.datetime(2024, 2, 24, 20, 20, 15, 275008)), Order(id=12, order_type=<OrderType.ASK: 'ask'>, price=101.96934616151468, volume=70, owner_id=3, status=<OrderStatus.CREATED: 1>, created=datetime.datetime(2024, 2, 24, 20, 20, 15, 187257), updated=datetime.datetime(2024, 2, 24, 20, 20, 15, 275008), listed=datetime.datetime(2024, 2, 24, 20, 20, 15, 275008)), Order(id=7, order_type=<OrderType.ASK: 'ask'>, price=102.27475537353095, volume=10, owner_id=7, status=<OrderStatus.CREATED: 1>, created=datetime.datetime(2024, 2, 24, 20, 20, 15, 187257), updated=datetime.datetime(2024, 2, 24, 20, 20, 15, 275008), listed=datetime.datetime(2024, 2, 24, 20, 20, 15, 275008)), Order(id=10, order_type=<OrderType.ASK: 'ask'>, price=102.94171056175085, volume=66, owner_id=9, status=<OrderStatus.CREATED: 1>, created=datetime.datetime(2024, 2, 24, 20, 20, 15, 187257), updated=datetime.datetime(2024, 2, 24, 20, 20, 15, 275008), listed=datetime.datetime(2024, 2, 24, 20, 20, 15, 275008)), Order(id=14, order_type=<OrderType.ASK: 'ask'>, price=103.01879798653795, volume=19, owner_id=1, status=<OrderStatus.CREATED: 1>, created=datetime.datetime(2024, 2, 24, 20, 20, 15, 188255), updated=datetime.datetime(2024, 2, 24, 20, 20, 15, 275008), listed=datetime.datetime(2024, 2, 24, 20, 20, 15, 275008)), Order(id=15, order_type=<OrderType.ASK: 'ask'>, price=103.60972534706278, volume=34, owner_id=10, status=<OrderStatus.CREATED: 1>, created=datetime.datetime(2024, 2, 24, 20, 20, 15, 188255), updated=datetime.datetime(2024, 2, 24, 20, 20, 15, 275008), listed=datetime.datetime(2024, 2, 24, 20, 20, 15, 275008)), Order(id=5, order_type=<OrderType.ASK: 'ask'>, price=103.61615791342462, volume=14, owner_id=8, status=<OrderStatus.CREATED: 1>, created=datetime.datetime(2024, 2, 24, 20, 20, 15, 187257), updated=datetime.datetime(2024, 2, 24, 20, 20, 15, 275008), listed=datetime.datetime(2024, 2, 24, 20, 20, 15, 275008)), Order(id=17, order_type=<OrderType.ASK: 'ask'>, price=104.44722128177636, volume=25, owner_id=10, status=<OrderStatus.CREATED: 1>, created=datetime.datetime(2024, 2, 24, 20, 20, 15, 188255), updated=datetime.datetime(2024, 2, 24, 20, 20, 15, 275008), listed=datetime.datetime(2024, 2, 24, 20, 20, 15, 275008)), Order(id=19, order_type=<OrderType.ASK: 'ask'>, price=105.75253282969051, volume=32, owner_id=8, status=<OrderStatus.CREATED: 1>, created=datetime.datetime(2024, 2, 24, 20, 20, 15, 188255), updated=datetime.datetime(2024, 2, 24, 20, 20, 15, 275008), listed=datetime.datetime(2024, 2, 24, 20, 20, 15, 275008)), Order(id=9, order_type=<OrderType.ASK: 'ask'>, price=105.94469919086532, volume=44, owner_id=3, status=<OrderStatus.CREATED: 1>, created=datetime.datetime(2024, 2, 24, 20, 20, 15, 187257), updated=datetime.datetime(2024, 2, 24, 20, 20, 15, 275008), listed=datetime.datetime(2024, 2, 24, 20, 20, 15, 275008)), Order(id=13, order_type=<OrderType.ASK: 'ask'>, price=106.35669675788033, volume=34, owner_id=3, status=<OrderStatus.CREATED: 1>, created=datetime.datetime(2024, 2, 24, 20, 20, 15, 187257), updated=datetime.datetime(2024, 2, 24, 20, 20, 15, 275008), listed=datetime.datetime(2024, 2, 24, 20, 20, 15, 275008)), Order(id=4, order_type=<OrderType.ASK: 'ask'>, price=107.3898071650771, volume=57, owner_id=10, status=<OrderStatus.CREATED: 1>, created=datetime.datetime(2024, 2, 24, 20, 20, 15, 187257), updated=datetime.datetime(2024, 2, 24, 20, 20, 15, 275008), listed=datetime.datetime(2024, 2, 24, 20, 20, 15, 275008))])"
      ]
     },
     "execution_count": 81,
     "metadata": {},
     "output_type": "execute_result"
    }
   ],
   "source": [
    "order_list = OrderList(order_type=OrderType.ASK, order_list=orders)\n",
    "order_list"
   ]
  },
  {
   "cell_type": "markdown",
   "metadata": {},
   "source": [
    "### wrong order"
   ]
  },
  {
   "cell_type": "code",
   "execution_count": 82,
   "metadata": {},
   "outputs": [
    {
     "ename": "ValueError",
     "evalue": "Order type must be the same as the list type",
     "output_type": "error",
     "traceback": [
      "\u001b[1;31m---------------------------------------------------------------------------\u001b[0m",
      "\u001b[1;31mValueError\u001b[0m                                Traceback (most recent call last)",
      "Cell \u001b[1;32mIn[82], line 8\u001b[0m\n\u001b[0;32m      1\u001b[0m wrong_order \u001b[38;5;241m=\u001b[39m Order(\n\u001b[0;32m      2\u001b[0m     \u001b[38;5;28mid\u001b[39m\u001b[38;5;241m=\u001b[39m\u001b[38;5;241m100\u001b[39m,\n\u001b[0;32m      3\u001b[0m     order_type\u001b[38;5;241m=\u001b[39mOrderType\u001b[38;5;241m.\u001b[39mBID,\n\u001b[1;32m   (...)\u001b[0m\n\u001b[0;32m      6\u001b[0m     owner_id\u001b[38;5;241m=\u001b[39m\u001b[38;5;241m1\u001b[39m,\n\u001b[0;32m      7\u001b[0m )\n\u001b[1;32m----> 8\u001b[0m \u001b[43morder_list\u001b[49m\u001b[38;5;241;43m.\u001b[39;49m\u001b[43madd\u001b[49m\u001b[43m(\u001b[49m\u001b[43mwrong_order\u001b[49m\u001b[43m)\u001b[49m\n\u001b[0;32m      9\u001b[0m \u001b[38;5;66;03m# error\u001b[39;00m\n",
      "Cell \u001b[1;32mIn[78], line 122\u001b[0m, in \u001b[0;36mOrderList.add\u001b[1;34m(self, order, tolist)\u001b[0m\n\u001b[0;32m    111\u001b[0m \u001b[38;5;250m\u001b[39m\u001b[38;5;124;03m\"\"\"\u001b[39;00m\n\u001b[0;32m    112\u001b[0m \u001b[38;5;124;03mAdds an order to the collection. The order is only added to the sorted list if it meets the criteria defined by the 'tolist' parameter. By default ('auto'), active orders are added to the sorted list.\u001b[39;00m\n\u001b[0;32m    113\u001b[0m \n\u001b[1;32m   (...)\u001b[0m\n\u001b[0;32m    119\u001b[0m \u001b[38;5;124;03m:raises ValueError: If 'tolist' is given an invalid value.\u001b[39;00m\n\u001b[0;32m    120\u001b[0m \u001b[38;5;124;03m\"\"\"\u001b[39;00m\n\u001b[0;32m    121\u001b[0m \u001b[38;5;28;01mif\u001b[39;00m order\u001b[38;5;241m.\u001b[39morder_type \u001b[38;5;241m!=\u001b[39m \u001b[38;5;28mself\u001b[39m\u001b[38;5;241m.\u001b[39motype:\n\u001b[1;32m--> 122\u001b[0m     \u001b[38;5;28;01mraise\u001b[39;00m \u001b[38;5;167;01mValueError\u001b[39;00m(\u001b[38;5;124m\"\u001b[39m\u001b[38;5;124mOrder type must be the same as the list type\u001b[39m\u001b[38;5;124m\"\u001b[39m)\n\u001b[0;32m    123\u001b[0m \u001b[38;5;28;01mif\u001b[39;00m tolist \u001b[38;5;241m==\u001b[39m \u001b[38;5;124m\"\u001b[39m\u001b[38;5;124mauto\u001b[39m\u001b[38;5;124m\"\u001b[39m:\n\u001b[0;32m    124\u001b[0m     \u001b[38;5;28;01mif\u001b[39;00m order\u001b[38;5;241m.\u001b[39mstatus\u001b[38;5;241m.\u001b[39mis_active:\n",
      "\u001b[1;31mValueError\u001b[0m: Order type must be the same as the list type"
     ]
    }
   ],
   "source": [
    "wrong_order = Order(\n",
    "    id=100,\n",
    "    order_type=OrderType.BID,\n",
    "    price=100,\n",
    "    volume=100,\n",
    "    owner_id=1,\n",
    ")\n",
    "order_list.add(wrong_order)\n",
    "# error"
   ]
  },
  {
   "cell_type": "markdown",
   "metadata": {},
   "source": [
    "### remove, unlist, relist"
   ]
  },
  {
   "cell_type": "code",
   "execution_count": null,
   "metadata": {},
   "outputs": [
    {
     "name": "stdout",
     "output_type": "stream",
     "text": [
      "18\n"
     ]
    },
    {
     "ename": "KeyError",
     "evalue": "18",
     "output_type": "error",
     "traceback": [
      "\u001b[1;31m---------------------------------------------------------------------------\u001b[0m",
      "\u001b[1;31mKeyError\u001b[0m                                  Traceback (most recent call last)",
      "Cell \u001b[1;32mIn[65], line 5\u001b[0m\n\u001b[0;32m      3\u001b[0m \u001b[38;5;28mprint\u001b[39m(random_order\u001b[38;5;241m.\u001b[39mid)\n\u001b[0;32m      4\u001b[0m order_list\u001b[38;5;241m.\u001b[39mremove(random_order)\n\u001b[1;32m----> 5\u001b[0m \u001b[43morder_list\u001b[49m\u001b[43m[\u001b[49m\u001b[43mrandom_order\u001b[49m\u001b[38;5;241;43m.\u001b[39;49m\u001b[43mid\u001b[49m\u001b[43m]\u001b[49m\n\u001b[0;32m      6\u001b[0m \u001b[38;5;66;03m# error\u001b[39;00m\n",
      "Cell \u001b[1;32mIn[60], line 305\u001b[0m, in \u001b[0;36mOrderList.__getitem__\u001b[1;34m(self, order_id)\u001b[0m\n\u001b[0;32m    304\u001b[0m \u001b[38;5;28;01mdef\u001b[39;00m \u001b[38;5;21m__getitem__\u001b[39m(\u001b[38;5;28mself\u001b[39m, order_id):\n\u001b[1;32m--> 305\u001b[0m     \u001b[38;5;28;01mreturn\u001b[39;00m \u001b[38;5;28;43mself\u001b[39;49m\u001b[38;5;241;43m.\u001b[39;49m\u001b[43m__ids\u001b[49m\u001b[43m[\u001b[49m\u001b[43morder_id\u001b[49m\u001b[43m]\u001b[49m\n",
      "\u001b[1;31mKeyError\u001b[0m: 18"
     ]
    }
   ],
   "source": [
    "random_order = random.choice(orders)\n",
    "\n",
    "print(random_order.id)\n",
    "order_list.remove(random_order)\n",
    "order_list[random_order.id]\n",
    "# error"
   ]
  },
  {
   "cell_type": "code",
   "execution_count": 83,
   "metadata": {},
   "outputs": [
    {
     "name": "stdout",
     "output_type": "stream",
     "text": [
      "6\n",
      "id=6 order_type=<OrderType.ASK: 'ask'> price=101.70131585168942 volume=32 owner_id=4 status=<OrderStatus.FILLED: 3> created=datetime.datetime(2024, 2, 24, 20, 20, 15, 187257) updated=datetime.datetime(2024, 2, 24, 20, 20, 15, 970819) listed=datetime.datetime(2024, 2, 24, 20, 20, 15, 275008)\n",
      "id=6 order_type=<OrderType.ASK: 'ask'> price=101.70131585168942 volume=32 owner_id=4 status=<OrderStatus.RESTORED: 6> created=datetime.datetime(2024, 2, 24, 20, 20, 15, 187257) updated=datetime.datetime(2024, 2, 24, 20, 20, 15, 971817) listed=datetime.datetime(2024, 2, 24, 20, 20, 15, 971817)\n",
      "id=6 order_type=<OrderType.ASK: 'ask'> price=101.70131585168942 volume=32 owner_id=4 status=<OrderStatus.EXPIRED: 7> created=datetime.datetime(2024, 2, 24, 20, 20, 15, 187257) updated=datetime.datetime(2024, 2, 24, 20, 20, 15, 971817) listed=datetime.datetime(2024, 2, 24, 20, 20, 15, 971817)\n",
      "id=6 order_type=<OrderType.ASK: 'ask'> price=101.70131585168942 volume=32 owner_id=4 status=<OrderStatus.CANCELLED: 5> created=datetime.datetime(2024, 2, 24, 20, 20, 15, 187257) updated=datetime.datetime(2024, 2, 24, 20, 20, 15, 971817) listed=datetime.datetime(2024, 2, 24, 20, 20, 15, 971817)\n"
     ]
    },
    {
     "ename": "ValueError",
     "evalue": "Order is not active.",
     "output_type": "error",
     "traceback": [
      "\u001b[1;31m---------------------------------------------------------------------------\u001b[0m",
      "\u001b[1;31mValueError\u001b[0m                                Traceback (most recent call last)",
      "Cell \u001b[1;32mIn[83], line 16\u001b[0m\n\u001b[0;32m     14\u001b[0m order_list\u001b[38;5;241m.\u001b[39mcancel(random_order)\n\u001b[0;32m     15\u001b[0m \u001b[38;5;28mprint\u001b[39m(order_list[random_order\u001b[38;5;241m.\u001b[39mid])\n\u001b[1;32m---> 16\u001b[0m \u001b[43morder_list\u001b[49m\u001b[38;5;241;43m.\u001b[39;49m\u001b[43mcancel\u001b[49m\u001b[43m(\u001b[49m\u001b[43mrandom_order\u001b[49m\u001b[43m)\u001b[49m\n\u001b[0;32m     17\u001b[0m \u001b[38;5;66;03m# error order is already canceled\u001b[39;00m\n",
      "Cell \u001b[1;32mIn[78], line 245\u001b[0m, in \u001b[0;36mOrderList.cancel\u001b[1;34m(self, order)\u001b[0m\n\u001b[0;32m    243\u001b[0m     \u001b[38;5;28;01mraise\u001b[39;00m \u001b[38;5;167;01mValueError\u001b[39;00m(\u001b[38;5;124m\"\u001b[39m\u001b[38;5;124mInvalid order type\u001b[39m\u001b[38;5;124m\"\u001b[39m)\n\u001b[0;32m    244\u001b[0m \u001b[38;5;28;01mif\u001b[39;00m \u001b[38;5;129;01mnot\u001b[39;00m order\u001b[38;5;241m.\u001b[39mstatus\u001b[38;5;241m.\u001b[39mis_active:\n\u001b[1;32m--> 245\u001b[0m     \u001b[38;5;28;01mraise\u001b[39;00m \u001b[38;5;167;01mValueError\u001b[39;00m(\u001b[38;5;124m\"\u001b[39m\u001b[38;5;124mOrder is not active.\u001b[39m\u001b[38;5;124m\"\u001b[39m)\n\u001b[0;32m    246\u001b[0m \u001b[38;5;28mself\u001b[39m\u001b[38;5;241m.\u001b[39m__order_list\u001b[38;5;241m.\u001b[39mremove(order)\n\u001b[0;32m    247\u001b[0m order\u001b[38;5;241m.\u001b[39mstatus \u001b[38;5;241m=\u001b[39m OrderStatus\u001b[38;5;241m.\u001b[39mCANCELLED\n",
      "\u001b[1;31mValueError\u001b[0m: Order is not active."
     ]
    }
   ],
   "source": [
    "random_order = random.choice(orders)\n",
    "\n",
    "print(random_order.id)\n",
    "order_list.unlist(random_order, OrderStatus.FILLED)\n",
    "print(order_list[random_order.id])\n",
    "# inactive\n",
    "order_list.relist(random_order)\n",
    "print(order_list[random_order.id])\n",
    "# active\n",
    "order_list.expire(random_order)\n",
    "print(order_list[random_order.id])\n",
    "# expired\n",
    "order_list.relist(random_order)\n",
    "order_list.cancel(random_order)\n",
    "print(order_list[random_order.id])\n",
    "order_list.cancel(random_order)\n",
    "# error order is already canceled\n"
   ]
  },
  {
   "cell_type": "code",
   "execution_count": 84,
   "metadata": {},
   "outputs": [
    {
     "ename": "ValueError",
     "evalue": "Order cannot be unlisted with active status.",
     "output_type": "error",
     "traceback": [
      "\u001b[1;31m---------------------------------------------------------------------------\u001b[0m",
      "\u001b[1;31mValueError\u001b[0m                                Traceback (most recent call last)",
      "Cell \u001b[1;32mIn[84], line 2\u001b[0m\n\u001b[0;32m      1\u001b[0m order_list\u001b[38;5;241m.\u001b[39mrelist(random_order)\n\u001b[1;32m----> 2\u001b[0m \u001b[43morder_list\u001b[49m\u001b[38;5;241;43m.\u001b[39;49m\u001b[43munlist\u001b[49m\u001b[43m(\u001b[49m\u001b[43mrandom_order\u001b[49m\u001b[43m,\u001b[49m\u001b[43m \u001b[49m\u001b[43mOrderStatus\u001b[49m\u001b[38;5;241;43m.\u001b[39;49m\u001b[43mPARTIALLY_FILLED\u001b[49m\u001b[43m)\u001b[49m\n\u001b[0;32m      3\u001b[0m \u001b[38;5;66;03m# error\u001b[39;00m\n",
      "Cell \u001b[1;32mIn[78], line 188\u001b[0m, in \u001b[0;36mOrderList.unlist\u001b[1;34m(self, order, order_status)\u001b[0m\n\u001b[0;32m    186\u001b[0m     \u001b[38;5;28;01mraise\u001b[39;00m \u001b[38;5;167;01mValueError\u001b[39;00m(\u001b[38;5;124m\"\u001b[39m\u001b[38;5;124mOrder is not active.\u001b[39m\u001b[38;5;124m\"\u001b[39m)\n\u001b[0;32m    187\u001b[0m \u001b[38;5;28;01mif\u001b[39;00m order_status\u001b[38;5;241m.\u001b[39mis_active:\n\u001b[1;32m--> 188\u001b[0m     \u001b[38;5;28;01mraise\u001b[39;00m \u001b[38;5;167;01mValueError\u001b[39;00m(\u001b[38;5;124m\"\u001b[39m\u001b[38;5;124mOrder cannot be unlisted with active status.\u001b[39m\u001b[38;5;124m\"\u001b[39m)\n\u001b[0;32m    189\u001b[0m \u001b[38;5;28mself\u001b[39m\u001b[38;5;241m.\u001b[39m__order_list\u001b[38;5;241m.\u001b[39mremove(order)\n\u001b[0;32m    190\u001b[0m order\u001b[38;5;241m.\u001b[39mstatus \u001b[38;5;241m=\u001b[39m order_status\n",
      "\u001b[1;31mValueError\u001b[0m: Order cannot be unlisted with active status."
     ]
    }
   ],
   "source": [
    "order_list.relist(random_order)\n",
    "order_list.unlist(random_order, OrderStatus.PARTIALLY_FILLED)\n",
    "# error"
   ]
  },
  {
   "cell_type": "markdown",
   "metadata": {},
   "source": [
    "### filling "
   ]
  },
  {
   "cell_type": "code",
   "execution_count": 85,
   "metadata": {},
   "outputs": [
    {
     "name": "stdout",
     "output_type": "stream",
     "text": [
      "id=16 order_type=<OrderType.ASK: 'ask'> price=96.4238155325062 volume=30 owner_id=3 status=<OrderStatus.CREATED: 1> created=datetime.datetime(2024, 2, 24, 20, 20, 15, 188255) updated=datetime.datetime(2024, 2, 24, 20, 20, 15, 275008) listed=datetime.datetime(2024, 2, 24, 20, 20, 15, 275008)\n",
      "id=16 order_type=<OrderType.ASK: 'ask'> price=96.4238155325062 volume=20 owner_id=3 status=<OrderStatus.PARTIALLY_FILLED: 2> created=datetime.datetime(2024, 2, 24, 20, 20, 15, 188255) updated=datetime.datetime(2024, 2, 24, 20, 20, 16, 842710) listed=datetime.datetime(2024, 2, 24, 20, 20, 15, 275008)\n"
     ]
    }
   ],
   "source": [
    "random_order = random.choice(orders)\n",
    "print(random_order)\n",
    "order_list.fill(random_order, 10)\n",
    "print(order_list[random_order.id])"
   ]
  },
  {
   "cell_type": "code",
   "execution_count": 86,
   "metadata": {},
   "outputs": [
    {
     "ename": "ValueError",
     "evalue": "Volume is greater than order volume",
     "output_type": "error",
     "traceback": [
      "\u001b[1;31m---------------------------------------------------------------------------\u001b[0m",
      "\u001b[1;31mValueError\u001b[0m                                Traceback (most recent call last)",
      "Cell \u001b[1;32mIn[86], line 1\u001b[0m\n\u001b[1;32m----> 1\u001b[0m \u001b[43morder_list\u001b[49m\u001b[38;5;241;43m.\u001b[39;49m\u001b[43mfill\u001b[49m\u001b[43m(\u001b[49m\u001b[43mrandom_order\u001b[49m\u001b[43m,\u001b[49m\u001b[43m \u001b[49m\u001b[43mrandom_order\u001b[49m\u001b[38;5;241;43m.\u001b[39;49m\u001b[43mvolume\u001b[49m\u001b[43m \u001b[49m\u001b[38;5;241;43m+\u001b[39;49m\u001b[43m \u001b[49m\u001b[38;5;241;43m10\u001b[39;49m\u001b[43m)\u001b[49m\n\u001b[0;32m      2\u001b[0m \u001b[38;5;66;03m# error\u001b[39;00m\n",
      "Cell \u001b[1;32mIn[78], line 261\u001b[0m, in \u001b[0;36mOrderList.fill\u001b[1;34m(self, order, volume)\u001b[0m\n\u001b[0;32m    259\u001b[0m     \u001b[38;5;28;01mraise\u001b[39;00m \u001b[38;5;167;01mValueError\u001b[39;00m(\u001b[38;5;124m\"\u001b[39m\u001b[38;5;124mOrder is not active.\u001b[39m\u001b[38;5;124m\"\u001b[39m)\n\u001b[0;32m    260\u001b[0m \u001b[38;5;28;01mif\u001b[39;00m volume \u001b[38;5;241m>\u001b[39m order\u001b[38;5;241m.\u001b[39mvolume:\n\u001b[1;32m--> 261\u001b[0m     \u001b[38;5;28;01mraise\u001b[39;00m \u001b[38;5;167;01mValueError\u001b[39;00m(\u001b[38;5;124m\"\u001b[39m\u001b[38;5;124mVolume is greater than order volume\u001b[39m\u001b[38;5;124m\"\u001b[39m)\n\u001b[0;32m    262\u001b[0m order\u001b[38;5;241m.\u001b[39mvolume \u001b[38;5;241m-\u001b[39m\u001b[38;5;241m=\u001b[39m volume\n\u001b[0;32m    263\u001b[0m \u001b[38;5;28;01mif\u001b[39;00m order\u001b[38;5;241m.\u001b[39mvolume \u001b[38;5;241m==\u001b[39m \u001b[38;5;241m0\u001b[39m:\n",
      "\u001b[1;31mValueError\u001b[0m: Volume is greater than order volume"
     ]
    }
   ],
   "source": [
    "order_list.fill(random_order, random_order.volume + 10)\n",
    "# error"
   ]
  },
  {
   "cell_type": "code",
   "execution_count": 87,
   "metadata": {},
   "outputs": [
    {
     "ename": "ValueError",
     "evalue": "Volume must be positive",
     "output_type": "error",
     "traceback": [
      "\u001b[1;31m---------------------------------------------------------------------------\u001b[0m",
      "\u001b[1;31mValueError\u001b[0m                                Traceback (most recent call last)",
      "Cell \u001b[1;32mIn[87], line 1\u001b[0m\n\u001b[1;32m----> 1\u001b[0m \u001b[43morder_list\u001b[49m\u001b[38;5;241;43m.\u001b[39;49m\u001b[43mfill\u001b[49m\u001b[43m(\u001b[49m\u001b[43mrandom_order\u001b[49m\u001b[43m,\u001b[49m\u001b[43m \u001b[49m\u001b[38;5;241;43m-\u001b[39;49m\u001b[38;5;241;43m11\u001b[39;49m\u001b[43m)\u001b[49m\n\u001b[0;32m      2\u001b[0m \u001b[38;5;66;03m# error\u001b[39;00m\n",
      "Cell \u001b[1;32mIn[78], line 251\u001b[0m, in \u001b[0;36mOrderList.fill\u001b[1;34m(self, order, volume)\u001b[0m\n\u001b[0;32m    249\u001b[0m \u001b[38;5;28;01mdef\u001b[39;00m \u001b[38;5;21mfill\u001b[39m(\u001b[38;5;28mself\u001b[39m, order: Union[Order, \u001b[38;5;28mint\u001b[39m], volume: \u001b[38;5;28mint\u001b[39m) \u001b[38;5;241m-\u001b[39m\u001b[38;5;241m>\u001b[39m \u001b[38;5;28;01mNone\u001b[39;00m:\n\u001b[0;32m    250\u001b[0m     \u001b[38;5;28;01mif\u001b[39;00m volume \u001b[38;5;241m<\u001b[39m\u001b[38;5;241m=\u001b[39m \u001b[38;5;241m0\u001b[39m:\n\u001b[1;32m--> 251\u001b[0m         \u001b[38;5;28;01mraise\u001b[39;00m \u001b[38;5;167;01mValueError\u001b[39;00m(\u001b[38;5;124m\"\u001b[39m\u001b[38;5;124mVolume must be positive\u001b[39m\u001b[38;5;124m\"\u001b[39m)\n\u001b[0;32m    252\u001b[0m     \u001b[38;5;28;01mif\u001b[39;00m \u001b[38;5;28misinstance\u001b[39m(order, \u001b[38;5;28mint\u001b[39m):\n\u001b[0;32m    253\u001b[0m         order \u001b[38;5;241m=\u001b[39m \u001b[38;5;28mself\u001b[39m\u001b[38;5;241m.\u001b[39m__ids\u001b[38;5;241m.\u001b[39mget(order)\n",
      "\u001b[1;31mValueError\u001b[0m: Volume must be positive"
     ]
    }
   ],
   "source": [
    "order_list.fill(random_order, -11)\n",
    "# error"
   ]
  },
  {
   "cell_type": "code",
   "execution_count": 88,
   "metadata": {},
   "outputs": [
    {
     "data": {
      "text/plain": [
       "Order(id=2, order_type=<OrderType.ASK: 'ask'>, price=100.66665333771964, volume=0, owner_id=10, status=<OrderStatus.FILLED: 3>, created=datetime.datetime(2024, 2, 24, 20, 20, 15, 187257), updated=datetime.datetime(2024, 2, 24, 20, 20, 17, 331215), listed=datetime.datetime(2024, 2, 24, 20, 20, 15, 275008))"
      ]
     },
     "execution_count": 88,
     "metadata": {},
     "output_type": "execute_result"
    }
   ],
   "source": [
    "random_order = random.choice(orders)\n",
    "order_list.fill(random_order, random_order.volume)\n",
    "# filled order will be unlisted\n",
    "order_list[random_order.id]"
   ]
  },
  {
   "cell_type": "code",
   "execution_count": 89,
   "metadata": {},
   "outputs": [
    {
     "data": {
      "text/plain": [
       "[Order(id=3, order_type=<OrderType.ASK: 'ask'>, price=100.02901457203792, volume=36, owner_id=6, status=<OrderStatus.CREATED: 1>, created=datetime.datetime(2024, 2, 24, 20, 20, 15, 187257), updated=datetime.datetime(2024, 2, 24, 20, 20, 15, 275008), listed=datetime.datetime(2024, 2, 24, 20, 20, 15, 275008)),\n",
       " Order(id=18, order_type=<OrderType.ASK: 'ask'>, price=101.14021182702777, volume=44, owner_id=2, status=<OrderStatus.CREATED: 1>, created=datetime.datetime(2024, 2, 24, 20, 20, 15, 188255), updated=datetime.datetime(2024, 2, 24, 20, 20, 15, 275008), listed=datetime.datetime(2024, 2, 24, 20, 20, 15, 275008)),\n",
       " Order(id=8, order_type=<OrderType.ASK: 'ask'>, price=101.65510958678865, volume=52, owner_id=2, status=<OrderStatus.CREATED: 1>, created=datetime.datetime(2024, 2, 24, 20, 20, 15, 187257), updated=datetime.datetime(2024, 2, 24, 20, 20, 15, 275008), listed=datetime.datetime(2024, 2, 24, 20, 20, 15, 275008)),\n",
       " Order(id=6, order_type=<OrderType.ASK: 'ask'>, price=101.70131585168942, volume=32, owner_id=4, status=<OrderStatus.RESTORED: 6>, created=datetime.datetime(2024, 2, 24, 20, 20, 15, 187257), updated=datetime.datetime(2024, 2, 24, 20, 20, 16, 408807), listed=datetime.datetime(2024, 2, 24, 20, 20, 16, 408807)),\n",
       " Order(id=12, order_type=<OrderType.ASK: 'ask'>, price=101.96934616151468, volume=70, owner_id=3, status=<OrderStatus.CREATED: 1>, created=datetime.datetime(2024, 2, 24, 20, 20, 15, 187257), updated=datetime.datetime(2024, 2, 24, 20, 20, 15, 275008), listed=datetime.datetime(2024, 2, 24, 20, 20, 15, 275008)),\n",
       " Order(id=7, order_type=<OrderType.ASK: 'ask'>, price=102.27475537353095, volume=10, owner_id=7, status=<OrderStatus.CREATED: 1>, created=datetime.datetime(2024, 2, 24, 20, 20, 15, 187257), updated=datetime.datetime(2024, 2, 24, 20, 20, 15, 275008), listed=datetime.datetime(2024, 2, 24, 20, 20, 15, 275008)),\n",
       " Order(id=10, order_type=<OrderType.ASK: 'ask'>, price=102.94171056175085, volume=66, owner_id=9, status=<OrderStatus.CREATED: 1>, created=datetime.datetime(2024, 2, 24, 20, 20, 15, 187257), updated=datetime.datetime(2024, 2, 24, 20, 20, 15, 275008), listed=datetime.datetime(2024, 2, 24, 20, 20, 15, 275008)),\n",
       " Order(id=14, order_type=<OrderType.ASK: 'ask'>, price=103.01879798653795, volume=19, owner_id=1, status=<OrderStatus.CREATED: 1>, created=datetime.datetime(2024, 2, 24, 20, 20, 15, 188255), updated=datetime.datetime(2024, 2, 24, 20, 20, 15, 275008), listed=datetime.datetime(2024, 2, 24, 20, 20, 15, 275008)),\n",
       " Order(id=15, order_type=<OrderType.ASK: 'ask'>, price=103.60972534706278, volume=34, owner_id=10, status=<OrderStatus.CREATED: 1>, created=datetime.datetime(2024, 2, 24, 20, 20, 15, 188255), updated=datetime.datetime(2024, 2, 24, 20, 20, 15, 275008), listed=datetime.datetime(2024, 2, 24, 20, 20, 15, 275008)),\n",
       " Order(id=5, order_type=<OrderType.ASK: 'ask'>, price=103.61615791342462, volume=14, owner_id=8, status=<OrderStatus.CREATED: 1>, created=datetime.datetime(2024, 2, 24, 20, 20, 15, 187257), updated=datetime.datetime(2024, 2, 24, 20, 20, 15, 275008), listed=datetime.datetime(2024, 2, 24, 20, 20, 15, 275008)),\n",
       " Order(id=17, order_type=<OrderType.ASK: 'ask'>, price=104.44722128177636, volume=25, owner_id=10, status=<OrderStatus.CREATED: 1>, created=datetime.datetime(2024, 2, 24, 20, 20, 15, 188255), updated=datetime.datetime(2024, 2, 24, 20, 20, 15, 275008), listed=datetime.datetime(2024, 2, 24, 20, 20, 15, 275008)),\n",
       " Order(id=19, order_type=<OrderType.ASK: 'ask'>, price=105.75253282969051, volume=32, owner_id=8, status=<OrderStatus.CREATED: 1>, created=datetime.datetime(2024, 2, 24, 20, 20, 15, 188255), updated=datetime.datetime(2024, 2, 24, 20, 20, 15, 275008), listed=datetime.datetime(2024, 2, 24, 20, 20, 15, 275008)),\n",
       " Order(id=9, order_type=<OrderType.ASK: 'ask'>, price=105.94469919086532, volume=44, owner_id=3, status=<OrderStatus.CREATED: 1>, created=datetime.datetime(2024, 2, 24, 20, 20, 15, 187257), updated=datetime.datetime(2024, 2, 24, 20, 20, 15, 275008), listed=datetime.datetime(2024, 2, 24, 20, 20, 15, 275008)),\n",
       " Order(id=13, order_type=<OrderType.ASK: 'ask'>, price=106.35669675788033, volume=34, owner_id=3, status=<OrderStatus.CREATED: 1>, created=datetime.datetime(2024, 2, 24, 20, 20, 15, 187257), updated=datetime.datetime(2024, 2, 24, 20, 20, 15, 275008), listed=datetime.datetime(2024, 2, 24, 20, 20, 15, 275008)),\n",
       " Order(id=4, order_type=<OrderType.ASK: 'ask'>, price=107.3898071650771, volume=57, owner_id=10, status=<OrderStatus.CREATED: 1>, created=datetime.datetime(2024, 2, 24, 20, 20, 15, 187257), updated=datetime.datetime(2024, 2, 24, 20, 20, 15, 275008), listed=datetime.datetime(2024, 2, 24, 20, 20, 15, 275008))]"
      ]
     },
     "execution_count": 89,
     "metadata": {},
     "output_type": "execute_result"
    }
   ],
   "source": [
    "order_list.bisect_left(100)"
   ]
  },
  {
   "cell_type": "markdown",
   "metadata": {},
   "source": [
    "### modify tests"
   ]
  },
  {
   "cell_type": "code",
   "execution_count": 90,
   "metadata": {},
   "outputs": [
    {
     "name": "stdout",
     "output_type": "stream",
     "text": [
      "19\n"
     ]
    },
    {
     "data": {
      "text/plain": [
       "SortedList([])"
      ]
     },
     "execution_count": 90,
     "metadata": {},
     "output_type": "execute_result"
    }
   ],
   "source": [
    "print(len(order_list))\n",
    "order_list.clear()\n",
    "order_list"
   ]
  },
  {
   "cell_type": "code",
   "execution_count": 91,
   "metadata": {},
   "outputs": [
    {
     "name": "stdout",
     "output_type": "stream",
     "text": [
      "3\n",
      "id=1 order_type=<OrderType.BID: 'bid'> price=98.9423934225989 volume=47 owner_id=5 status=<OrderStatus.CREATED: 1> created=datetime.datetime(2024, 2, 24, 20, 20, 19, 32659) updated=datetime.datetime(2024, 2, 24, 20, 20, 19, 32659) listed=datetime.datetime(2024, 2, 24, 20, 20, 19, 32659)\n",
      "id=3 order_type=<OrderType.BID: 'bid'> price=104.28419556843376 volume=18 owner_id=10 status=<OrderStatus.CREATED: 1> created=datetime.datetime(2024, 2, 24, 20, 20, 19, 32659) updated=datetime.datetime(2024, 2, 24, 20, 20, 19, 32659) listed=datetime.datetime(2024, 2, 24, 20, 20, 19, 32659)\n",
      "id=2 order_type=<OrderType.BID: 'bid'> price=107.0168944192405 volume=65 owner_id=9 status=<OrderStatus.CREATED: 1> created=datetime.datetime(2024, 2, 24, 20, 20, 19, 32659) updated=datetime.datetime(2024, 2, 24, 20, 20, 19, 32659) listed=datetime.datetime(2024, 2, 24, 20, 20, 19, 32659)\n"
     ]
    }
   ],
   "source": [
    "orders = []\n",
    "order_list = OrderList(order_type=OrderType.BID)\n",
    "for i in range(3):\n",
    "    orders.append(\n",
    "        Order(\n",
    "            id=i+1,\n",
    "            order_type=OrderType.BID,\n",
    "            price=random.uniform(95, 110),\n",
    "            volume=random.randint(10, 70),\n",
    "            owner_id=random.randint(1, 10),\n",
    "        )\n",
    "    )\n",
    "for order in orders:\n",
    "    order_list.add(order)\n",
    "print(len(order_list))\n",
    "\n",
    "for order in order_list:\n",
    "    print(order)"
   ]
  },
  {
   "cell_type": "code",
   "execution_count": 92,
   "metadata": {},
   "outputs": [
    {
     "name": "stdout",
     "output_type": "stream",
     "text": [
      "1\n",
      "id=1 order_type=<OrderType.BID: 'bid'> price=100 volume=100 owner_id=5 status=<OrderStatus.MODIFIED: 4> created=datetime.datetime(2024, 2, 24, 20, 20, 19, 32659) updated=datetime.datetime(2024, 2, 24, 20, 20, 19, 800212) listed=datetime.datetime(2024, 2, 24, 20, 20, 19, 32659)\n",
      "id=3 order_type=<OrderType.BID: 'bid'> price=104.28419556843376 volume=18 owner_id=10 status=<OrderStatus.CREATED: 1> created=datetime.datetime(2024, 2, 24, 20, 20, 19, 32659) updated=datetime.datetime(2024, 2, 24, 20, 20, 19, 32659) listed=datetime.datetime(2024, 2, 24, 20, 20, 19, 32659)\n",
      "id=2 order_type=<OrderType.BID: 'bid'> price=107.0168944192405 volume=65 owner_id=9 status=<OrderStatus.CREATED: 1> created=datetime.datetime(2024, 2, 24, 20, 20, 19, 32659) updated=datetime.datetime(2024, 2, 24, 20, 20, 19, 32659) listed=datetime.datetime(2024, 2, 24, 20, 20, 19, 32659)\n"
     ]
    }
   ],
   "source": [
    "random_order = random.choice(orders)\n",
    "print(random_order.id)\n",
    "order_list.modify(random_order.id, price=100, volume=100)\n",
    "\n",
    "for order in order_list:\n",
    "    print(order)"
   ]
  },
  {
   "cell_type": "code",
   "execution_count": 94,
   "metadata": {},
   "outputs": [
    {
     "data": {
      "text/plain": [
       "Order(id=1, order_type=<OrderType.BID: 'bid'>, price=100, volume=100, owner_id=5, status=<OrderStatus.MODIFIED: 4>, created=datetime.datetime(2024, 2, 24, 20, 20, 19, 32659), updated=datetime.datetime(2024, 2, 24, 20, 20, 19, 800212), listed=datetime.datetime(2024, 2, 24, 20, 20, 19, 32659))"
      ]
     },
     "execution_count": 94,
     "metadata": {},
     "output_type": "execute_result"
    }
   ],
   "source": []
  },
  {
   "cell_type": "code",
   "execution_count": null,
   "metadata": {},
   "outputs": [],
   "source": []
  },
  {
   "cell_type": "code",
   "execution_count": null,
   "metadata": {},
   "outputs": [],
   "source": []
  },
  {
   "cell_type": "code",
   "execution_count": null,
   "metadata": {},
   "outputs": [],
   "source": []
  }
 ],
 "metadata": {
  "kernelspec": {
   "display_name": ".venv",
   "language": "python",
   "name": "python3"
  },
  "language_info": {
   "codemirror_mode": {
    "name": "ipython",
    "version": 3
   },
   "file_extension": ".py",
   "mimetype": "text/x-python",
   "name": "python",
   "nbconvert_exporter": "python",
   "pygments_lexer": "ipython3",
   "version": "3.11.3"
  }
 },
 "nbformat": 4,
 "nbformat_minor": 2
}
